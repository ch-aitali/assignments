{
  "nbformat": 4,
  "nbformat_minor": 0,
  "metadata": {
    "colab": {
      "name": "new text mining Q2 assi.ipynb",
      "provenance": [],
      "authorship_tag": "ABX9TyN0CiWpj+ym5CgEnDn5b8eN",
      "include_colab_link": true
    },
    "kernelspec": {
      "name": "python3",
      "display_name": "Python 3"
    },
    "language_info": {
      "name": "python"
    }
  },
  "cells": [
    {
      "cell_type": "markdown",
      "metadata": {
        "id": "view-in-github",
        "colab_type": "text"
      },
      "source": [
        "<a href=\"https://colab.research.google.com/github/ch-aitali/assignments/blob/main/new_text_mining_Q2_assi.ipynb\" target=\"_parent\"><img src=\"https://colab.research.google.com/assets/colab-badge.svg\" alt=\"Open In Colab\"/></a>"
      ]
    },
    {
      "cell_type": "code",
      "execution_count": 1,
      "metadata": {
        "colab": {
          "base_uri": "https://localhost:8080/"
        },
        "id": "bFrFM5NUpCbc",
        "outputId": "f9713b15-1a80-4d5c-fee6-6026cc39dc4b"
      },
      "outputs": [
        {
          "output_type": "stream",
          "name": "stdout",
          "text": [
            "Requirement already satisfied: spacy in /usr/local/lib/python3.7/dist-packages (2.2.4)\n",
            "Requirement already satisfied: setuptools in /usr/local/lib/python3.7/dist-packages (from spacy) (57.4.0)\n",
            "Requirement already satisfied: numpy>=1.15.0 in /usr/local/lib/python3.7/dist-packages (from spacy) (1.19.5)\n",
            "Requirement already satisfied: blis<0.5.0,>=0.4.0 in /usr/local/lib/python3.7/dist-packages (from spacy) (0.4.1)\n",
            "Requirement already satisfied: catalogue<1.1.0,>=0.0.7 in /usr/local/lib/python3.7/dist-packages (from spacy) (1.0.0)\n",
            "Requirement already satisfied: thinc==7.4.0 in /usr/local/lib/python3.7/dist-packages (from spacy) (7.4.0)\n",
            "Requirement already satisfied: murmurhash<1.1.0,>=0.28.0 in /usr/local/lib/python3.7/dist-packages (from spacy) (1.0.6)\n",
            "Requirement already satisfied: wasabi<1.1.0,>=0.4.0 in /usr/local/lib/python3.7/dist-packages (from spacy) (0.9.0)\n",
            "Requirement already satisfied: preshed<3.1.0,>=3.0.2 in /usr/local/lib/python3.7/dist-packages (from spacy) (3.0.6)\n",
            "Requirement already satisfied: cymem<2.1.0,>=2.0.2 in /usr/local/lib/python3.7/dist-packages (from spacy) (2.0.6)\n",
            "Requirement already satisfied: srsly<1.1.0,>=1.0.2 in /usr/local/lib/python3.7/dist-packages (from spacy) (1.0.5)\n",
            "Requirement already satisfied: plac<1.2.0,>=0.9.6 in /usr/local/lib/python3.7/dist-packages (from spacy) (1.1.3)\n",
            "Requirement already satisfied: tqdm<5.0.0,>=4.38.0 in /usr/local/lib/python3.7/dist-packages (from spacy) (4.62.3)\n",
            "Requirement already satisfied: requests<3.0.0,>=2.13.0 in /usr/local/lib/python3.7/dist-packages (from spacy) (2.23.0)\n",
            "Requirement already satisfied: importlib-metadata>=0.20 in /usr/local/lib/python3.7/dist-packages (from catalogue<1.1.0,>=0.0.7->spacy) (4.10.0)\n",
            "Requirement already satisfied: zipp>=0.5 in /usr/local/lib/python3.7/dist-packages (from importlib-metadata>=0.20->catalogue<1.1.0,>=0.0.7->spacy) (3.7.0)\n",
            "Requirement already satisfied: typing-extensions>=3.6.4 in /usr/local/lib/python3.7/dist-packages (from importlib-metadata>=0.20->catalogue<1.1.0,>=0.0.7->spacy) (3.10.0.2)\n",
            "Requirement already satisfied: chardet<4,>=3.0.2 in /usr/local/lib/python3.7/dist-packages (from requests<3.0.0,>=2.13.0->spacy) (3.0.4)\n",
            "Requirement already satisfied: idna<3,>=2.5 in /usr/local/lib/python3.7/dist-packages (from requests<3.0.0,>=2.13.0->spacy) (2.10)\n",
            "Requirement already satisfied: urllib3!=1.25.0,!=1.25.1,<1.26,>=1.21.1 in /usr/local/lib/python3.7/dist-packages (from requests<3.0.0,>=2.13.0->spacy) (1.24.3)\n",
            "Requirement already satisfied: certifi>=2017.4.17 in /usr/local/lib/python3.7/dist-packages (from requests<3.0.0,>=2.13.0->spacy) (2021.10.8)\n",
            "Requirement already satisfied: wordcloud in /usr/local/lib/python3.7/dist-packages (1.5.0)\n",
            "Requirement already satisfied: pillow in /usr/local/lib/python3.7/dist-packages (from wordcloud) (7.1.2)\n",
            "Requirement already satisfied: numpy>=1.6.1 in /usr/local/lib/python3.7/dist-packages (from wordcloud) (1.19.5)\n"
          ]
        }
      ],
      "source": [
        "!pip install spacy\n",
        "!pip install wordcloud"
      ]
    },
    {
      "cell_type": "code",
      "source": [
        "\n",
        "import pandas as pd\n",
        "import numpy as np\n",
        "import tweepy\n",
        "import re \n",
        "import matplotlib.pyplot as plt\n",
        "from wordcloud import WordCloud\n",
        "from nltk.tokenize import word_tokenize\n",
        "from nltk.corpus import stopwords\n",
        "import nltk\n",
        "from nltk.stem import WordNetLemmatizer\n",
        "from nltk.corpus import stopwords\n",
        "wordnet = WordNetLemmatizer()\n",
        "import re\n",
        "from nltk.tokenize import sent_tokenize\n",
        "from sklearn.feature_extraction.text import TfidfVectorizer\n",
        "import requests\n",
        "from bs4 import BeautifulSoup as bs\n",
        "import spacy"
      ],
      "metadata": {
        "id": "LUSPTtD1pECc"
      },
      "execution_count": 2,
      "outputs": []
    },
    {
      "cell_type": "code",
      "source": [
        "nltk.download('stopwords')\n",
        "nltk.download('punkt')\n",
        "nltk.download('wordnet')"
      ],
      "metadata": {
        "colab": {
          "base_uri": "https://localhost:8080/"
        },
        "id": "fEtgdHjPpEEh",
        "outputId": "73a96992-a231-4ade-cade-ed18c984a43c"
      },
      "execution_count": 3,
      "outputs": [
        {
          "output_type": "stream",
          "name": "stdout",
          "text": [
            "[nltk_data] Downloading package stopwords to /root/nltk_data...\n",
            "[nltk_data]   Unzipping corpora/stopwords.zip.\n",
            "[nltk_data] Downloading package punkt to /root/nltk_data...\n",
            "[nltk_data]   Unzipping tokenizers/punkt.zip.\n",
            "[nltk_data] Downloading package wordnet to /root/nltk_data...\n",
            "[nltk_data]   Unzipping corpora/wordnet.zip.\n"
          ]
        },
        {
          "output_type": "execute_result",
          "data": {
            "text/plain": [
              "True"
            ]
          },
          "metadata": {},
          "execution_count": 3
        }
      ]
    },
    {
      "cell_type": "code",
      "source": [
        "Techno_reviews=[]"
      ],
      "metadata": {
        "id": "jFPE0icPpEG4"
      },
      "execution_count": 4,
      "outputs": []
    },
    {
      "cell_type": "code",
      "source": [
        "for i in range (1,31):\n",
        "    op=[]\n",
        "    \n",
        "    \n",
        "    url =\"https://www.amazon.in/New-Apple-iPhone-Pro-128GB/product-reviews/B08L5V9T31/ref=cm_cr_dp_d_show_all_btm?ie=UTF8&reviewerType=all_reviews\"+str(i)\n",
        "    response = requests.get(url)\n",
        "    soup = bs(response.content,\"html.parser\")\n",
        "    reviews = soup.findAll(\"span\",attrs = {\"class\",\"a-size-base review-text review-text-content\"})\n",
        "    for i in range(len(reviews)):\n",
        "        op.append(reviews[i].text)\n",
        "    Techno_reviews = Techno_reviews+op"
      ],
      "metadata": {
        "id": "gS3BgYekpEJS"
      },
      "execution_count": 5,
      "outputs": []
    },
    {
      "cell_type": "code",
      "source": [
        "Techno_reviews = list(set(Techno_reviews))"
      ],
      "metadata": {
        "id": "u3V80AyfpEMF"
      },
      "execution_count": 6,
      "outputs": []
    },
    {
      "cell_type": "code",
      "source": [
        "txt_upd = ' '.join(Techno_reviews)"
      ],
      "metadata": {
        "id": "10PGNOT7pEOv"
      },
      "execution_count": 7,
      "outputs": []
    },
    {
      "cell_type": "code",
      "source": [
        "txt_upd"
      ],
      "metadata": {
        "colab": {
          "base_uri": "https://localhost:8080/",
          "height": 122
        },
        "id": "xGnoKUbSpERW",
        "outputId": "09e996e7-45c7-4742-9d19-bd8b382cc3f7"
      },
      "execution_count": 8,
      "outputs": [
        {
          "output_type": "execute_result",
          "data": {
            "application/vnd.google.colaboratory.intrinsic+json": {
              "type": "string"
            },
            "text/plain": [
              "\"\\n\\n  The worst phone i ever purchased please don’t buy this fraud product from an irresponsible company.\\n\\n \\n\\n  It’s the best iPhone yet. Camera and display is amazing.\\n\\n \\n\\n  Premium product\\n\\n \\n\\n  After switching on, it switched off automatically and did not turn on, even after following steps from Apple support. Now there is no option to return the item on the website and seller contact details (email, phone) is not available. Highly dissappointed with Amazon as this is a piece worth 1L+ and that too defective, and there is no way to return the product.\\n\\n \\n\\n  NOTE- Please ios users don't read this review.  If you read this, you can't able to stand  properly. Then I'm not responsible for  You. It's not for You!!Please Give this device free also with the charger to me to delete this review. BecauseI will now screaming Against Apple Iphone 12(pro). Really Sorry to apple lovers! 1) Cheap Quality In Very Very High Price.🤯 2) 5 Volt Dumbest Charger.🐮🐮 3) This Phone is most Harmful for Kidneys.⚠️ 4) Apple is Begger in front of Oneplus.  😘love you for Status😘🤣 NOTE-This review is only for the persons who  are planning to buy this one.😂😂\\n\\n \\n\\n  Just made an upgrade from iPhone X to iPhone 12 pro, and I’m simply so blown away by the camera of this phone, the quality of the picture it takes is so very near to that of a high end digital camera. The portrait mode, the night mode, the regular mode, wow, everything just got so much better. This is truly a camera king smartphone available on the market right now. If you are a photographer or loves taking pictures, think no further, just jump in straight with eyes closed to get this phone.The only cons I find with this phone is battery tends to be on the shorter side, other than that, everything’s just so very near to perfection! 👍\\n\\n \\n\\n  Just bought this phone, It is an amazing piece of art. Well crafted. Powerful. Feel great in your palm. Top notch cameras. However, spending over a lakh for a phone that doesn’t comes with a charger or a headphone is rediculous. Apple...don’t be rediculous, making excuses about environmental friendly and blah blah. How do you expect android user that just bought this phone, has a lightning cable lying around on the couch? For that reason, I only give 4 stars; otherwise, a perfect 10 for the phone! Dont waste your money by buying Apple chargers, there are many quality PD charger with lightning cables on Amazon for fraction of the price :)\\n\\n \\n\\n  It is duplicate and look like as same as iPhone 12 Pro but it has Android OS after getting owned now the mobile phone is not getting power on now my screen is not blinking\\n\\n \\n\\n  Received fake mobile.\\n\\n \\n\\n  The iPhone 12 Pro has three cameras against the two in the iPhone 12. So there is an extra 12MP telephoto lens along with the 12MP wide and ultra wide cameras seen on the iPhone 12. Interestingly, the telephoto and the ultra wide cameras have not really changed from the iPhone 11 times. One of the best looking phone in the market right now with a decent performance jump from 11 pro. Camera is excellent and the display is quite responsive and sharp. Only issue is it does not have a higher refresh rate but you won't feel that in a tiny bit!! Go for it!!So far the the battery is just ok I really expected longer life. So far so good!!\\n\\n\""
            ]
          },
          "metadata": {},
          "execution_count": 8
        }
      ]
    },
    {
      "cell_type": "code",
      "source": [
        "##Part Of Speech Tagging\n",
        "#nlp = spacy.load('en')\n",
        "nlp = spacy.load('en_core_web_sm')\n",
        "\n",
        "one_block = txt_upd[150]\n",
        "doc_block = nlp(one_block)\n",
        "spacy.displacy.render(doc_block, style='ent', jupyter=True)"
      ],
      "metadata": {
        "colab": {
          "base_uri": "https://localhost:8080/",
          "height": 106
        },
        "id": "hKLmvFB0pEUh",
        "outputId": "380600c3-4ab4-494f-cf83-df9dea68b96b"
      },
      "execution_count": 9,
      "outputs": [
        {
          "output_type": "stream",
          "name": "stderr",
          "text": [
            "/usr/lib/python3.7/runpy.py:193: UserWarning: [W006] No entities to visualize found in Doc object. If this is surprising to you, make sure the Doc was processed using a model that supports named entity recognition, and check the `doc.ents` property manually if necessary.\n",
            "  \"__main__\", mod_spec)\n"
          ]
        },
        {
          "output_type": "display_data",
          "data": {
            "text/html": [
              "<span class=\"tex2jax_ignore\"><div class=\"entities\" style=\"line-height: 2.5; direction: ltr\">p</div></span>"
            ],
            "text/plain": [
              "<IPython.core.display.HTML object>"
            ]
          },
          "metadata": {}
        }
      ]
    },
    {
      "cell_type": "code",
      "source": [
        "one_block"
      ],
      "metadata": {
        "colab": {
          "base_uri": "https://localhost:8080/",
          "height": 35
        },
        "id": "VI84-v0opEXa",
        "outputId": "16906088-12cc-4c11-d81a-0bd6d739db79"
      },
      "execution_count": 10,
      "outputs": [
        {
          "output_type": "execute_result",
          "data": {
            "application/vnd.google.colaboratory.intrinsic+json": {
              "type": "string"
            },
            "text/plain": [
              "'p'"
            ]
          },
          "metadata": {},
          "execution_count": 10
        }
      ]
    },
    {
      "cell_type": "code",
      "source": [
        "for token in doc_block[0:20]:\n",
        "    print(token, token.pos_)"
      ],
      "metadata": {
        "colab": {
          "base_uri": "https://localhost:8080/"
        },
        "id": "-6-RAJ19pEag",
        "outputId": "1c0ed361-c602-4358-80ac-e9b67b1a0496"
      },
      "execution_count": 11,
      "outputs": [
        {
          "output_type": "stream",
          "name": "stdout",
          "text": [
            "p X\n"
          ]
        }
      ]
    },
    {
      "cell_type": "code",
      "source": [
        "#Filtering for nouns and verbs only\n",
        "nouns_verbs = [token.text for token in doc_block if token.pos_ in ('NOUN', 'VERB')]\n",
        "print(nouns_verbs[2:90])"
      ],
      "metadata": {
        "colab": {
          "base_uri": "https://localhost:8080/"
        },
        "id": "whESRNB5pEdU",
        "outputId": "5609abb2-1156-4afd-a88d-2570cb9c01e1"
      },
      "execution_count": 12,
      "outputs": [
        {
          "output_type": "stream",
          "name": "stdout",
          "text": [
            "[]\n"
          ]
        }
      ]
    },
    {
      "cell_type": "code",
      "source": [
        "text_tokens = word_tokenize(txt_upd)\n",
        "print(text_tokens)"
      ],
      "metadata": {
        "colab": {
          "base_uri": "https://localhost:8080/"
        },
        "id": "CHfXaatTpEjW",
        "outputId": "5906d3e8-dfa4-4831-c72d-1b3b340c830f"
      },
      "execution_count": 13,
      "outputs": [
        {
          "output_type": "stream",
          "name": "stdout",
          "text": [
            "['The', 'worst', 'phone', 'i', 'ever', 'purchased', 'please', 'don', '’', 't', 'buy', 'this', 'fraud', 'product', 'from', 'an', 'irresponsible', 'company', '.', 'It', '’', 's', 'the', 'best', 'iPhone', 'yet', '.', 'Camera', 'and', 'display', 'is', 'amazing', '.', 'Premium', 'product', 'After', 'switching', 'on', ',', 'it', 'switched', 'off', 'automatically', 'and', 'did', 'not', 'turn', 'on', ',', 'even', 'after', 'following', 'steps', 'from', 'Apple', 'support', '.', 'Now', 'there', 'is', 'no', 'option', 'to', 'return', 'the', 'item', 'on', 'the', 'website', 'and', 'seller', 'contact', 'details', '(', 'email', ',', 'phone', ')', 'is', 'not', 'available', '.', 'Highly', 'dissappointed', 'with', 'Amazon', 'as', 'this', 'is', 'a', 'piece', 'worth', '1L+', 'and', 'that', 'too', 'defective', ',', 'and', 'there', 'is', 'no', 'way', 'to', 'return', 'the', 'product', '.', 'NOTE-', 'Please', 'ios', 'users', 'do', \"n't\", 'read', 'this', 'review', '.', 'If', 'you', 'read', 'this', ',', 'you', 'ca', \"n't\", 'able', 'to', 'stand', 'properly', '.', 'Then', 'I', \"'m\", 'not', 'responsible', 'for', 'You', '.', 'It', \"'s\", 'not', 'for', 'You', '!', '!', 'Please', 'Give', 'this', 'device', 'free', 'also', 'with', 'the', 'charger', 'to', 'me', 'to', 'delete', 'this', 'review', '.', 'BecauseI', 'will', 'now', 'screaming', 'Against', 'Apple', 'Iphone', '12', '(', 'pro', ')', '.', 'Really', 'Sorry', 'to', 'apple', 'lovers', '!', '1', ')', 'Cheap', 'Quality', 'In', 'Very', 'Very', 'High', 'Price.🤯', '2', ')', '5', 'Volt', 'Dumbest', 'Charger.🐮🐮', '3', ')', 'This', 'Phone', 'is', 'most', 'Harmful', 'for', 'Kidneys.⚠️', '4', ')', 'Apple', 'is', 'Begger', 'in', 'front', 'of', 'Oneplus', '.', '😘love', 'you', 'for', 'Status😘🤣', 'NOTE-This', 'review', 'is', 'only', 'for', 'the', 'persons', 'who', 'are', 'planning', 'to', 'buy', 'this', 'one.😂😂', 'Just', 'made', 'an', 'upgrade', 'from', 'iPhone', 'X', 'to', 'iPhone', '12', 'pro', ',', 'and', 'I', '’', 'm', 'simply', 'so', 'blown', 'away', 'by', 'the', 'camera', 'of', 'this', 'phone', ',', 'the', 'quality', 'of', 'the', 'picture', 'it', 'takes', 'is', 'so', 'very', 'near', 'to', 'that', 'of', 'a', 'high', 'end', 'digital', 'camera', '.', 'The', 'portrait', 'mode', ',', 'the', 'night', 'mode', ',', 'the', 'regular', 'mode', ',', 'wow', ',', 'everything', 'just', 'got', 'so', 'much', 'better', '.', 'This', 'is', 'truly', 'a', 'camera', 'king', 'smartphone', 'available', 'on', 'the', 'market', 'right', 'now', '.', 'If', 'you', 'are', 'a', 'photographer', 'or', 'loves', 'taking', 'pictures', ',', 'think', 'no', 'further', ',', 'just', 'jump', 'in', 'straight', 'with', 'eyes', 'closed', 'to', 'get', 'this', 'phone.The', 'only', 'cons', 'I', 'find', 'with', 'this', 'phone', 'is', 'battery', 'tends', 'to', 'be', 'on', 'the', 'shorter', 'side', ',', 'other', 'than', 'that', ',', 'everything', '’', 's', 'just', 'so', 'very', 'near', 'to', 'perfection', '!', '👍', 'Just', 'bought', 'this', 'phone', ',', 'It', 'is', 'an', 'amazing', 'piece', 'of', 'art', '.', 'Well', 'crafted', '.', 'Powerful', '.', 'Feel', 'great', 'in', 'your', 'palm', '.', 'Top', 'notch', 'cameras', '.', 'However', ',', 'spending', 'over', 'a', 'lakh', 'for', 'a', 'phone', 'that', 'doesn', '’', 't', 'comes', 'with', 'a', 'charger', 'or', 'a', 'headphone', 'is', 'rediculous', '.', 'Apple', '...', 'don', '’', 't', 'be', 'rediculous', ',', 'making', 'excuses', 'about', 'environmental', 'friendly', 'and', 'blah', 'blah', '.', 'How', 'do', 'you', 'expect', 'android', 'user', 'that', 'just', 'bought', 'this', 'phone', ',', 'has', 'a', 'lightning', 'cable', 'lying', 'around', 'on', 'the', 'couch', '?', 'For', 'that', 'reason', ',', 'I', 'only', 'give', '4', 'stars', ';', 'otherwise', ',', 'a', 'perfect', '10', 'for', 'the', 'phone', '!', 'Dont', 'waste', 'your', 'money', 'by', 'buying', 'Apple', 'chargers', ',', 'there', 'are', 'many', 'quality', 'PD', 'charger', 'with', 'lightning', 'cables', 'on', 'Amazon', 'for', 'fraction', 'of', 'the', 'price', ':', ')', 'It', 'is', 'duplicate', 'and', 'look', 'like', 'as', 'same', 'as', 'iPhone', '12', 'Pro', 'but', 'it', 'has', 'Android', 'OS', 'after', 'getting', 'owned', 'now', 'the', 'mobile', 'phone', 'is', 'not', 'getting', 'power', 'on', 'now', 'my', 'screen', 'is', 'not', 'blinking', 'Received', 'fake', 'mobile', '.', 'The', 'iPhone', '12', 'Pro', 'has', 'three', 'cameras', 'against', 'the', 'two', 'in', 'the', 'iPhone', '12', '.', 'So', 'there', 'is', 'an', 'extra', '12MP', 'telephoto', 'lens', 'along', 'with', 'the', '12MP', 'wide', 'and', 'ultra', 'wide', 'cameras', 'seen', 'on', 'the', 'iPhone', '12', '.', 'Interestingly', ',', 'the', 'telephoto', 'and', 'the', 'ultra', 'wide', 'cameras', 'have', 'not', 'really', 'changed', 'from', 'the', 'iPhone', '11', 'times', '.', 'One', 'of', 'the', 'best', 'looking', 'phone', 'in', 'the', 'market', 'right', 'now', 'with', 'a', 'decent', 'performance', 'jump', 'from', '11', 'pro', '.', 'Camera', 'is', 'excellent', 'and', 'the', 'display', 'is', 'quite', 'responsive', 'and', 'sharp', '.', 'Only', 'issue', 'is', 'it', 'does', 'not', 'have', 'a', 'higher', 'refresh', 'rate', 'but', 'you', 'wo', \"n't\", 'feel', 'that', 'in', 'a', 'tiny', 'bit', '!', '!', 'Go', 'for', 'it', '!', '!', 'So', 'far', 'the', 'the', 'battery', 'is', 'just', 'ok', 'I', 'really', 'expected', 'longer', 'life', '.', 'So', 'far', 'so', 'good', '!', '!']\n"
          ]
        }
      ]
    },
    {
      "cell_type": "code",
      "source": [
        "tokens_without_sw = [word for word in text_tokens if not word in stopwords.words()]\n",
        "print(tokens_without_sw)"
      ],
      "metadata": {
        "colab": {
          "base_uri": "https://localhost:8080/"
        },
        "id": "a3ZXbvmWpEmX",
        "outputId": "1b06c50a-46e6-4734-a3b0-f097503689af"
      },
      "execution_count": 14,
      "outputs": [
        {
          "output_type": "stream",
          "name": "stdout",
          "text": [
            "['The', 'worst', 'phone', 'ever', 'purchased', 'please', '’', 'buy', 'fraud', 'product', 'irresponsible', 'company', '.', 'It', '’', 'best', 'iPhone', 'yet', '.', 'Camera', 'display', 'amazing', '.', 'Premium', 'product', 'After', 'switching', ',', 'switched', 'automatically', 'turn', ',', 'even', 'following', 'steps', 'Apple', 'support', '.', 'Now', 'option', 'return', 'item', 'website', 'seller', 'contact', 'details', '(', 'email', ',', 'phone', ')', 'available', '.', 'Highly', 'dissappointed', 'Amazon', 'piece', 'worth', '1L+', 'defective', ',', 'way', 'return', 'product', '.', 'NOTE-', 'Please', 'ios', 'users', \"n't\", 'read', 'review', '.', 'If', 'read', ',', \"n't\", 'able', 'stand', 'properly', '.', 'Then', 'I', \"'m\", 'responsible', 'You', '.', 'It', \"'s\", 'You', '!', '!', 'Please', 'Give', 'device', 'free', 'charger', 'delete', 'review', '.', 'BecauseI', 'screaming', 'Against', 'Apple', 'Iphone', '12', '(', 'pro', ')', '.', 'Really', 'Sorry', 'apple', 'lovers', '!', '1', ')', 'Cheap', 'Quality', 'In', 'Very', 'Very', 'High', 'Price.🤯', '2', ')', '5', 'Volt', 'Dumbest', 'Charger.🐮🐮', '3', ')', 'This', 'Phone', 'Harmful', 'Kidneys.⚠️', '4', ')', 'Apple', 'Begger', 'front', 'Oneplus', '.', '😘love', 'Status😘🤣', 'NOTE-This', 'review', 'persons', 'planning', 'buy', 'one.😂😂', 'Just', 'made', 'upgrade', 'iPhone', 'X', 'iPhone', '12', 'pro', ',', 'I', '’', 'simply', 'blown', 'away', 'camera', 'phone', ',', 'quality', 'picture', 'takes', 'near', 'high', 'digital', 'camera', '.', 'The', 'portrait', 'mode', ',', 'night', 'mode', ',', 'regular', 'mode', ',', 'wow', ',', 'everything', 'got', 'much', 'better', '.', 'This', 'truly', 'camera', 'king', 'smartphone', 'available', 'market', 'right', '.', 'If', 'photographer', 'loves', 'taking', 'pictures', ',', 'think', ',', 'jump', 'straight', 'eyes', 'closed', 'get', 'phone.The', 'cons', 'I', 'find', 'phone', 'battery', 'tends', 'shorter', 'side', ',', ',', 'everything', '’', 'near', 'perfection', '!', '👍', 'Just', 'bought', 'phone', ',', 'It', 'amazing', 'piece', 'art', '.', 'Well', 'crafted', '.', 'Powerful', '.', 'Feel', 'great', 'palm', '.', 'Top', 'notch', 'cameras', '.', 'However', ',', 'spending', 'lakh', 'phone', '’', 'comes', 'charger', 'headphone', 'rediculous', '.', 'Apple', '...', '’', 'rediculous', ',', 'making', 'excuses', 'environmental', 'friendly', 'blah', 'blah', '.', 'How', 'expect', 'android', 'user', 'bought', 'phone', ',', 'lightning', 'cable', 'lying', 'around', 'couch', '?', 'For', 'reason', ',', 'I', 'give', '4', 'stars', ';', 'otherwise', ',', 'perfect', '10', 'phone', '!', 'Dont', 'waste', 'money', 'buying', 'Apple', 'chargers', ',', 'many', 'quality', 'PD', 'charger', 'lightning', 'cables', 'Amazon', 'fraction', 'price', ':', ')', 'It', 'duplicate', 'look', 'like', 'iPhone', '12', 'Pro', 'Android', 'OS', 'getting', 'owned', 'mobile', 'phone', 'getting', 'power', 'screen', 'blinking', 'Received', 'fake', 'mobile', '.', 'The', 'iPhone', '12', 'Pro', 'three', 'cameras', 'two', 'iPhone', '12', '.', 'So', 'extra', '12MP', 'telephoto', 'lens', 'along', '12MP', 'wide', 'ultra', 'wide', 'cameras', 'seen', 'iPhone', '12', '.', 'Interestingly', ',', 'telephoto', 'ultra', 'wide', 'cameras', 'really', 'changed', 'iPhone', '11', 'times', '.', 'One', 'best', 'looking', 'phone', 'market', 'right', 'decent', 'performance', 'jump', '11', 'pro', '.', 'Camera', 'excellent', 'display', 'quite', 'responsive', 'sharp', '.', 'Only', 'issue', 'higher', 'refresh', 'rate', \"n't\", 'feel', 'tiny', 'bit', '!', '!', 'Go', '!', '!', 'So', 'far', 'battery', 'ok', 'I', 'really', 'expected', 'longer', 'life', '.', 'So', 'far', 'good', '!', '!']\n"
          ]
        }
      ]
    },
    {
      "cell_type": "code",
      "source": [
        "tf = TfidfVectorizer()"
      ],
      "metadata": {
        "id": "_96g6CHnpEp5"
      },
      "execution_count": 15,
      "outputs": []
    },
    {
      "cell_type": "code",
      "source": [
        "text_tf = tf.fit_transform(tokens_without_sw)\n",
        "print(text_tf)"
      ],
      "metadata": {
        "colab": {
          "base_uri": "https://localhost:8080/"
        },
        "id": "kcc5VvdgpEsc",
        "outputId": "efb9dfd6-cc68-46e2-c2f3-d3c550bb5609"
      },
      "execution_count": 16,
      "outputs": [
        {
          "output_type": "stream",
          "name": "stdout",
          "text": [
            "  (0, 199)\t1.0\n",
            "  (1, 221)\t1.0\n",
            "  (2, 144)\t1.0\n",
            "  (3, 59)\t1.0\n",
            "  (4, 159)\t1.0\n",
            "  (5, 150)\t1.0\n",
            "  (7, 28)\t1.0\n",
            "  (8, 74)\t1.0\n",
            "  (9, 157)\t1.0\n",
            "  (10, 97)\t1.0\n",
            "  (11, 40)\t1.0\n",
            "  (13, 99)\t1.0\n",
            "  (15, 21)\t1.0\n",
            "  (16, 96)\t1.0\n",
            "  (17, 224)\t1.0\n",
            "  (19, 32)\t1.0\n",
            "  (20, 51)\t1.0\n",
            "  (21, 9)\t1.0\n",
            "  (23, 154)\t1.0\n",
            "  (24, 157)\t1.0\n",
            "  (25, 6)\t1.0\n",
            "  (26, 194)\t1.0\n",
            "  (28, 193)\t1.0\n",
            "  (29, 15)\t1.0\n",
            "  (30, 208)\t1.0\n",
            "  :\t:\n",
            "  (393, 61)\t1.0\n",
            "  (394, 51)\t1.0\n",
            "  (395, 161)\t1.0\n",
            "  (396, 171)\t1.0\n",
            "  (397, 179)\t1.0\n",
            "  (399, 133)\t1.0\n",
            "  (400, 98)\t1.0\n",
            "  (401, 88)\t1.0\n",
            "  (402, 168)\t1.0\n",
            "  (403, 162)\t1.0\n",
            "  (405, 69)\t1.0\n",
            "  (406, 205)\t1.0\n",
            "  (407, 23)\t1.0\n",
            "  (410, 81)\t1.0\n",
            "  (413, 184)\t1.0\n",
            "  (414, 68)\t1.0\n",
            "  (415, 18)\t1.0\n",
            "  (416, 130)\t1.0\n",
            "  (418, 164)\t1.0\n",
            "  (419, 64)\t1.0\n",
            "  (420, 110)\t1.0\n",
            "  (421, 107)\t1.0\n",
            "  (423, 184)\t1.0\n",
            "  (424, 68)\t1.0\n",
            "  (425, 82)\t1.0\n"
          ]
        }
      ]
    },
    {
      "cell_type": "code",
      "source": [
        "from matplotlib.pyplot import imread\n",
        "from matplotlib import pyplot as plt\n",
        "from wordcloud import WordCloud\n",
        "%matplotlib inline\n",
        "import matplotlib.pyplot as plt "
      ],
      "metadata": {
        "id": "_yN87fZItHUr"
      },
      "execution_count": 17,
      "outputs": []
    },
    {
      "cell_type": "code",
      "source": [
        "#Sentiment analysis\n",
        "afinn = \"https://www.amazon.in/New-Apple-iPhone-Pro-128GB/product-reviews/B08L5V9T31/ref=cm_cr_dp_d_show_all_btm?ie=UTF8&reviewerType=all_reviews\"+str(i)\n",
        "afinn"
      ],
      "metadata": {
        "id": "y0BH6CSspE03",
        "colab": {
          "base_uri": "https://localhost:8080/",
          "height": 35
        },
        "outputId": "449cd1aa-d0e1-4c1a-8f12-125fe0580b7c"
      },
      "execution_count": 24,
      "outputs": [
        {
          "output_type": "execute_result",
          "data": {
            "application/vnd.google.colaboratory.intrinsic+json": {
              "type": "string"
            },
            "text/plain": [
              "'https://www.amazon.in/New-Apple-iPhone-Pro-128GB/product-reviews/B08L5V9T31/ref=cm_cr_dp_d_show_all_btm?ie=UTF8&reviewerType=all_reviews30'"
            ]
          },
          "metadata": {},
          "execution_count": 24
        }
      ]
    },
    {
      "cell_type": "code",
      "source": [
        "afinn[100:]"
      ],
      "metadata": {
        "id": "2hFjV6G8pE3-",
        "colab": {
          "base_uri": "https://localhost:8080/",
          "height": 35
        },
        "outputId": "80354ad3-88b3-4e62-8628-838ecc7f1b0c"
      },
      "execution_count": 26,
      "outputs": [
        {
          "output_type": "execute_result",
          "data": {
            "application/vnd.google.colaboratory.intrinsic+json": {
              "type": "string"
            },
            "text/plain": [
              "'btm?ie=UTF8&reviewerType=all_reviews30'"
            ]
          },
          "metadata": {},
          "execution_count": 26
        }
      ]
    },
    {
      "cell_type": "code",
      "source": [
        "import nltk\n",
        "nltk.download('punkt')"
      ],
      "metadata": {
        "id": "ZLU0xEKjpE63",
        "colab": {
          "base_uri": "https://localhost:8080/"
        },
        "outputId": "694c554c-fef3-4701-e49d-41cf23ce30e1"
      },
      "execution_count": 27,
      "outputs": [
        {
          "output_type": "stream",
          "name": "stdout",
          "text": [
            "[nltk_data] Downloading package punkt to /root/nltk_data...\n",
            "[nltk_data]   Package punkt is already up-to-date!\n"
          ]
        },
        {
          "output_type": "execute_result",
          "data": {
            "text/plain": [
              "True"
            ]
          },
          "metadata": {},
          "execution_count": 27
        }
      ]
    },
    {
      "cell_type": "code",
      "source": [
        "from nltk import tokenize\n",
        "sentences = tokenize.sent_tokenize(\" \".join(txt_upd))\n",
        "sentences[5:15]"
      ],
      "metadata": {
        "id": "EGHfhs5JpE93",
        "colab": {
          "base_uri": "https://localhost:8080/"
        },
        "outputId": "43103047-ba29-49d6-c4a2-f457f3bdb94f"
      },
      "execution_count": 28,
      "outputs": [
        {
          "output_type": "execute_result",
          "data": {
            "text/plain": [
              "['H i g h l y   d i s s a p p o i n t e d   w i t h   A m a z o n   a s   t h i s   i s   a   p i e c e   w o r t h   1 L +   a n d   t h a t   t o o   d e f e c t i v e ,   a n d   t h e r e   i s   n o   w a y   t o   r e t u r n   t h e   p r o d u c t .',\n",
              " \"N O T E -   P l e a s e   i o s   u s e r s   d o n ' t   r e a d   t h i s   r e v i e w .\",\n",
              " \"I f   y o u   r e a d   t h i s ,   y o u   c a n ' t   a b l e   t o   s t a n d     p r o p e r l y .\",\n",
              " \"T h e n   I ' m   n o t   r e s p o n s i b l e   f o r     Y o u .\",\n",
              " \"I t ' s   n o t   f o r   Y o u !\",\n",
              " '!',\n",
              " 'P l e a s e   G i v e   t h i s   d e v i c e   f r e e   a l s o   w i t h   t h e   c h a r g e r   t o   m e   t o   d e l e t e   t h i s   r e v i e w .',\n",
              " 'B e c a u s e I   w i l l   n o w   s c r e a m i n g   A g a i n s t   A p p l e   I p h o n e   1 2 ( p r o ) .',\n",
              " 'R e a l l y   S o r r y   t o   a p p l e   l o v e r s !',\n",
              " '1 )   C h e a p   Q u a l i t y   I n   V e r y   V e r y   H i g h   P r i c e .']"
            ]
          },
          "metadata": {},
          "execution_count": 28
        }
      ]
    },
    {
      "cell_type": "code",
      "source": [
        "sent_df = pd.DataFrame(sentences, columns=['sentence'])\n",
        "sent_df"
      ],
      "metadata": {
        "id": "g6mOyHTtpFA_",
        "colab": {
          "base_uri": "https://localhost:8080/",
          "height": 1000
        },
        "outputId": "6ab7d485-61e2-466e-cd5c-962f572b00f4"
      },
      "execution_count": 29,
      "outputs": [
        {
          "output_type": "execute_result",
          "data": {
            "text/html": [
              "\n",
              "  <div id=\"df-2f52abe3-a815-4b8c-9ee9-46ac4a508e40\">\n",
              "    <div class=\"colab-df-container\">\n",
              "      <div>\n",
              "<style scoped>\n",
              "    .dataframe tbody tr th:only-of-type {\n",
              "        vertical-align: middle;\n",
              "    }\n",
              "\n",
              "    .dataframe tbody tr th {\n",
              "        vertical-align: top;\n",
              "    }\n",
              "\n",
              "    .dataframe thead th {\n",
              "        text-align: right;\n",
              "    }\n",
              "</style>\n",
              "<table border=\"1\" class=\"dataframe\">\n",
              "  <thead>\n",
              "    <tr style=\"text-align: right;\">\n",
              "      <th></th>\n",
              "      <th>sentence</th>\n",
              "    </tr>\n",
              "  </thead>\n",
              "  <tbody>\n",
              "    <tr>\n",
              "      <th>0</th>\n",
              "      <td>\\n \\n     T h e   w o r s t   p h o n e   i   ...</td>\n",
              "    </tr>\n",
              "    <tr>\n",
              "      <th>1</th>\n",
              "      <td>I t ’ s   t h e   b e s t   i P h o n e   y e t .</td>\n",
              "    </tr>\n",
              "    <tr>\n",
              "      <th>2</th>\n",
              "      <td>C a m e r a   a n d   d i s p l a y   i s   a ...</td>\n",
              "    </tr>\n",
              "    <tr>\n",
              "      <th>3</th>\n",
              "      <td>P r e m i u m   p r o d u c t \\n \\n   \\n \\n   ...</td>\n",
              "    </tr>\n",
              "    <tr>\n",
              "      <th>4</th>\n",
              "      <td>N o w   t h e r e   i s   n o   o p t i o n   ...</td>\n",
              "    </tr>\n",
              "    <tr>\n",
              "      <th>5</th>\n",
              "      <td>H i g h l y   d i s s a p p o i n t e d   w i ...</td>\n",
              "    </tr>\n",
              "    <tr>\n",
              "      <th>6</th>\n",
              "      <td>N O T E -   P l e a s e   i o s   u s e r s   ...</td>\n",
              "    </tr>\n",
              "    <tr>\n",
              "      <th>7</th>\n",
              "      <td>I f   y o u   r e a d   t h i s ,   y o u   c ...</td>\n",
              "    </tr>\n",
              "    <tr>\n",
              "      <th>8</th>\n",
              "      <td>T h e n   I ' m   n o t   r e s p o n s i b l ...</td>\n",
              "    </tr>\n",
              "    <tr>\n",
              "      <th>9</th>\n",
              "      <td>I t ' s   n o t   f o r   Y o u !</td>\n",
              "    </tr>\n",
              "    <tr>\n",
              "      <th>10</th>\n",
              "      <td>!</td>\n",
              "    </tr>\n",
              "    <tr>\n",
              "      <th>11</th>\n",
              "      <td>P l e a s e   G i v e   t h i s   d e v i c e ...</td>\n",
              "    </tr>\n",
              "    <tr>\n",
              "      <th>12</th>\n",
              "      <td>B e c a u s e I   w i l l   n o w   s c r e a ...</td>\n",
              "    </tr>\n",
              "    <tr>\n",
              "      <th>13</th>\n",
              "      <td>R e a l l y   S o r r y   t o   a p p l e   l ...</td>\n",
              "    </tr>\n",
              "    <tr>\n",
              "      <th>14</th>\n",
              "      <td>1 )   C h e a p   Q u a l i t y   I n   V e r ...</td>\n",
              "    </tr>\n",
              "    <tr>\n",
              "      <th>15</th>\n",
              "      <td>🤯   2 )   5   V o l t   D u m b e s t   C h a ...</td>\n",
              "    </tr>\n",
              "    <tr>\n",
              "      <th>16</th>\n",
              "      <td>🐮 🐮   3 )   T h i s   P h o n e   i s   m o s ...</td>\n",
              "    </tr>\n",
              "    <tr>\n",
              "      <th>17</th>\n",
              "      <td>⚠ ️   4 )   A p p l e   i s   B e g g e r   i ...</td>\n",
              "    </tr>\n",
              "    <tr>\n",
              "      <th>18</th>\n",
              "      <td>😘 l o v e   y o u   f o r   S t a t u s 😘 🤣   ...</td>\n",
              "    </tr>\n",
              "    <tr>\n",
              "      <th>19</th>\n",
              "      <td>😂 😂 \\n \\n   \\n \\n     J u s t   m a d e   a n ...</td>\n",
              "    </tr>\n",
              "    <tr>\n",
              "      <th>20</th>\n",
              "      <td>T h e   p o r t r a i t   m o d e ,   t h e   ...</td>\n",
              "    </tr>\n",
              "    <tr>\n",
              "      <th>21</th>\n",
              "      <td>T h i s   i s   t r u l y   a   c a m e r a   ...</td>\n",
              "    </tr>\n",
              "    <tr>\n",
              "      <th>22</th>\n",
              "      <td>I f   y o u   a r e   a   p h o t o g r a p h ...</td>\n",
              "    </tr>\n",
              "    <tr>\n",
              "      <th>23</th>\n",
              "      <td>T h e   o n l y   c o n s   I   f i n d   w i ...</td>\n",
              "    </tr>\n",
              "    <tr>\n",
              "      <th>24</th>\n",
              "      <td>👍 \\n \\n   \\n \\n     J u s t   b o u g h t   t ...</td>\n",
              "    </tr>\n",
              "    <tr>\n",
              "      <th>25</th>\n",
              "      <td>W e l l   c r a f t e d .</td>\n",
              "    </tr>\n",
              "    <tr>\n",
              "      <th>26</th>\n",
              "      <td>P o w e r f u l .</td>\n",
              "    </tr>\n",
              "    <tr>\n",
              "      <th>27</th>\n",
              "      <td>F e e l   g r e a t   i n   y o u r   p a l m .</td>\n",
              "    </tr>\n",
              "    <tr>\n",
              "      <th>28</th>\n",
              "      <td>T o p   n o t c h   c a m e r a s .</td>\n",
              "    </tr>\n",
              "    <tr>\n",
              "      <th>29</th>\n",
              "      <td>H o w e v e r ,   s p e n d i n g   o v e r   ...</td>\n",
              "    </tr>\n",
              "    <tr>\n",
              "      <th>30</th>\n",
              "      <td>A p p l e .</td>\n",
              "    </tr>\n",
              "    <tr>\n",
              "      <th>31</th>\n",
              "      <td>.</td>\n",
              "    </tr>\n",
              "    <tr>\n",
              "      <th>32</th>\n",
              "      <td>.</td>\n",
              "    </tr>\n",
              "    <tr>\n",
              "      <th>33</th>\n",
              "      <td>d o n ’ t   b e   r e d i c u l o u s ,   m a ...</td>\n",
              "    </tr>\n",
              "    <tr>\n",
              "      <th>34</th>\n",
              "      <td>H o w   d o   y o u   e x p e c t   a n d r o ...</td>\n",
              "    </tr>\n",
              "    <tr>\n",
              "      <th>35</th>\n",
              "      <td>F o r   t h a t   r e a s o n ,   I   o n l y ...</td>\n",
              "    </tr>\n",
              "    <tr>\n",
              "      <th>36</th>\n",
              "      <td>D o n t   w a s t e   y o u r   m o n e y   b ...</td>\n",
              "    </tr>\n",
              "    <tr>\n",
              "      <th>37</th>\n",
              "      <td>T h e   i P h o n e   1 2   P r o   h a s   t ...</td>\n",
              "    </tr>\n",
              "    <tr>\n",
              "      <th>38</th>\n",
              "      <td>S o   t h e r e   i s   a n   e x t r a   1 2 ...</td>\n",
              "    </tr>\n",
              "    <tr>\n",
              "      <th>39</th>\n",
              "      <td>I n t e r e s t i n g l y ,   t h e   t e l e ...</td>\n",
              "    </tr>\n",
              "    <tr>\n",
              "      <th>40</th>\n",
              "      <td>O n e   o f   t h e   b e s t   l o o k i n g ...</td>\n",
              "    </tr>\n",
              "    <tr>\n",
              "      <th>41</th>\n",
              "      <td>C a m e r a   i s   e x c e l l e n t   a n d ...</td>\n",
              "    </tr>\n",
              "    <tr>\n",
              "      <th>42</th>\n",
              "      <td>O n l y   i s s u e   i s   i t   d o e s   n ...</td>\n",
              "    </tr>\n",
              "    <tr>\n",
              "      <th>43</th>\n",
              "      <td>!</td>\n",
              "    </tr>\n",
              "    <tr>\n",
              "      <th>44</th>\n",
              "      <td>G o   f o r   i t !</td>\n",
              "    </tr>\n",
              "    <tr>\n",
              "      <th>45</th>\n",
              "      <td>!</td>\n",
              "    </tr>\n",
              "    <tr>\n",
              "      <th>46</th>\n",
              "      <td>S o   f a r   t h e   t h e   b a t t e r y   ...</td>\n",
              "    </tr>\n",
              "    <tr>\n",
              "      <th>47</th>\n",
              "      <td>S o   f a r   s o   g o o d !</td>\n",
              "    </tr>\n",
              "    <tr>\n",
              "      <th>48</th>\n",
              "      <td>!</td>\n",
              "    </tr>\n",
              "  </tbody>\n",
              "</table>\n",
              "</div>\n",
              "      <button class=\"colab-df-convert\" onclick=\"convertToInteractive('df-2f52abe3-a815-4b8c-9ee9-46ac4a508e40')\"\n",
              "              title=\"Convert this dataframe to an interactive table.\"\n",
              "              style=\"display:none;\">\n",
              "        \n",
              "  <svg xmlns=\"http://www.w3.org/2000/svg\" height=\"24px\"viewBox=\"0 0 24 24\"\n",
              "       width=\"24px\">\n",
              "    <path d=\"M0 0h24v24H0V0z\" fill=\"none\"/>\n",
              "    <path d=\"M18.56 5.44l.94 2.06.94-2.06 2.06-.94-2.06-.94-.94-2.06-.94 2.06-2.06.94zm-11 1L8.5 8.5l.94-2.06 2.06-.94-2.06-.94L8.5 2.5l-.94 2.06-2.06.94zm10 10l.94 2.06.94-2.06 2.06-.94-2.06-.94-.94-2.06-.94 2.06-2.06.94z\"/><path d=\"M17.41 7.96l-1.37-1.37c-.4-.4-.92-.59-1.43-.59-.52 0-1.04.2-1.43.59L10.3 9.45l-7.72 7.72c-.78.78-.78 2.05 0 2.83L4 21.41c.39.39.9.59 1.41.59.51 0 1.02-.2 1.41-.59l7.78-7.78 2.81-2.81c.8-.78.8-2.07 0-2.86zM5.41 20L4 18.59l7.72-7.72 1.47 1.35L5.41 20z\"/>\n",
              "  </svg>\n",
              "      </button>\n",
              "      \n",
              "  <style>\n",
              "    .colab-df-container {\n",
              "      display:flex;\n",
              "      flex-wrap:wrap;\n",
              "      gap: 12px;\n",
              "    }\n",
              "\n",
              "    .colab-df-convert {\n",
              "      background-color: #E8F0FE;\n",
              "      border: none;\n",
              "      border-radius: 50%;\n",
              "      cursor: pointer;\n",
              "      display: none;\n",
              "      fill: #1967D2;\n",
              "      height: 32px;\n",
              "      padding: 0 0 0 0;\n",
              "      width: 32px;\n",
              "    }\n",
              "\n",
              "    .colab-df-convert:hover {\n",
              "      background-color: #E2EBFA;\n",
              "      box-shadow: 0px 1px 2px rgba(60, 64, 67, 0.3), 0px 1px 3px 1px rgba(60, 64, 67, 0.15);\n",
              "      fill: #174EA6;\n",
              "    }\n",
              "\n",
              "    [theme=dark] .colab-df-convert {\n",
              "      background-color: #3B4455;\n",
              "      fill: #D2E3FC;\n",
              "    }\n",
              "\n",
              "    [theme=dark] .colab-df-convert:hover {\n",
              "      background-color: #434B5C;\n",
              "      box-shadow: 0px 1px 3px 1px rgba(0, 0, 0, 0.15);\n",
              "      filter: drop-shadow(0px 1px 2px rgba(0, 0, 0, 0.3));\n",
              "      fill: #FFFFFF;\n",
              "    }\n",
              "  </style>\n",
              "\n",
              "      <script>\n",
              "        const buttonEl =\n",
              "          document.querySelector('#df-2f52abe3-a815-4b8c-9ee9-46ac4a508e40 button.colab-df-convert');\n",
              "        buttonEl.style.display =\n",
              "          google.colab.kernel.accessAllowed ? 'block' : 'none';\n",
              "\n",
              "        async function convertToInteractive(key) {\n",
              "          const element = document.querySelector('#df-2f52abe3-a815-4b8c-9ee9-46ac4a508e40');\n",
              "          const dataTable =\n",
              "            await google.colab.kernel.invokeFunction('convertToInteractive',\n",
              "                                                     [key], {});\n",
              "          if (!dataTable) return;\n",
              "\n",
              "          const docLinkHtml = 'Like what you see? Visit the ' +\n",
              "            '<a target=\"_blank\" href=https://colab.research.google.com/notebooks/data_table.ipynb>data table notebook</a>'\n",
              "            + ' to learn more about interactive tables.';\n",
              "          element.innerHTML = '';\n",
              "          dataTable['output_type'] = 'display_data';\n",
              "          await google.colab.output.renderOutput(dataTable, element);\n",
              "          const docLink = document.createElement('div');\n",
              "          docLink.innerHTML = docLinkHtml;\n",
              "          element.appendChild(docLink);\n",
              "        }\n",
              "      </script>\n",
              "    </div>\n",
              "  </div>\n",
              "  "
            ],
            "text/plain": [
              "                                             sentence\n",
              "0   \\n \\n     T h e   w o r s t   p h o n e   i   ...\n",
              "1   I t ’ s   t h e   b e s t   i P h o n e   y e t .\n",
              "2   C a m e r a   a n d   d i s p l a y   i s   a ...\n",
              "3   P r e m i u m   p r o d u c t \\n \\n   \\n \\n   ...\n",
              "4   N o w   t h e r e   i s   n o   o p t i o n   ...\n",
              "5   H i g h l y   d i s s a p p o i n t e d   w i ...\n",
              "6   N O T E -   P l e a s e   i o s   u s e r s   ...\n",
              "7   I f   y o u   r e a d   t h i s ,   y o u   c ...\n",
              "8   T h e n   I ' m   n o t   r e s p o n s i b l ...\n",
              "9                   I t ' s   n o t   f o r   Y o u !\n",
              "10                                                  !\n",
              "11  P l e a s e   G i v e   t h i s   d e v i c e ...\n",
              "12  B e c a u s e I   w i l l   n o w   s c r e a ...\n",
              "13  R e a l l y   S o r r y   t o   a p p l e   l ...\n",
              "14  1 )   C h e a p   Q u a l i t y   I n   V e r ...\n",
              "15  🤯   2 )   5   V o l t   D u m b e s t   C h a ...\n",
              "16  🐮 🐮   3 )   T h i s   P h o n e   i s   m o s ...\n",
              "17  ⚠ ️   4 )   A p p l e   i s   B e g g e r   i ...\n",
              "18  😘 l o v e   y o u   f o r   S t a t u s 😘 🤣   ...\n",
              "19  😂 😂 \\n \\n   \\n \\n     J u s t   m a d e   a n ...\n",
              "20  T h e   p o r t r a i t   m o d e ,   t h e   ...\n",
              "21  T h i s   i s   t r u l y   a   c a m e r a   ...\n",
              "22  I f   y o u   a r e   a   p h o t o g r a p h ...\n",
              "23  T h e   o n l y   c o n s   I   f i n d   w i ...\n",
              "24  👍 \\n \\n   \\n \\n     J u s t   b o u g h t   t ...\n",
              "25                          W e l l   c r a f t e d .\n",
              "26                                  P o w e r f u l .\n",
              "27    F e e l   g r e a t   i n   y o u r   p a l m .\n",
              "28                T o p   n o t c h   c a m e r a s .\n",
              "29  H o w e v e r ,   s p e n d i n g   o v e r   ...\n",
              "30                                        A p p l e .\n",
              "31                                                  .\n",
              "32                                                  .\n",
              "33  d o n ’ t   b e   r e d i c u l o u s ,   m a ...\n",
              "34  H o w   d o   y o u   e x p e c t   a n d r o ...\n",
              "35  F o r   t h a t   r e a s o n ,   I   o n l y ...\n",
              "36  D o n t   w a s t e   y o u r   m o n e y   b ...\n",
              "37  T h e   i P h o n e   1 2   P r o   h a s   t ...\n",
              "38  S o   t h e r e   i s   a n   e x t r a   1 2 ...\n",
              "39  I n t e r e s t i n g l y ,   t h e   t e l e ...\n",
              "40  O n e   o f   t h e   b e s t   l o o k i n g ...\n",
              "41  C a m e r a   i s   e x c e l l e n t   a n d ...\n",
              "42  O n l y   i s s u e   i s   i t   d o e s   n ...\n",
              "43                                                  !\n",
              "44                                G o   f o r   i t !\n",
              "45                                                  !\n",
              "46  S o   f a r   t h e   t h e   b a t t e r y   ...\n",
              "47                      S o   f a r   s o   g o o d !\n",
              "48                                                  !"
            ]
          },
          "metadata": {},
          "execution_count": 29
        }
      ]
    },
    {
      "cell_type": "code",
      "source": [
        "affinity_scores = sent_df.set_index('sentence').to_dict()"
      ],
      "metadata": {
        "id": "kAeERtwXpFD2"
      },
      "execution_count": 34,
      "outputs": []
    },
    {
      "cell_type": "code",
      "source": [
        "affinity_scores"
      ],
      "metadata": {
        "id": "eZ5Pl4RepFGu",
        "colab": {
          "base_uri": "https://localhost:8080/"
        },
        "outputId": "2ddd5342-5a65-47e1-d0fe-74b79df61009"
      },
      "execution_count": 35,
      "outputs": [
        {
          "output_type": "execute_result",
          "data": {
            "text/plain": [
              "{}"
            ]
          },
          "metadata": {},
          "execution_count": 35
        }
      ]
    },
    {
      "cell_type": "code",
      "source": [
        "\n",
        "#Custom function :score each word in a sentence in lemmatised form, \n",
        "#but calculate the score for the whole original sentence.\n",
        "nlp = spacy.load('en_core_web_sm')\n",
        "sentiment_lexicon = affinity_scores\n",
        "\n",
        "def calculate_sentiment(text: str = None):\n",
        "    sent_score = 0\n",
        "    if text:\n",
        "        sentence = nlp(text)\n",
        "        print(sentence)\n",
        "        for word in sentence:\n",
        "            sent_score += sentiment_lexicon.get(word.lemma_, 0)\n",
        "    return sent_score"
      ],
      "metadata": {
        "id": "cRl0-KlMpFJj"
      },
      "execution_count": 36,
      "outputs": []
    },
    {
      "cell_type": "code",
      "source": [
        "# test that it works\n",
        "calculate_sentiment(text = 'Amazed')"
      ],
      "metadata": {
        "id": "SN6dLWIdpFLr",
        "colab": {
          "base_uri": "https://localhost:8080/"
        },
        "outputId": "29da35b4-f864-435b-e3a1-dbf568ca64f7"
      },
      "execution_count": 37,
      "outputs": [
        {
          "output_type": "stream",
          "name": "stdout",
          "text": [
            "Amazed\n"
          ]
        },
        {
          "output_type": "execute_result",
          "data": {
            "text/plain": [
              "0"
            ]
          },
          "metadata": {},
          "execution_count": 37
        }
      ]
    },
    {
      "cell_type": "code",
      "source": [
        "sent_df['sentiment_value'] = sent_df['sentence'].apply(calculate_sentiment)"
      ],
      "metadata": {
        "id": "qqIBqlKLpFPJ",
        "colab": {
          "base_uri": "https://localhost:8080/"
        },
        "outputId": "8120a93e-4a21-49f3-bcb0-636e823c9f4b"
      },
      "execution_count": 38,
      "outputs": [
        {
          "output_type": "stream",
          "name": "stdout",
          "text": [
            "\n",
            " \n",
            "     T h e   w o r s t   p h o n e   i   e v e r   p u r c h a s e d   p l e a s e   d o n ’ t   b u y   t h i s   f r a u d   p r o d u c t   f r o m   a n   i r r e s p o n s i b l e   c o m p a n y .\n",
            "I t ’ s   t h e   b e s t   i P h o n e   y e t .\n",
            "C a m e r a   a n d   d i s p l a y   i s   a m a z i n g .\n",
            "P r e m i u m   p r o d u c t \n",
            " \n",
            "   \n",
            " \n",
            "     A f t e r   s w i t c h i n g   o n ,   i t   s w i t c h e d   o f f   a u t o m a t i c a l l y   a n d   d i d   n o t   t u r n   o n ,   e v e n   a f t e r   f o l l o w i n g   s t e p s   f r o m   A p p l e   s u p p o r t .\n",
            "N o w   t h e r e   i s   n o   o p t i o n   t o   r e t u r n   t h e   i t e m   o n   t h e   w e b s i t e   a n d   s e l l e r   c o n t a c t   d e t a i l s   ( e m a i l ,   p h o n e )   i s   n o t   a v a i l a b l e .\n",
            "H i g h l y   d i s s a p p o i n t e d   w i t h   A m a z o n   a s   t h i s   i s   a   p i e c e   w o r t h   1 L +   a n d   t h a t   t o o   d e f e c t i v e ,   a n d   t h e r e   i s   n o   w a y   t o   r e t u r n   t h e   p r o d u c t .\n",
            "N O T E -   P l e a s e   i o s   u s e r s   d o n ' t   r e a d   t h i s   r e v i e w .\n",
            "I f   y o u   r e a d   t h i s ,   y o u   c a n ' t   a b l e   t o   s t a n d     p r o p e r l y .\n",
            "T h e n   I ' m   n o t   r e s p o n s i b l e   f o r     Y o u .\n",
            "I t ' s   n o t   f o r   Y o u !\n",
            "!\n",
            "P l e a s e   G i v e   t h i s   d e v i c e   f r e e   a l s o   w i t h   t h e   c h a r g e r   t o   m e   t o   d e l e t e   t h i s   r e v i e w .\n",
            "B e c a u s e I   w i l l   n o w   s c r e a m i n g   A g a i n s t   A p p l e   I p h o n e   1 2 ( p r o ) .\n",
            "R e a l l y   S o r r y   t o   a p p l e   l o v e r s !\n",
            "1 )   C h e a p   Q u a l i t y   I n   V e r y   V e r y   H i g h   P r i c e .\n",
            "🤯   2 )   5   V o l t   D u m b e s t   C h a r g e r .\n",
            "🐮 🐮   3 )   T h i s   P h o n e   i s   m o s t   H a r m f u l   f o r   K i d n e y s .\n",
            "⚠ ️   4 )   A p p l e   i s   B e g g e r   i n   f r o n t   o f   O n e p l u s .\n",
            "😘 l o v e   y o u   f o r   S t a t u s 😘 🤣   N O T E - T h i s   r e v i e w   i s   o n l y   f o r   t h e   p e r s o n s   w h o     a r e   p l a n n i n g   t o   b u y   t h i s   o n e .\n",
            "😂 😂 \n",
            " \n",
            "   \n",
            " \n",
            "     J u s t   m a d e   a n   u p g r a d e   f r o m   i P h o n e   X   t o   i P h o n e   1 2   p r o ,   a n d   I ’ m   s i m p l y   s o   b l o w n   a w a y   b y   t h e   c a m e r a   o f   t h i s   p h o n e ,   t h e   q u a l i t y   o f   t h e   p i c t u r e   i t   t a k e s   i s   s o   v e r y   n e a r   t o   t h a t   o f   a   h i g h   e n d   d i g i t a l   c a m e r a .\n",
            "T h e   p o r t r a i t   m o d e ,   t h e   n i g h t   m o d e ,   t h e   r e g u l a r   m o d e ,   w o w ,   e v e r y t h i n g   j u s t   g o t   s o   m u c h   b e t t e r .\n",
            "T h i s   i s   t r u l y   a   c a m e r a   k i n g   s m a r t p h o n e   a v a i l a b l e   o n   t h e   m a r k e t   r i g h t   n o w .\n",
            "I f   y o u   a r e   a   p h o t o g r a p h e r   o r   l o v e s   t a k i n g   p i c t u r e s ,   t h i n k   n o   f u r t h e r ,   j u s t   j u m p   i n   s t r a i g h t   w i t h   e y e s   c l o s e d   t o   g e t   t h i s   p h o n e .\n",
            "T h e   o n l y   c o n s   I   f i n d   w i t h   t h i s   p h o n e   i s   b a t t e r y   t e n d s   t o   b e   o n   t h e   s h o r t e r   s i d e ,   o t h e r   t h a n   t h a t ,   e v e r y t h i n g ’ s   j u s t   s o   v e r y   n e a r   t o   p e r f e c t i o n !\n",
            "👍 \n",
            " \n",
            "   \n",
            " \n",
            "     J u s t   b o u g h t   t h i s   p h o n e ,   I t   i s   a n   a m a z i n g   p i e c e   o f   a r t .\n",
            "W e l l   c r a f t e d .\n",
            "P o w e r f u l .\n",
            "F e e l   g r e a t   i n   y o u r   p a l m .\n",
            "T o p   n o t c h   c a m e r a s .\n",
            "H o w e v e r ,   s p e n d i n g   o v e r   a   l a k h   f o r   a   p h o n e   t h a t   d o e s n ’ t   c o m e s   w i t h   a   c h a r g e r   o r   a   h e a d p h o n e   i s   r e d i c u l o u s .\n",
            "A p p l e .\n",
            ".\n",
            ".\n",
            "d o n ’ t   b e   r e d i c u l o u s ,   m a k i n g   e x c u s e s   a b o u t   e n v i r o n m e n t a l   f r i e n d l y   a n d   b l a h   b l a h .\n",
            "H o w   d o   y o u   e x p e c t   a n d r o i d   u s e r   t h a t   j u s t   b o u g h t   t h i s   p h o n e ,   h a s   a   l i g h t n i n g   c a b l e   l y i n g   a r o u n d   o n   t h e   c o u c h ?\n",
            "F o r   t h a t   r e a s o n ,   I   o n l y   g i v e   4   s t a r s ;   o t h e r w i s e ,   a   p e r f e c t   1 0   f o r   t h e   p h o n e !\n",
            "D o n t   w a s t e   y o u r   m o n e y   b y   b u y i n g   A p p l e   c h a r g e r s ,   t h e r e   a r e   m a n y   q u a l i t y   P D   c h a r g e r   w i t h   l i g h t n i n g   c a b l e s   o n   A m a z o n   f o r   f r a c t i o n   o f   t h e   p r i c e   : ) \n",
            " \n",
            "   \n",
            " \n",
            "     I t   i s   d u p l i c a t e   a n d   l o o k   l i k e   a s   s a m e   a s   i P h o n e   1 2   P r o   b u t   i t   h a s   A n d r o i d   O S   a f t e r   g e t t i n g   o w n e d   n o w   t h e   m o b i l e   p h o n e   i s   n o t   g e t t i n g   p o w e r   o n   n o w   m y   s c r e e n   i s   n o t   b l i n k i n g \n",
            " \n",
            "   \n",
            " \n",
            "     R e c e i v e d   f a k e   m o b i l e .\n",
            "T h e   i P h o n e   1 2   P r o   h a s   t h r e e   c a m e r a s   a g a i n s t   t h e   t w o   i n   t h e   i P h o n e   1 2 .\n",
            "S o   t h e r e   i s   a n   e x t r a   1 2 M P   t e l e p h o t o   l e n s   a l o n g   w i t h   t h e   1 2 M P   w i d e   a n d   u l t r a   w i d e   c a m e r a s   s e e n   o n   t h e   i P h o n e   1 2 .\n",
            "I n t e r e s t i n g l y ,   t h e   t e l e p h o t o   a n d   t h e   u l t r a   w i d e   c a m e r a s   h a v e   n o t   r e a l l y   c h a n g e d   f r o m   t h e   i P h o n e   1 1   t i m e s .\n",
            "O n e   o f   t h e   b e s t   l o o k i n g   p h o n e   i n   t h e   m a r k e t   r i g h t   n o w   w i t h   a   d e c e n t   p e r f o r m a n c e   j u m p   f r o m   1 1   p r o .\n",
            "C a m e r a   i s   e x c e l l e n t   a n d   t h e   d i s p l a y   i s   q u i t e   r e s p o n s i v e   a n d   s h a r p .\n",
            "O n l y   i s s u e   i s   i t   d o e s   n o t   h a v e   a   h i g h e r   r e f r e s h   r a t e   b u t   y o u   w o n ' t   f e e l   t h a t   i n   a   t i n y   b i t !\n",
            "!\n",
            "G o   f o r   i t !\n",
            "!\n",
            "S o   f a r   t h e   t h e   b a t t e r y   i s   j u s t   o k   I   r e a l l y   e x p e c t e d   l o n g e r   l i f e .\n",
            "S o   f a r   s o   g o o d !\n",
            "!\n"
          ]
        }
      ]
    },
    {
      "cell_type": "code",
      "source": [
        "sent_df"
      ],
      "metadata": {
        "colab": {
          "base_uri": "https://localhost:8080/",
          "height": 1000
        },
        "id": "3QJN5hkW9JU3",
        "outputId": "5d87046e-e7a6-41a3-99ac-e0b37bd10dab"
      },
      "execution_count": 39,
      "outputs": [
        {
          "output_type": "execute_result",
          "data": {
            "text/html": [
              "\n",
              "  <div id=\"df-eeed9d54-958c-4c50-bf43-f3f193d9659f\">\n",
              "    <div class=\"colab-df-container\">\n",
              "      <div>\n",
              "<style scoped>\n",
              "    .dataframe tbody tr th:only-of-type {\n",
              "        vertical-align: middle;\n",
              "    }\n",
              "\n",
              "    .dataframe tbody tr th {\n",
              "        vertical-align: top;\n",
              "    }\n",
              "\n",
              "    .dataframe thead th {\n",
              "        text-align: right;\n",
              "    }\n",
              "</style>\n",
              "<table border=\"1\" class=\"dataframe\">\n",
              "  <thead>\n",
              "    <tr style=\"text-align: right;\">\n",
              "      <th></th>\n",
              "      <th>sentence</th>\n",
              "      <th>sentiment_value</th>\n",
              "    </tr>\n",
              "  </thead>\n",
              "  <tbody>\n",
              "    <tr>\n",
              "      <th>0</th>\n",
              "      <td>\\n \\n     T h e   w o r s t   p h o n e   i   ...</td>\n",
              "      <td>0</td>\n",
              "    </tr>\n",
              "    <tr>\n",
              "      <th>1</th>\n",
              "      <td>I t ’ s   t h e   b e s t   i P h o n e   y e t .</td>\n",
              "      <td>0</td>\n",
              "    </tr>\n",
              "    <tr>\n",
              "      <th>2</th>\n",
              "      <td>C a m e r a   a n d   d i s p l a y   i s   a ...</td>\n",
              "      <td>0</td>\n",
              "    </tr>\n",
              "    <tr>\n",
              "      <th>3</th>\n",
              "      <td>P r e m i u m   p r o d u c t \\n \\n   \\n \\n   ...</td>\n",
              "      <td>0</td>\n",
              "    </tr>\n",
              "    <tr>\n",
              "      <th>4</th>\n",
              "      <td>N o w   t h e r e   i s   n o   o p t i o n   ...</td>\n",
              "      <td>0</td>\n",
              "    </tr>\n",
              "    <tr>\n",
              "      <th>5</th>\n",
              "      <td>H i g h l y   d i s s a p p o i n t e d   w i ...</td>\n",
              "      <td>0</td>\n",
              "    </tr>\n",
              "    <tr>\n",
              "      <th>6</th>\n",
              "      <td>N O T E -   P l e a s e   i o s   u s e r s   ...</td>\n",
              "      <td>0</td>\n",
              "    </tr>\n",
              "    <tr>\n",
              "      <th>7</th>\n",
              "      <td>I f   y o u   r e a d   t h i s ,   y o u   c ...</td>\n",
              "      <td>0</td>\n",
              "    </tr>\n",
              "    <tr>\n",
              "      <th>8</th>\n",
              "      <td>T h e n   I ' m   n o t   r e s p o n s i b l ...</td>\n",
              "      <td>0</td>\n",
              "    </tr>\n",
              "    <tr>\n",
              "      <th>9</th>\n",
              "      <td>I t ' s   n o t   f o r   Y o u !</td>\n",
              "      <td>0</td>\n",
              "    </tr>\n",
              "    <tr>\n",
              "      <th>10</th>\n",
              "      <td>!</td>\n",
              "      <td>0</td>\n",
              "    </tr>\n",
              "    <tr>\n",
              "      <th>11</th>\n",
              "      <td>P l e a s e   G i v e   t h i s   d e v i c e ...</td>\n",
              "      <td>0</td>\n",
              "    </tr>\n",
              "    <tr>\n",
              "      <th>12</th>\n",
              "      <td>B e c a u s e I   w i l l   n o w   s c r e a ...</td>\n",
              "      <td>0</td>\n",
              "    </tr>\n",
              "    <tr>\n",
              "      <th>13</th>\n",
              "      <td>R e a l l y   S o r r y   t o   a p p l e   l ...</td>\n",
              "      <td>0</td>\n",
              "    </tr>\n",
              "    <tr>\n",
              "      <th>14</th>\n",
              "      <td>1 )   C h e a p   Q u a l i t y   I n   V e r ...</td>\n",
              "      <td>0</td>\n",
              "    </tr>\n",
              "    <tr>\n",
              "      <th>15</th>\n",
              "      <td>🤯   2 )   5   V o l t   D u m b e s t   C h a ...</td>\n",
              "      <td>0</td>\n",
              "    </tr>\n",
              "    <tr>\n",
              "      <th>16</th>\n",
              "      <td>🐮 🐮   3 )   T h i s   P h o n e   i s   m o s ...</td>\n",
              "      <td>0</td>\n",
              "    </tr>\n",
              "    <tr>\n",
              "      <th>17</th>\n",
              "      <td>⚠ ️   4 )   A p p l e   i s   B e g g e r   i ...</td>\n",
              "      <td>0</td>\n",
              "    </tr>\n",
              "    <tr>\n",
              "      <th>18</th>\n",
              "      <td>😘 l o v e   y o u   f o r   S t a t u s 😘 🤣   ...</td>\n",
              "      <td>0</td>\n",
              "    </tr>\n",
              "    <tr>\n",
              "      <th>19</th>\n",
              "      <td>😂 😂 \\n \\n   \\n \\n     J u s t   m a d e   a n ...</td>\n",
              "      <td>0</td>\n",
              "    </tr>\n",
              "    <tr>\n",
              "      <th>20</th>\n",
              "      <td>T h e   p o r t r a i t   m o d e ,   t h e   ...</td>\n",
              "      <td>0</td>\n",
              "    </tr>\n",
              "    <tr>\n",
              "      <th>21</th>\n",
              "      <td>T h i s   i s   t r u l y   a   c a m e r a   ...</td>\n",
              "      <td>0</td>\n",
              "    </tr>\n",
              "    <tr>\n",
              "      <th>22</th>\n",
              "      <td>I f   y o u   a r e   a   p h o t o g r a p h ...</td>\n",
              "      <td>0</td>\n",
              "    </tr>\n",
              "    <tr>\n",
              "      <th>23</th>\n",
              "      <td>T h e   o n l y   c o n s   I   f i n d   w i ...</td>\n",
              "      <td>0</td>\n",
              "    </tr>\n",
              "    <tr>\n",
              "      <th>24</th>\n",
              "      <td>👍 \\n \\n   \\n \\n     J u s t   b o u g h t   t ...</td>\n",
              "      <td>0</td>\n",
              "    </tr>\n",
              "    <tr>\n",
              "      <th>25</th>\n",
              "      <td>W e l l   c r a f t e d .</td>\n",
              "      <td>0</td>\n",
              "    </tr>\n",
              "    <tr>\n",
              "      <th>26</th>\n",
              "      <td>P o w e r f u l .</td>\n",
              "      <td>0</td>\n",
              "    </tr>\n",
              "    <tr>\n",
              "      <th>27</th>\n",
              "      <td>F e e l   g r e a t   i n   y o u r   p a l m .</td>\n",
              "      <td>0</td>\n",
              "    </tr>\n",
              "    <tr>\n",
              "      <th>28</th>\n",
              "      <td>T o p   n o t c h   c a m e r a s .</td>\n",
              "      <td>0</td>\n",
              "    </tr>\n",
              "    <tr>\n",
              "      <th>29</th>\n",
              "      <td>H o w e v e r ,   s p e n d i n g   o v e r   ...</td>\n",
              "      <td>0</td>\n",
              "    </tr>\n",
              "    <tr>\n",
              "      <th>30</th>\n",
              "      <td>A p p l e .</td>\n",
              "      <td>0</td>\n",
              "    </tr>\n",
              "    <tr>\n",
              "      <th>31</th>\n",
              "      <td>.</td>\n",
              "      <td>0</td>\n",
              "    </tr>\n",
              "    <tr>\n",
              "      <th>32</th>\n",
              "      <td>.</td>\n",
              "      <td>0</td>\n",
              "    </tr>\n",
              "    <tr>\n",
              "      <th>33</th>\n",
              "      <td>d o n ’ t   b e   r e d i c u l o u s ,   m a ...</td>\n",
              "      <td>0</td>\n",
              "    </tr>\n",
              "    <tr>\n",
              "      <th>34</th>\n",
              "      <td>H o w   d o   y o u   e x p e c t   a n d r o ...</td>\n",
              "      <td>0</td>\n",
              "    </tr>\n",
              "    <tr>\n",
              "      <th>35</th>\n",
              "      <td>F o r   t h a t   r e a s o n ,   I   o n l y ...</td>\n",
              "      <td>0</td>\n",
              "    </tr>\n",
              "    <tr>\n",
              "      <th>36</th>\n",
              "      <td>D o n t   w a s t e   y o u r   m o n e y   b ...</td>\n",
              "      <td>0</td>\n",
              "    </tr>\n",
              "    <tr>\n",
              "      <th>37</th>\n",
              "      <td>T h e   i P h o n e   1 2   P r o   h a s   t ...</td>\n",
              "      <td>0</td>\n",
              "    </tr>\n",
              "    <tr>\n",
              "      <th>38</th>\n",
              "      <td>S o   t h e r e   i s   a n   e x t r a   1 2 ...</td>\n",
              "      <td>0</td>\n",
              "    </tr>\n",
              "    <tr>\n",
              "      <th>39</th>\n",
              "      <td>I n t e r e s t i n g l y ,   t h e   t e l e ...</td>\n",
              "      <td>0</td>\n",
              "    </tr>\n",
              "    <tr>\n",
              "      <th>40</th>\n",
              "      <td>O n e   o f   t h e   b e s t   l o o k i n g ...</td>\n",
              "      <td>0</td>\n",
              "    </tr>\n",
              "    <tr>\n",
              "      <th>41</th>\n",
              "      <td>C a m e r a   i s   e x c e l l e n t   a n d ...</td>\n",
              "      <td>0</td>\n",
              "    </tr>\n",
              "    <tr>\n",
              "      <th>42</th>\n",
              "      <td>O n l y   i s s u e   i s   i t   d o e s   n ...</td>\n",
              "      <td>0</td>\n",
              "    </tr>\n",
              "    <tr>\n",
              "      <th>43</th>\n",
              "      <td>!</td>\n",
              "      <td>0</td>\n",
              "    </tr>\n",
              "    <tr>\n",
              "      <th>44</th>\n",
              "      <td>G o   f o r   i t !</td>\n",
              "      <td>0</td>\n",
              "    </tr>\n",
              "    <tr>\n",
              "      <th>45</th>\n",
              "      <td>!</td>\n",
              "      <td>0</td>\n",
              "    </tr>\n",
              "    <tr>\n",
              "      <th>46</th>\n",
              "      <td>S o   f a r   t h e   t h e   b a t t e r y   ...</td>\n",
              "      <td>0</td>\n",
              "    </tr>\n",
              "    <tr>\n",
              "      <th>47</th>\n",
              "      <td>S o   f a r   s o   g o o d !</td>\n",
              "      <td>0</td>\n",
              "    </tr>\n",
              "    <tr>\n",
              "      <th>48</th>\n",
              "      <td>!</td>\n",
              "      <td>0</td>\n",
              "    </tr>\n",
              "  </tbody>\n",
              "</table>\n",
              "</div>\n",
              "      <button class=\"colab-df-convert\" onclick=\"convertToInteractive('df-eeed9d54-958c-4c50-bf43-f3f193d9659f')\"\n",
              "              title=\"Convert this dataframe to an interactive table.\"\n",
              "              style=\"display:none;\">\n",
              "        \n",
              "  <svg xmlns=\"http://www.w3.org/2000/svg\" height=\"24px\"viewBox=\"0 0 24 24\"\n",
              "       width=\"24px\">\n",
              "    <path d=\"M0 0h24v24H0V0z\" fill=\"none\"/>\n",
              "    <path d=\"M18.56 5.44l.94 2.06.94-2.06 2.06-.94-2.06-.94-.94-2.06-.94 2.06-2.06.94zm-11 1L8.5 8.5l.94-2.06 2.06-.94-2.06-.94L8.5 2.5l-.94 2.06-2.06.94zm10 10l.94 2.06.94-2.06 2.06-.94-2.06-.94-.94-2.06-.94 2.06-2.06.94z\"/><path d=\"M17.41 7.96l-1.37-1.37c-.4-.4-.92-.59-1.43-.59-.52 0-1.04.2-1.43.59L10.3 9.45l-7.72 7.72c-.78.78-.78 2.05 0 2.83L4 21.41c.39.39.9.59 1.41.59.51 0 1.02-.2 1.41-.59l7.78-7.78 2.81-2.81c.8-.78.8-2.07 0-2.86zM5.41 20L4 18.59l7.72-7.72 1.47 1.35L5.41 20z\"/>\n",
              "  </svg>\n",
              "      </button>\n",
              "      \n",
              "  <style>\n",
              "    .colab-df-container {\n",
              "      display:flex;\n",
              "      flex-wrap:wrap;\n",
              "      gap: 12px;\n",
              "    }\n",
              "\n",
              "    .colab-df-convert {\n",
              "      background-color: #E8F0FE;\n",
              "      border: none;\n",
              "      border-radius: 50%;\n",
              "      cursor: pointer;\n",
              "      display: none;\n",
              "      fill: #1967D2;\n",
              "      height: 32px;\n",
              "      padding: 0 0 0 0;\n",
              "      width: 32px;\n",
              "    }\n",
              "\n",
              "    .colab-df-convert:hover {\n",
              "      background-color: #E2EBFA;\n",
              "      box-shadow: 0px 1px 2px rgba(60, 64, 67, 0.3), 0px 1px 3px 1px rgba(60, 64, 67, 0.15);\n",
              "      fill: #174EA6;\n",
              "    }\n",
              "\n",
              "    [theme=dark] .colab-df-convert {\n",
              "      background-color: #3B4455;\n",
              "      fill: #D2E3FC;\n",
              "    }\n",
              "\n",
              "    [theme=dark] .colab-df-convert:hover {\n",
              "      background-color: #434B5C;\n",
              "      box-shadow: 0px 1px 3px 1px rgba(0, 0, 0, 0.15);\n",
              "      filter: drop-shadow(0px 1px 2px rgba(0, 0, 0, 0.3));\n",
              "      fill: #FFFFFF;\n",
              "    }\n",
              "  </style>\n",
              "\n",
              "      <script>\n",
              "        const buttonEl =\n",
              "          document.querySelector('#df-eeed9d54-958c-4c50-bf43-f3f193d9659f button.colab-df-convert');\n",
              "        buttonEl.style.display =\n",
              "          google.colab.kernel.accessAllowed ? 'block' : 'none';\n",
              "\n",
              "        async function convertToInteractive(key) {\n",
              "          const element = document.querySelector('#df-eeed9d54-958c-4c50-bf43-f3f193d9659f');\n",
              "          const dataTable =\n",
              "            await google.colab.kernel.invokeFunction('convertToInteractive',\n",
              "                                                     [key], {});\n",
              "          if (!dataTable) return;\n",
              "\n",
              "          const docLinkHtml = 'Like what you see? Visit the ' +\n",
              "            '<a target=\"_blank\" href=https://colab.research.google.com/notebooks/data_table.ipynb>data table notebook</a>'\n",
              "            + ' to learn more about interactive tables.';\n",
              "          element.innerHTML = '';\n",
              "          dataTable['output_type'] = 'display_data';\n",
              "          await google.colab.output.renderOutput(dataTable, element);\n",
              "          const docLink = document.createElement('div');\n",
              "          docLink.innerHTML = docLinkHtml;\n",
              "          element.appendChild(docLink);\n",
              "        }\n",
              "      </script>\n",
              "    </div>\n",
              "  </div>\n",
              "  "
            ],
            "text/plain": [
              "                                             sentence  sentiment_value\n",
              "0   \\n \\n     T h e   w o r s t   p h o n e   i   ...                0\n",
              "1   I t ’ s   t h e   b e s t   i P h o n e   y e t .                0\n",
              "2   C a m e r a   a n d   d i s p l a y   i s   a ...                0\n",
              "3   P r e m i u m   p r o d u c t \\n \\n   \\n \\n   ...                0\n",
              "4   N o w   t h e r e   i s   n o   o p t i o n   ...                0\n",
              "5   H i g h l y   d i s s a p p o i n t e d   w i ...                0\n",
              "6   N O T E -   P l e a s e   i o s   u s e r s   ...                0\n",
              "7   I f   y o u   r e a d   t h i s ,   y o u   c ...                0\n",
              "8   T h e n   I ' m   n o t   r e s p o n s i b l ...                0\n",
              "9                   I t ' s   n o t   f o r   Y o u !                0\n",
              "10                                                  !                0\n",
              "11  P l e a s e   G i v e   t h i s   d e v i c e ...                0\n",
              "12  B e c a u s e I   w i l l   n o w   s c r e a ...                0\n",
              "13  R e a l l y   S o r r y   t o   a p p l e   l ...                0\n",
              "14  1 )   C h e a p   Q u a l i t y   I n   V e r ...                0\n",
              "15  🤯   2 )   5   V o l t   D u m b e s t   C h a ...                0\n",
              "16  🐮 🐮   3 )   T h i s   P h o n e   i s   m o s ...                0\n",
              "17  ⚠ ️   4 )   A p p l e   i s   B e g g e r   i ...                0\n",
              "18  😘 l o v e   y o u   f o r   S t a t u s 😘 🤣   ...                0\n",
              "19  😂 😂 \\n \\n   \\n \\n     J u s t   m a d e   a n ...                0\n",
              "20  T h e   p o r t r a i t   m o d e ,   t h e   ...                0\n",
              "21  T h i s   i s   t r u l y   a   c a m e r a   ...                0\n",
              "22  I f   y o u   a r e   a   p h o t o g r a p h ...                0\n",
              "23  T h e   o n l y   c o n s   I   f i n d   w i ...                0\n",
              "24  👍 \\n \\n   \\n \\n     J u s t   b o u g h t   t ...                0\n",
              "25                          W e l l   c r a f t e d .                0\n",
              "26                                  P o w e r f u l .                0\n",
              "27    F e e l   g r e a t   i n   y o u r   p a l m .                0\n",
              "28                T o p   n o t c h   c a m e r a s .                0\n",
              "29  H o w e v e r ,   s p e n d i n g   o v e r   ...                0\n",
              "30                                        A p p l e .                0\n",
              "31                                                  .                0\n",
              "32                                                  .                0\n",
              "33  d o n ’ t   b e   r e d i c u l o u s ,   m a ...                0\n",
              "34  H o w   d o   y o u   e x p e c t   a n d r o ...                0\n",
              "35  F o r   t h a t   r e a s o n ,   I   o n l y ...                0\n",
              "36  D o n t   w a s t e   y o u r   m o n e y   b ...                0\n",
              "37  T h e   i P h o n e   1 2   P r o   h a s   t ...                0\n",
              "38  S o   t h e r e   i s   a n   e x t r a   1 2 ...                0\n",
              "39  I n t e r e s t i n g l y ,   t h e   t e l e ...                0\n",
              "40  O n e   o f   t h e   b e s t   l o o k i n g ...                0\n",
              "41  C a m e r a   i s   e x c e l l e n t   a n d ...                0\n",
              "42  O n l y   i s s u e   i s   i t   d o e s   n ...                0\n",
              "43                                                  !                0\n",
              "44                                G o   f o r   i t !                0\n",
              "45                                                  !                0\n",
              "46  S o   f a r   t h e   t h e   b a t t e r y   ...                0\n",
              "47                      S o   f a r   s o   g o o d !                0\n",
              "48                                                  !                0"
            ]
          },
          "metadata": {},
          "execution_count": 39
        }
      ]
    },
    {
      "cell_type": "code",
      "source": [
        "# how many words are in the sentence?\n",
        "sent_df['word_count'] = sent_df['sentence'].str.split().apply(len)\n",
        "sent_df['word_count'].head(10)"
      ],
      "metadata": {
        "colab": {
          "base_uri": "https://localhost:8080/"
        },
        "id": "fcMva4Cc9JRa",
        "outputId": "ee3b7795-a954-4506-a667-01976eb80cc9"
      },
      "execution_count": 40,
      "outputs": [
        {
          "output_type": "execute_result",
          "data": {
            "text/plain": [
              "0     84\n",
              "1     21\n",
              "2     26\n",
              "3    113\n",
              "4     96\n",
              "5    105\n",
              "6     39\n",
              "7     42\n",
              "8     28\n",
              "9     14\n",
              "Name: word_count, dtype: int64"
            ]
          },
          "metadata": {},
          "execution_count": 40
        }
      ]
    },
    {
      "cell_type": "code",
      "source": [
        "sent_df.sort_values(by='sentiment_value').tail(10)"
      ],
      "metadata": {
        "colab": {
          "base_uri": "https://localhost:8080/",
          "height": 363
        },
        "id": "XGgYD5Tq9JPM",
        "outputId": "2d4fbbfd-44f0-4036-9def-8a3fdf9a9de8"
      },
      "execution_count": 41,
      "outputs": [
        {
          "output_type": "execute_result",
          "data": {
            "text/html": [
              "\n",
              "  <div id=\"df-d889d061-64ed-45b3-86ed-a788bef5dfc1\">\n",
              "    <div class=\"colab-df-container\">\n",
              "      <div>\n",
              "<style scoped>\n",
              "    .dataframe tbody tr th:only-of-type {\n",
              "        vertical-align: middle;\n",
              "    }\n",
              "\n",
              "    .dataframe tbody tr th {\n",
              "        vertical-align: top;\n",
              "    }\n",
              "\n",
              "    .dataframe thead th {\n",
              "        text-align: right;\n",
              "    }\n",
              "</style>\n",
              "<table border=\"1\" class=\"dataframe\">\n",
              "  <thead>\n",
              "    <tr style=\"text-align: right;\">\n",
              "      <th></th>\n",
              "      <th>sentence</th>\n",
              "      <th>sentiment_value</th>\n",
              "      <th>word_count</th>\n",
              "    </tr>\n",
              "  </thead>\n",
              "  <tbody>\n",
              "    <tr>\n",
              "      <th>14</th>\n",
              "      <td>1 )   C h e a p   Q u a l i t y   I n   V e r ...</td>\n",
              "      <td>0</td>\n",
              "      <td>34</td>\n",
              "    </tr>\n",
              "    <tr>\n",
              "      <th>15</th>\n",
              "      <td>🤯   2 )   5   V o l t   D u m b e s t   C h a ...</td>\n",
              "      <td>0</td>\n",
              "      <td>23</td>\n",
              "    </tr>\n",
              "    <tr>\n",
              "      <th>16</th>\n",
              "      <td>🐮 🐮   3 )   T h i s   P h o n e   i s   m o s ...</td>\n",
              "      <td>0</td>\n",
              "      <td>37</td>\n",
              "    </tr>\n",
              "    <tr>\n",
              "      <th>17</th>\n",
              "      <td>⚠ ️   4 )   A p p l e   i s   B e g g e r   i ...</td>\n",
              "      <td>0</td>\n",
              "      <td>34</td>\n",
              "    </tr>\n",
              "    <tr>\n",
              "      <th>18</th>\n",
              "      <td>😘 l o v e   y o u   f o r   S t a t u s 😘 🤣   ...</td>\n",
              "      <td>0</td>\n",
              "      <td>80</td>\n",
              "    </tr>\n",
              "    <tr>\n",
              "      <th>19</th>\n",
              "      <td>😂 😂 \\n \\n   \\n \\n     J u s t   m a d e   a n ...</td>\n",
              "      <td>0</td>\n",
              "      <td>161</td>\n",
              "    </tr>\n",
              "    <tr>\n",
              "      <th>20</th>\n",
              "      <td>T h e   p o r t r a i t   m o d e ,   t h e   ...</td>\n",
              "      <td>0</td>\n",
              "      <td>78</td>\n",
              "    </tr>\n",
              "    <tr>\n",
              "      <th>21</th>\n",
              "      <td>T h i s   i s   t r u l y   a   c a m e r a   ...</td>\n",
              "      <td>0</td>\n",
              "      <td>61</td>\n",
              "    </tr>\n",
              "    <tr>\n",
              "      <th>23</th>\n",
              "      <td>T h e   o n l y   c o n s   I   f i n d   w i ...</td>\n",
              "      <td>0</td>\n",
              "      <td>117</td>\n",
              "    </tr>\n",
              "    <tr>\n",
              "      <th>48</th>\n",
              "      <td>!</td>\n",
              "      <td>0</td>\n",
              "      <td>1</td>\n",
              "    </tr>\n",
              "  </tbody>\n",
              "</table>\n",
              "</div>\n",
              "      <button class=\"colab-df-convert\" onclick=\"convertToInteractive('df-d889d061-64ed-45b3-86ed-a788bef5dfc1')\"\n",
              "              title=\"Convert this dataframe to an interactive table.\"\n",
              "              style=\"display:none;\">\n",
              "        \n",
              "  <svg xmlns=\"http://www.w3.org/2000/svg\" height=\"24px\"viewBox=\"0 0 24 24\"\n",
              "       width=\"24px\">\n",
              "    <path d=\"M0 0h24v24H0V0z\" fill=\"none\"/>\n",
              "    <path d=\"M18.56 5.44l.94 2.06.94-2.06 2.06-.94-2.06-.94-.94-2.06-.94 2.06-2.06.94zm-11 1L8.5 8.5l.94-2.06 2.06-.94-2.06-.94L8.5 2.5l-.94 2.06-2.06.94zm10 10l.94 2.06.94-2.06 2.06-.94-2.06-.94-.94-2.06-.94 2.06-2.06.94z\"/><path d=\"M17.41 7.96l-1.37-1.37c-.4-.4-.92-.59-1.43-.59-.52 0-1.04.2-1.43.59L10.3 9.45l-7.72 7.72c-.78.78-.78 2.05 0 2.83L4 21.41c.39.39.9.59 1.41.59.51 0 1.02-.2 1.41-.59l7.78-7.78 2.81-2.81c.8-.78.8-2.07 0-2.86zM5.41 20L4 18.59l7.72-7.72 1.47 1.35L5.41 20z\"/>\n",
              "  </svg>\n",
              "      </button>\n",
              "      \n",
              "  <style>\n",
              "    .colab-df-container {\n",
              "      display:flex;\n",
              "      flex-wrap:wrap;\n",
              "      gap: 12px;\n",
              "    }\n",
              "\n",
              "    .colab-df-convert {\n",
              "      background-color: #E8F0FE;\n",
              "      border: none;\n",
              "      border-radius: 50%;\n",
              "      cursor: pointer;\n",
              "      display: none;\n",
              "      fill: #1967D2;\n",
              "      height: 32px;\n",
              "      padding: 0 0 0 0;\n",
              "      width: 32px;\n",
              "    }\n",
              "\n",
              "    .colab-df-convert:hover {\n",
              "      background-color: #E2EBFA;\n",
              "      box-shadow: 0px 1px 2px rgba(60, 64, 67, 0.3), 0px 1px 3px 1px rgba(60, 64, 67, 0.15);\n",
              "      fill: #174EA6;\n",
              "    }\n",
              "\n",
              "    [theme=dark] .colab-df-convert {\n",
              "      background-color: #3B4455;\n",
              "      fill: #D2E3FC;\n",
              "    }\n",
              "\n",
              "    [theme=dark] .colab-df-convert:hover {\n",
              "      background-color: #434B5C;\n",
              "      box-shadow: 0px 1px 3px 1px rgba(0, 0, 0, 0.15);\n",
              "      filter: drop-shadow(0px 1px 2px rgba(0, 0, 0, 0.3));\n",
              "      fill: #FFFFFF;\n",
              "    }\n",
              "  </style>\n",
              "\n",
              "      <script>\n",
              "        const buttonEl =\n",
              "          document.querySelector('#df-d889d061-64ed-45b3-86ed-a788bef5dfc1 button.colab-df-convert');\n",
              "        buttonEl.style.display =\n",
              "          google.colab.kernel.accessAllowed ? 'block' : 'none';\n",
              "\n",
              "        async function convertToInteractive(key) {\n",
              "          const element = document.querySelector('#df-d889d061-64ed-45b3-86ed-a788bef5dfc1');\n",
              "          const dataTable =\n",
              "            await google.colab.kernel.invokeFunction('convertToInteractive',\n",
              "                                                     [key], {});\n",
              "          if (!dataTable) return;\n",
              "\n",
              "          const docLinkHtml = 'Like what you see? Visit the ' +\n",
              "            '<a target=\"_blank\" href=https://colab.research.google.com/notebooks/data_table.ipynb>data table notebook</a>'\n",
              "            + ' to learn more about interactive tables.';\n",
              "          element.innerHTML = '';\n",
              "          dataTable['output_type'] = 'display_data';\n",
              "          await google.colab.output.renderOutput(dataTable, element);\n",
              "          const docLink = document.createElement('div');\n",
              "          docLink.innerHTML = docLinkHtml;\n",
              "          element.appendChild(docLink);\n",
              "        }\n",
              "      </script>\n",
              "    </div>\n",
              "  </div>\n",
              "  "
            ],
            "text/plain": [
              "                                             sentence  ...  word_count\n",
              "14  1 )   C h e a p   Q u a l i t y   I n   V e r ...  ...          34\n",
              "15  🤯   2 )   5   V o l t   D u m b e s t   C h a ...  ...          23\n",
              "16  🐮 🐮   3 )   T h i s   P h o n e   i s   m o s ...  ...          37\n",
              "17  ⚠ ️   4 )   A p p l e   i s   B e g g e r   i ...  ...          34\n",
              "18  😘 l o v e   y o u   f o r   S t a t u s 😘 🤣   ...  ...          80\n",
              "19  😂 😂 \\n \\n   \\n \\n     J u s t   m a d e   a n ...  ...         161\n",
              "20  T h e   p o r t r a i t   m o d e ,   t h e   ...  ...          78\n",
              "21  T h i s   i s   t r u l y   a   c a m e r a   ...  ...          61\n",
              "23  T h e   o n l y   c o n s   I   f i n d   w i ...  ...         117\n",
              "48                                                  !  ...           1\n",
              "\n",
              "[10 rows x 3 columns]"
            ]
          },
          "metadata": {},
          "execution_count": 41
        }
      ]
    },
    {
      "cell_type": "code",
      "source": [
        "sent_df['sentiment_value'].describe()"
      ],
      "metadata": {
        "colab": {
          "base_uri": "https://localhost:8080/"
        },
        "id": "5iryY9ZU9JMS",
        "outputId": "9ca58da8-7169-47ca-d9ee-94d4d15bc1b8"
      },
      "execution_count": 42,
      "outputs": [
        {
          "output_type": "execute_result",
          "data": {
            "text/plain": [
              "count    49.0\n",
              "mean      0.0\n",
              "std       0.0\n",
              "min       0.0\n",
              "25%       0.0\n",
              "50%       0.0\n",
              "75%       0.0\n",
              "max       0.0\n",
              "Name: sentiment_value, dtype: float64"
            ]
          },
          "metadata": {},
          "execution_count": 42
        }
      ]
    },
    {
      "cell_type": "code",
      "source": [
        "\n",
        "sent_df[sent_df['sentiment_value']<=0].head()"
      ],
      "metadata": {
        "colab": {
          "base_uri": "https://localhost:8080/",
          "height": 206
        },
        "id": "kbLS7WSa9JKG",
        "outputId": "d4441d64-ce54-44c3-b1a4-10313c8ebb65"
      },
      "execution_count": 43,
      "outputs": [
        {
          "output_type": "execute_result",
          "data": {
            "text/html": [
              "\n",
              "  <div id=\"df-78e34a82-92c6-42c2-ac0f-39bd48412582\">\n",
              "    <div class=\"colab-df-container\">\n",
              "      <div>\n",
              "<style scoped>\n",
              "    .dataframe tbody tr th:only-of-type {\n",
              "        vertical-align: middle;\n",
              "    }\n",
              "\n",
              "    .dataframe tbody tr th {\n",
              "        vertical-align: top;\n",
              "    }\n",
              "\n",
              "    .dataframe thead th {\n",
              "        text-align: right;\n",
              "    }\n",
              "</style>\n",
              "<table border=\"1\" class=\"dataframe\">\n",
              "  <thead>\n",
              "    <tr style=\"text-align: right;\">\n",
              "      <th></th>\n",
              "      <th>sentence</th>\n",
              "      <th>sentiment_value</th>\n",
              "      <th>word_count</th>\n",
              "    </tr>\n",
              "  </thead>\n",
              "  <tbody>\n",
              "    <tr>\n",
              "      <th>0</th>\n",
              "      <td>\\n \\n     T h e   w o r s t   p h o n e   i   ...</td>\n",
              "      <td>0</td>\n",
              "      <td>84</td>\n",
              "    </tr>\n",
              "    <tr>\n",
              "      <th>1</th>\n",
              "      <td>I t ’ s   t h e   b e s t   i P h o n e   y e t .</td>\n",
              "      <td>0</td>\n",
              "      <td>21</td>\n",
              "    </tr>\n",
              "    <tr>\n",
              "      <th>2</th>\n",
              "      <td>C a m e r a   a n d   d i s p l a y   i s   a ...</td>\n",
              "      <td>0</td>\n",
              "      <td>26</td>\n",
              "    </tr>\n",
              "    <tr>\n",
              "      <th>3</th>\n",
              "      <td>P r e m i u m   p r o d u c t \\n \\n   \\n \\n   ...</td>\n",
              "      <td>0</td>\n",
              "      <td>113</td>\n",
              "    </tr>\n",
              "    <tr>\n",
              "      <th>4</th>\n",
              "      <td>N o w   t h e r e   i s   n o   o p t i o n   ...</td>\n",
              "      <td>0</td>\n",
              "      <td>96</td>\n",
              "    </tr>\n",
              "  </tbody>\n",
              "</table>\n",
              "</div>\n",
              "      <button class=\"colab-df-convert\" onclick=\"convertToInteractive('df-78e34a82-92c6-42c2-ac0f-39bd48412582')\"\n",
              "              title=\"Convert this dataframe to an interactive table.\"\n",
              "              style=\"display:none;\">\n",
              "        \n",
              "  <svg xmlns=\"http://www.w3.org/2000/svg\" height=\"24px\"viewBox=\"0 0 24 24\"\n",
              "       width=\"24px\">\n",
              "    <path d=\"M0 0h24v24H0V0z\" fill=\"none\"/>\n",
              "    <path d=\"M18.56 5.44l.94 2.06.94-2.06 2.06-.94-2.06-.94-.94-2.06-.94 2.06-2.06.94zm-11 1L8.5 8.5l.94-2.06 2.06-.94-2.06-.94L8.5 2.5l-.94 2.06-2.06.94zm10 10l.94 2.06.94-2.06 2.06-.94-2.06-.94-.94-2.06-.94 2.06-2.06.94z\"/><path d=\"M17.41 7.96l-1.37-1.37c-.4-.4-.92-.59-1.43-.59-.52 0-1.04.2-1.43.59L10.3 9.45l-7.72 7.72c-.78.78-.78 2.05 0 2.83L4 21.41c.39.39.9.59 1.41.59.51 0 1.02-.2 1.41-.59l7.78-7.78 2.81-2.81c.8-.78.8-2.07 0-2.86zM5.41 20L4 18.59l7.72-7.72 1.47 1.35L5.41 20z\"/>\n",
              "  </svg>\n",
              "      </button>\n",
              "      \n",
              "  <style>\n",
              "    .colab-df-container {\n",
              "      display:flex;\n",
              "      flex-wrap:wrap;\n",
              "      gap: 12px;\n",
              "    }\n",
              "\n",
              "    .colab-df-convert {\n",
              "      background-color: #E8F0FE;\n",
              "      border: none;\n",
              "      border-radius: 50%;\n",
              "      cursor: pointer;\n",
              "      display: none;\n",
              "      fill: #1967D2;\n",
              "      height: 32px;\n",
              "      padding: 0 0 0 0;\n",
              "      width: 32px;\n",
              "    }\n",
              "\n",
              "    .colab-df-convert:hover {\n",
              "      background-color: #E2EBFA;\n",
              "      box-shadow: 0px 1px 2px rgba(60, 64, 67, 0.3), 0px 1px 3px 1px rgba(60, 64, 67, 0.15);\n",
              "      fill: #174EA6;\n",
              "    }\n",
              "\n",
              "    [theme=dark] .colab-df-convert {\n",
              "      background-color: #3B4455;\n",
              "      fill: #D2E3FC;\n",
              "    }\n",
              "\n",
              "    [theme=dark] .colab-df-convert:hover {\n",
              "      background-color: #434B5C;\n",
              "      box-shadow: 0px 1px 3px 1px rgba(0, 0, 0, 0.15);\n",
              "      filter: drop-shadow(0px 1px 2px rgba(0, 0, 0, 0.3));\n",
              "      fill: #FFFFFF;\n",
              "    }\n",
              "  </style>\n",
              "\n",
              "      <script>\n",
              "        const buttonEl =\n",
              "          document.querySelector('#df-78e34a82-92c6-42c2-ac0f-39bd48412582 button.colab-df-convert');\n",
              "        buttonEl.style.display =\n",
              "          google.colab.kernel.accessAllowed ? 'block' : 'none';\n",
              "\n",
              "        async function convertToInteractive(key) {\n",
              "          const element = document.querySelector('#df-78e34a82-92c6-42c2-ac0f-39bd48412582');\n",
              "          const dataTable =\n",
              "            await google.colab.kernel.invokeFunction('convertToInteractive',\n",
              "                                                     [key], {});\n",
              "          if (!dataTable) return;\n",
              "\n",
              "          const docLinkHtml = 'Like what you see? Visit the ' +\n",
              "            '<a target=\"_blank\" href=https://colab.research.google.com/notebooks/data_table.ipynb>data table notebook</a>'\n",
              "            + ' to learn more about interactive tables.';\n",
              "          element.innerHTML = '';\n",
              "          dataTable['output_type'] = 'display_data';\n",
              "          await google.colab.output.renderOutput(dataTable, element);\n",
              "          const docLink = document.createElement('div');\n",
              "          docLink.innerHTML = docLinkHtml;\n",
              "          element.appendChild(docLink);\n",
              "        }\n",
              "      </script>\n",
              "    </div>\n",
              "  </div>\n",
              "  "
            ],
            "text/plain": [
              "                                            sentence  ...  word_count\n",
              "0  \\n \\n     T h e   w o r s t   p h o n e   i   ...  ...          84\n",
              "1  I t ’ s   t h e   b e s t   i P h o n e   y e t .  ...          21\n",
              "2  C a m e r a   a n d   d i s p l a y   i s   a ...  ...          26\n",
              "3  P r e m i u m   p r o d u c t \\n \\n   \\n \\n   ...  ...         113\n",
              "4  N o w   t h e r e   i s   n o   o p t i o n   ...  ...          96\n",
              "\n",
              "[5 rows x 3 columns]"
            ]
          },
          "metadata": {},
          "execution_count": 43
        }
      ]
    },
    {
      "cell_type": "code",
      "source": [
        "sent_df[sent_df['sentiment_value']<=5].head()['sentence'].tolist()[0]"
      ],
      "metadata": {
        "colab": {
          "base_uri": "https://localhost:8080/",
          "height": 53
        },
        "id": "WwBPjW7w9JIc",
        "outputId": "84152a48-ef4c-4ff9-c2af-f6ec289a51a9"
      },
      "execution_count": 44,
      "outputs": [
        {
          "output_type": "execute_result",
          "data": {
            "application/vnd.google.colaboratory.intrinsic+json": {
              "type": "string"
            },
            "text/plain": [
              "'\\n \\n     T h e   w o r s t   p h o n e   i   e v e r   p u r c h a s e d   p l e a s e   d o n ’ t   b u y   t h i s   f r a u d   p r o d u c t   f r o m   a n   i r r e s p o n s i b l e   c o m p a n y .'"
            ]
          },
          "metadata": {},
          "execution_count": 44
        }
      ]
    },
    {
      "cell_type": "code",
      "source": [
        "sent_df['index']=range(0,len(sent_df))"
      ],
      "metadata": {
        "id": "IeAIooih9JD_"
      },
      "execution_count": 45,
      "outputs": []
    },
    {
      "cell_type": "code",
      "source": [
        "import seaborn as sns\n",
        "import matplotlib.pyplot as plt\n",
        "sns.distplot(sent_df['sentiment_value'])"
      ],
      "metadata": {
        "colab": {
          "base_uri": "https://localhost:8080/",
          "height": 386
        },
        "id": "Se1FPe__9la9",
        "outputId": "94fdce49-c912-435b-f88e-46a5011ed069"
      },
      "execution_count": 46,
      "outputs": [
        {
          "output_type": "stream",
          "name": "stderr",
          "text": [
            "/usr/local/lib/python3.7/dist-packages/seaborn/distributions.py:2619: FutureWarning: `distplot` is a deprecated function and will be removed in a future version. Please adapt your code to use either `displot` (a figure-level function with similar flexibility) or `histplot` (an axes-level function for histograms).\n",
            "  warnings.warn(msg, FutureWarning)\n",
            "/usr/local/lib/python3.7/dist-packages/seaborn/distributions.py:316: UserWarning: Dataset has 0 variance; skipping density estimate. Pass `warn_singular=False` to disable this warning.\n",
            "  warnings.warn(msg, UserWarning)\n"
          ]
        },
        {
          "output_type": "execute_result",
          "data": {
            "text/plain": [
              "<matplotlib.axes._subplots.AxesSubplot at 0x7fd82b29c190>"
            ]
          },
          "metadata": {},
          "execution_count": 46
        },
        {
          "output_type": "display_data",
          "data": {
            "image/png": "[encoded data removed]",
            "text/plain": [
              "<Figure size 432x288 with 1 Axes>"
            ]
          },
          "metadata": {
            "needs_background": "light"
          }
        }
      ]
    },
    {
      "cell_type": "code",
      "source": [
        "plt.figure(figsize=(15, 10))\n",
        "sns.lineplot(y='sentiment_value',x='index',data=sent_df)"
      ],
      "metadata": {
        "colab": {
          "base_uri": "https://localhost:8080/",
          "height": 623
        },
        "id": "h__oG5dI9lY0",
        "outputId": "f993a9e9-69e2-4884-9f94-b4edb713e9fe"
      },
      "execution_count": 47,
      "outputs": [
        {
          "output_type": "execute_result",
          "data": {
            "text/plain": [
              "<matplotlib.axes._subplots.AxesSubplot at 0x7fd82b17bb50>"
            ]
          },
          "metadata": {},
          "execution_count": 47
        },
        {
          "output_type": "display_data",
          "data": {
            "image/png": "[encoded data removed]",
            "text/plain": [
              "<Figure size 1080x720 with 1 Axes>"
            ]
          },
          "metadata": {
            "needs_background": "light"
          }
        }
      ]
    },
    {
      "cell_type": "code",
      "source": [
        "sent_df.plot.scatter(x='word_count', y='sentiment_value', figsize=(8,8), title='Sentence sentiment value to sentence word count')"
      ],
      "metadata": {
        "colab": {
          "base_uri": "https://localhost:8080/",
          "height": 531
        },
        "id": "Ww20FnTK9lU1",
        "outputId": "cc561ccf-5153-42f1-b048-d192607afccd"
      },
      "execution_count": 48,
      "outputs": [
        {
          "output_type": "execute_result",
          "data": {
            "text/plain": [
              "<matplotlib.axes._subplots.AxesSubplot at 0x7fd829408b10>"
            ]
          },
          "metadata": {},
          "execution_count": 48
        },
        {
          "output_type": "display_data",
          "data": {
            "image/png": "[encoded data removed]",
            "text/plain": [
              "<Figure size 576x576 with 1 Axes>"
            ]
          },
          "metadata": {
            "needs_background": "light"
          }
        }
      ]
    },
    {
      "cell_type": "code",
      "source": [
        "\n",
        "feature_names = tf.get_feature_names()\n",
        "dense = text_tf.todense()\n",
        "denselist = dense.tolist()\n",
        "df =pd.DataFrame(denselist, columns=feature_names)"
      ],
      "metadata": {
        "colab": {
          "base_uri": "https://localhost:8080/"
        },
        "id": "aq92GSJN-WOs",
        "outputId": "07390324-af30-4ef6-ae17-bde0c068694f"
      },
      "execution_count": 50,
      "outputs": [
        {
          "output_type": "stream",
          "name": "stderr",
          "text": [
            "/usr/local/lib/python3.7/dist-packages/sklearn/utils/deprecation.py:87: FutureWarning: Function get_feature_names is deprecated; get_feature_names is deprecated in 1.0 and will be removed in 1.2. Please use get_feature_names_out instead.\n",
            "  warnings.warn(msg, category=FutureWarning)\n"
          ]
        }
      ]
    },
    {
      "cell_type": "code",
      "source": [
        "word_list = ' '.join(df)"
      ],
      "metadata": {
        "id": "0k_BsW5s941z"
      },
      "execution_count": 51,
      "outputs": []
    },
    {
      "cell_type": "code",
      "source": [
        "word_list = ' '.join(df)"
      ],
      "metadata": {
        "id": "WN_mBeWF-Ayb"
      },
      "execution_count": 52,
      "outputs": []
    },
    {
      "cell_type": "code",
      "source": [
        "wordcloud = WordCloud(background_color='black',\n",
        "                      width=1800,\n",
        "                      height=1400).generate(word_list)"
      ],
      "metadata": {
        "id": "X9JWZti5-AvS"
      },
      "execution_count": 53,
      "outputs": []
    },
    {
      "cell_type": "code",
      "source": [
        "plt.imshow(wordcloud)"
      ],
      "metadata": {
        "colab": {
          "base_uri": "https://localhost:8080/",
          "height": 286
        },
        "id": "BOcWccqv-Ara",
        "outputId": "89c3d1ac-9dfb-49dc-b898-aeb91e351cc7"
      },
      "execution_count": 54,
      "outputs": [
        {
          "output_type": "execute_result",
          "data": {
            "text/plain": [
              "<matplotlib.image.AxesImage at 0x7fd8293ba0d0>"
            ]
          },
          "metadata": {},
          "execution_count": 54
        },
        {
          "output_type": "display_data",
          "data": {
            "image/png": "[encoded data removed]",
            "text/plain": [
              "<Figure size 432x288 with 1 Axes>"
            ]
          },
          "metadata": {
            "needs_background": "light"
          }
        }
      ]
    }
  ]
}