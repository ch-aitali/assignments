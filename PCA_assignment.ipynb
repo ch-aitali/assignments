{
  "nbformat": 4,
  "nbformat_minor": 0,
  "metadata": {
    "colab": {
      "name": "PCA assignment.ipynb",
      "provenance": [],
      "authorship_tag": "ABX9TyOVMZDDvLVGmFb6Ec5CrA3j",
      "include_colab_link": true
    },
    "kernelspec": {
      "name": "python3",
      "display_name": "Python 3"
    },
    "language_info": {
      "name": "python"
    }
  },
  "cells": [
    {
      "cell_type": "markdown",
      "metadata": {
        "id": "view-in-github",
        "colab_type": "text"
      },
      "source": [
        "<a href=\"https://colab.research.google.com/github/ch-aitali/assignments/blob/main/PCA_assignment.ipynb\" target=\"_parent\"><img src=\"https://colab.research.google.com/assets/colab-badge.svg\" alt=\"Open In Colab\"/></a>"
      ]
    },
    {
      "cell_type": "code",
      "execution_count": 1,
      "metadata": {
        "id": "sZj5M0M4iRxN"
      },
      "outputs": [],
      "source": [
        "import pandas as pd \n",
        "import numpy as np\n",
        "from sklearn.decomposition import PCA\n",
        "import matplotlib.pyplot as plt\n",
        "from sklearn.preprocessing import scale"
      ]
    },
    {
      "cell_type": "code",
      "source": [
        "data=pd.read_csv(\"/content/wine.csv\")"
      ],
      "metadata": {
        "id": "nXUkl70TiTPS"
      },
      "execution_count": 2,
      "outputs": []
    },
    {
      "cell_type": "code",
      "source": [
        "print(data.describe())\n",
        "data.head()"
      ],
      "metadata": {
        "colab": {
          "base_uri": "https://localhost:8080/",
          "height": 397
        },
        "id": "bwMt74kjiTTf",
        "outputId": "d84c4da8-fc10-48ed-d722-99fbbcde19d9"
      },
      "execution_count": 3,
      "outputs": [
        {
          "output_type": "stream",
          "name": "stdout",
          "text": [
            "             Type     Alcohol       Malic  ...         Hue    Dilution      Proline\n",
            "count  178.000000  178.000000  178.000000  ...  178.000000  178.000000   178.000000\n",
            "mean     1.938202   13.000618    2.336348  ...    0.957449    2.611685   746.893258\n",
            "std      0.775035    0.811827    1.117146  ...    0.228572    0.709990   314.907474\n",
            "min      1.000000   11.030000    0.740000  ...    0.480000    1.270000   278.000000\n",
            "25%      1.000000   12.362500    1.602500  ...    0.782500    1.937500   500.500000\n",
            "50%      2.000000   13.050000    1.865000  ...    0.965000    2.780000   673.500000\n",
            "75%      3.000000   13.677500    3.082500  ...    1.120000    3.170000   985.000000\n",
            "max      3.000000   14.830000    5.800000  ...    1.710000    4.000000  1680.000000\n",
            "\n",
            "[8 rows x 14 columns]\n"
          ]
        },
        {
          "output_type": "execute_result",
          "data": {
            "text/html": [
              "<div>\n",
              "<style scoped>\n",
              "    .dataframe tbody tr th:only-of-type {\n",
              "        vertical-align: middle;\n",
              "    }\n",
              "\n",
              "    .dataframe tbody tr th {\n",
              "        vertical-align: top;\n",
              "    }\n",
              "\n",
              "    .dataframe thead th {\n",
              "        text-align: right;\n",
              "    }\n",
              "</style>\n",
              "<table border=\"1\" class=\"dataframe\">\n",
              "  <thead>\n",
              "    <tr style=\"text-align: right;\">\n",
              "      <th></th>\n",
              "      <th>Type</th>\n",
              "      <th>Alcohol</th>\n",
              "      <th>Malic</th>\n",
              "      <th>Ash</th>\n",
              "      <th>Alcalinity</th>\n",
              "      <th>Magnesium</th>\n",
              "      <th>Phenols</th>\n",
              "      <th>Flavanoids</th>\n",
              "      <th>Nonflavanoids</th>\n",
              "      <th>Proanthocyanins</th>\n",
              "      <th>Color</th>\n",
              "      <th>Hue</th>\n",
              "      <th>Dilution</th>\n",
              "      <th>Proline</th>\n",
              "    </tr>\n",
              "  </thead>\n",
              "  <tbody>\n",
              "    <tr>\n",
              "      <th>0</th>\n",
              "      <td>1</td>\n",
              "      <td>14.23</td>\n",
              "      <td>1.71</td>\n",
              "      <td>2.43</td>\n",
              "      <td>15.6</td>\n",
              "      <td>127</td>\n",
              "      <td>2.80</td>\n",
              "      <td>3.06</td>\n",
              "      <td>0.28</td>\n",
              "      <td>2.29</td>\n",
              "      <td>5.64</td>\n",
              "      <td>1.04</td>\n",
              "      <td>3.92</td>\n",
              "      <td>1065</td>\n",
              "    </tr>\n",
              "    <tr>\n",
              "      <th>1</th>\n",
              "      <td>1</td>\n",
              "      <td>13.20</td>\n",
              "      <td>1.78</td>\n",
              "      <td>2.14</td>\n",
              "      <td>11.2</td>\n",
              "      <td>100</td>\n",
              "      <td>2.65</td>\n",
              "      <td>2.76</td>\n",
              "      <td>0.26</td>\n",
              "      <td>1.28</td>\n",
              "      <td>4.38</td>\n",
              "      <td>1.05</td>\n",
              "      <td>3.40</td>\n",
              "      <td>1050</td>\n",
              "    </tr>\n",
              "    <tr>\n",
              "      <th>2</th>\n",
              "      <td>1</td>\n",
              "      <td>13.16</td>\n",
              "      <td>2.36</td>\n",
              "      <td>2.67</td>\n",
              "      <td>18.6</td>\n",
              "      <td>101</td>\n",
              "      <td>2.80</td>\n",
              "      <td>3.24</td>\n",
              "      <td>0.30</td>\n",
              "      <td>2.81</td>\n",
              "      <td>5.68</td>\n",
              "      <td>1.03</td>\n",
              "      <td>3.17</td>\n",
              "      <td>1185</td>\n",
              "    </tr>\n",
              "    <tr>\n",
              "      <th>3</th>\n",
              "      <td>1</td>\n",
              "      <td>14.37</td>\n",
              "      <td>1.95</td>\n",
              "      <td>2.50</td>\n",
              "      <td>16.8</td>\n",
              "      <td>113</td>\n",
              "      <td>3.85</td>\n",
              "      <td>3.49</td>\n",
              "      <td>0.24</td>\n",
              "      <td>2.18</td>\n",
              "      <td>7.80</td>\n",
              "      <td>0.86</td>\n",
              "      <td>3.45</td>\n",
              "      <td>1480</td>\n",
              "    </tr>\n",
              "    <tr>\n",
              "      <th>4</th>\n",
              "      <td>1</td>\n",
              "      <td>13.24</td>\n",
              "      <td>2.59</td>\n",
              "      <td>2.87</td>\n",
              "      <td>21.0</td>\n",
              "      <td>118</td>\n",
              "      <td>2.80</td>\n",
              "      <td>2.69</td>\n",
              "      <td>0.39</td>\n",
              "      <td>1.82</td>\n",
              "      <td>4.32</td>\n",
              "      <td>1.04</td>\n",
              "      <td>2.93</td>\n",
              "      <td>735</td>\n",
              "    </tr>\n",
              "  </tbody>\n",
              "</table>\n",
              "</div>"
            ],
            "text/plain": [
              "   Type  Alcohol  Malic   Ash  ...  Color   Hue  Dilution  Proline\n",
              "0     1    14.23   1.71  2.43  ...   5.64  1.04      3.92     1065\n",
              "1     1    13.20   1.78  2.14  ...   4.38  1.05      3.40     1050\n",
              "2     1    13.16   2.36  2.67  ...   5.68  1.03      3.17     1185\n",
              "3     1    14.37   1.95  2.50  ...   7.80  0.86      3.45     1480\n",
              "4     1    13.24   2.59  2.87  ...   4.32  1.04      2.93      735\n",
              "\n",
              "[5 rows x 14 columns]"
            ]
          },
          "metadata": {},
          "execution_count": 3
        }
      ]
    },
    {
      "cell_type": "code",
      "source": [
        "wine=data.values\n",
        "wine"
      ],
      "metadata": {
        "colab": {
          "base_uri": "https://localhost:8080/"
        },
        "id": "n3_d3cIYiTWI",
        "outputId": "165a7084-d6b0-466c-ed5e-65ea00b36fdb"
      },
      "execution_count": 6,
      "outputs": [
        {
          "output_type": "execute_result",
          "data": {
            "text/plain": [
              "array([[1.000e+00, 1.423e+01, 1.710e+00, ..., 1.040e+00, 3.920e+00,\n",
              "        1.065e+03],\n",
              "       [1.000e+00, 1.320e+01, 1.780e+00, ..., 1.050e+00, 3.400e+00,\n",
              "        1.050e+03],\n",
              "       [1.000e+00, 1.316e+01, 2.360e+00, ..., 1.030e+00, 3.170e+00,\n",
              "        1.185e+03],\n",
              "       ...,\n",
              "       [3.000e+00, 1.327e+01, 4.280e+00, ..., 5.900e-01, 1.560e+00,\n",
              "        8.350e+02],\n",
              "       [3.000e+00, 1.317e+01, 2.590e+00, ..., 6.000e-01, 1.620e+00,\n",
              "        8.400e+02],\n",
              "       [3.000e+00, 1.413e+01, 4.100e+00, ..., 6.100e-01, 1.600e+00,\n",
              "        5.600e+02]])"
            ]
          },
          "metadata": {},
          "execution_count": 6
        }
      ]
    },
    {
      "cell_type": "code",
      "source": [
        "# Normalizing the numerical data \n",
        " \n",
        "wine_normal = scale(wine)"
      ],
      "metadata": {
        "id": "ut4IdSQhiTXe"
      },
      "execution_count": 7,
      "outputs": []
    },
    {
      "cell_type": "code",
      "source": [
        "wine_normal "
      ],
      "metadata": {
        "colab": {
          "base_uri": "https://localhost:8080/"
        },
        "id": "sXVbZwd9iTZ-",
        "outputId": "c671dd1d-9252-482f-b84f-f105fa84dd0c"
      },
      "execution_count": 8,
      "outputs": [
        {
          "output_type": "execute_result",
          "data": {
            "text/plain": [
              "array([[-1.21394365,  1.51861254, -0.5622498 , ...,  0.36217728,\n",
              "         1.84791957,  1.01300893],\n",
              "       [-1.21394365,  0.24628963, -0.49941338, ...,  0.40605066,\n",
              "         1.1134493 ,  0.96524152],\n",
              "       [-1.21394365,  0.19687903,  0.02123125, ...,  0.31830389,\n",
              "         0.78858745,  1.39514818],\n",
              "       ...,\n",
              "       [ 1.37386437,  0.33275817,  1.74474449, ..., -1.61212515,\n",
              "        -1.48544548,  0.28057537],\n",
              "       [ 1.37386437,  0.20923168,  0.22769377, ..., -1.56825176,\n",
              "        -1.40069891,  0.29649784],\n",
              "       [ 1.37386437,  1.39508604,  1.58316512, ..., -1.52437837,\n",
              "        -1.42894777, -0.59516041]])"
            ]
          },
          "metadata": {},
          "execution_count": 8
        }
      ]
    },
    {
      "cell_type": "code",
      "source": [
        "pca = PCA()\n",
        "pca_values = pca.fit_transform(wine_normal)"
      ],
      "metadata": {
        "id": "1WHhiPZqiTca"
      },
      "execution_count": 9,
      "outputs": []
    },
    {
      "cell_type": "code",
      "source": [
        "pca_values"
      ],
      "metadata": {
        "colab": {
          "base_uri": "https://localhost:8080/"
        },
        "id": "pFj7gr7LiTfM",
        "outputId": "cca9fd8e-bae5-4e49-835c-0b96cb7c898d"
      },
      "execution_count": 10,
      "outputs": [
        {
          "output_type": "execute_result",
          "data": {
            "text/plain": [
              "array([[-3.52293390e+00, -1.45309844e+00, -1.64795488e-01, ...,\n",
              "         5.52927766e-01, -3.02978176e-01,  2.00857450e-01],\n",
              "       [-2.52885806e+00,  3.30019252e-01, -2.02670665e+00, ...,\n",
              "         3.94971160e-01, -1.46645308e-01,  1.26402355e-01],\n",
              "       [-2.78502898e+00, -1.03693595e+00,  9.83237703e-01, ...,\n",
              "         1.89799314e-03,  2.12780166e-02, -5.57515155e-02],\n",
              "       ...,\n",
              "       [ 3.02727243e+00, -2.75604024e+00, -9.40803036e-01, ...,\n",
              "         6.93336340e-01,  1.67035660e-01, -3.16957430e-02],\n",
              "       [ 2.75522166e+00, -2.29378408e+00, -5.50473677e-01, ...,\n",
              "         3.44119826e-01, -1.09514873e-01,  1.02823104e-01],\n",
              "       [ 3.49633565e+00, -2.76060799e+00,  1.01315115e+00, ...,\n",
              "        -1.89866131e-01, -1.64090011e-01, -2.64916504e-01]])"
            ]
          },
          "metadata": {},
          "execution_count": 10
        }
      ]
    },
    {
      "cell_type": "code",
      "source": [
        "pca = PCA(n_components = 13)\n",
        "pca_values = pca.fit_transform(wine_normal)"
      ],
      "metadata": {
        "id": "e2dqSfcwiTiG"
      },
      "execution_count": 11,
      "outputs": []
    },
    {
      "cell_type": "code",
      "source": [
        "pca_values"
      ],
      "metadata": {
        "colab": {
          "base_uri": "https://localhost:8080/"
        },
        "id": "sQCYWjBqiTlN",
        "outputId": "25371fe9-628c-4fbb-8777-1d38acb4f41a"
      },
      "execution_count": 12,
      "outputs": [
        {
          "output_type": "execute_result",
          "data": {
            "text/plain": [
              "array([[-3.52293390e+00, -1.45309844e+00, -1.64795488e-01, ...,\n",
              "        -4.20493905e-01,  5.52927766e-01, -3.02978176e-01],\n",
              "       [-2.52885806e+00,  3.30019252e-01, -2.02670665e+00, ...,\n",
              "        -1.30019629e-01,  3.94971160e-01, -1.46645308e-01],\n",
              "       [-2.78502898e+00, -1.03693595e+00,  9.83237703e-01, ...,\n",
              "        -2.79074108e-01,  1.89799314e-03,  2.12780166e-02],\n",
              "       ...,\n",
              "       [ 3.02727243e+00, -2.75604024e+00, -9.40803036e-01, ...,\n",
              "         5.02640272e-01,  6.93336340e-01,  1.67035660e-01],\n",
              "       [ 2.75522166e+00, -2.29378408e+00, -5.50473677e-01, ...,\n",
              "         3.13785741e-01,  3.44119826e-01, -1.09514873e-01],\n",
              "       [ 3.49633565e+00, -2.76060799e+00,  1.01315115e+00, ...,\n",
              "        -2.38282390e-01, -1.89866131e-01, -1.64090011e-01]])"
            ]
          },
          "metadata": {},
          "execution_count": 12
        }
      ]
    },
    {
      "cell_type": "code",
      "source": [
        "# Variance plot for PCA components obtained \n",
        "plt.plot(var1,color=\"red\")"
      ],
      "metadata": {
        "colab": {
          "base_uri": "https://localhost:8080/",
          "height": 282
        },
        "id": "cjG3Wo6riTwu",
        "outputId": "d87938b4-fc35-42c6-e842-056ec35de950"
      },
      "execution_count": 16,
      "outputs": [
        {
          "output_type": "execute_result",
          "data": {
            "text/plain": [
              "[<matplotlib.lines.Line2D at 0x7f4211278c90>]"
            ]
          },
          "metadata": {},
          "execution_count": 16
        },
        {
          "output_type": "display_data",
          "data": {
            "image/png": "[encoded data removed]",
            "text/plain": [
              "<Figure size 432x288 with 1 Axes>"
            ]
          },
          "metadata": {
            "needs_background": "light"
          }
        }
      ]
    },
    {
      "cell_type": "code",
      "source": [
        " pca_values[:,1:2]"
      ],
      "metadata": {
        "colab": {
          "base_uri": "https://localhost:8080/"
        },
        "id": "Sno8Y_j4iT0A",
        "outputId": "5d4cfc1e-acd2-4db1-fbe5-f151e5a7c0de"
      },
      "execution_count": 17,
      "outputs": [
        {
          "output_type": "execute_result",
          "data": {
            "text/plain": [
              "array([[-1.45309844],\n",
              "       [ 0.33001925],\n",
              "       [-1.03693595],\n",
              "       [-2.76821026],\n",
              "       [-0.86777309],\n",
              "       [-2.13017513],\n",
              "       [-1.17916999],\n",
              "       [-1.61128232],\n",
              "       [-0.92317952],\n",
              "       [-0.79628417],\n",
              "       [-1.31252342],\n",
              "       [-0.61298199],\n",
              "       [-0.67852331],\n",
              "       [-1.14012136],\n",
              "       [-2.11031917],\n",
              "       [-1.66641801],\n",
              "       [-2.33089672],\n",
              "       [-1.63359016],\n",
              "       [-2.52840527],\n",
              "       [-1.06452946],\n",
              "       [-0.79601279],\n",
              "       [-0.24008547],\n",
              "       [ 0.08685755],\n",
              "       [ 0.51561649],\n",
              "       [ 0.31592057],\n",
              "       [-0.93821529],\n",
              "       [-0.68710205],\n",
              "       [ 0.09118403],\n",
              "       [-0.69274983],\n",
              "       [-0.1954729 ],\n",
              "       [-1.24635279],\n",
              "       [-1.47827883],\n",
              "       [-0.05325201],\n",
              "       [-1.6346691 ],\n",
              "       [-0.69748039],\n",
              "       [-0.17928892],\n",
              "       [-0.65787231],\n",
              "       [-0.11222505],\n",
              "       [ 0.76930576],\n",
              "       [-1.80880887],\n",
              "       [-0.78616157],\n",
              "       [-0.16588492],\n",
              "       [-1.16395547],\n",
              "       [-0.32607243],\n",
              "       [ 0.06690594],\n",
              "       [-1.77507765],\n",
              "       [-1.19762255],\n",
              "       [-0.65382196],\n",
              "       [-1.25023668],\n",
              "       [-1.75860365],\n",
              "       [-0.17691581],\n",
              "       [-0.75210873],\n",
              "       [-1.62309187],\n",
              "       [-1.87852793],\n",
              "       [-1.02071516],\n",
              "       [-1.33524369],\n",
              "       [-1.44363759],\n",
              "       [-1.2154925 ],\n",
              "       [-1.74060283],\n",
              "       [ 3.07772383],\n",
              "       [ 1.3899542 ],\n",
              "       [ 0.83885608],\n",
              "       [ 1.26269589],\n",
              "       [ 1.91338608],\n",
              "       [ 1.91115097],\n",
              "       [ 0.75872552],\n",
              "       [ 1.87213142],\n",
              "       [ 2.42575691],\n",
              "       [ 0.22520902],\n",
              "       [ 1.39100815],\n",
              "       [ 0.89224859],\n",
              "       [ 0.94792708],\n",
              "       [ 1.06686332],\n",
              "       [-0.27435851],\n",
              "       [ 1.2773898 ],\n",
              "       [ 2.44770579],\n",
              "       [ 2.15106456],\n",
              "       [ 1.39034627],\n",
              "       [ 0.76264282],\n",
              "       [ 1.02477043],\n",
              "       [ 3.37052496],\n",
              "       [ 1.44510662],\n",
              "       [ 2.38376557],\n",
              "       [ 0.10013996],\n",
              "       [ 1.46811394],\n",
              "       [ 2.02223417],\n",
              "       [ 2.23750414],\n",
              "       [ 2.37569723],\n",
              "       [ 1.80786799],\n",
              "       [ 2.66038386],\n",
              "       [ 2.12475639],\n",
              "       [ 1.8596994 ],\n",
              "       [ 1.56916323],\n",
              "       [ 2.30839297],\n",
              "       [ 2.21754888],\n",
              "       [-0.18428637],\n",
              "       [ 0.37012733],\n",
              "       [ 2.55963934],\n",
              "       [ 1.42022041],\n",
              "       [ 2.15848251],\n",
              "       [ 2.37221592],\n",
              "       [ 2.29535505],\n",
              "       [ 1.16479003],\n",
              "       [ 2.68228953],\n",
              "       [ 2.09639668],\n",
              "       [ 1.72636425],\n",
              "       [ 2.17081862],\n",
              "       [ 1.36335628],\n",
              "       [ 2.30450774],\n",
              "       [ 1.45311158],\n",
              "       [ 1.40819282],\n",
              "       [ 1.93122641],\n",
              "       [ 0.77044262],\n",
              "       [ 2.27100706],\n",
              "       [ 1.94138119],\n",
              "       [ 3.86899361],\n",
              "       [ 2.82191608],\n",
              "       [ 1.92845353],\n",
              "       [ 1.26932529],\n",
              "       [ 2.2244168 ],\n",
              "       [ 1.40431272],\n",
              "       [-0.2609574 ],\n",
              "       [ 0.669497  ],\n",
              "       [ 0.61988848],\n",
              "       [ 1.4391088 ],\n",
              "       [ 2.10990355],\n",
              "       [ 1.26551112],\n",
              "       [ 1.21567945],\n",
              "       [ 1.94027835],\n",
              "       [ 1.15919147],\n",
              "       [-0.17231476],\n",
              "       [-0.37085725],\n",
              "       [-0.25756346],\n",
              "       [-0.36598866],\n",
              "       [ 0.46387414],\n",
              "       [-0.34556216],\n",
              "       [-0.14197308],\n",
              "       [-0.64721324],\n",
              "       [-0.34041064],\n",
              "       [-0.28746438],\n",
              "       [-0.27980594],\n",
              "       [-0.36823287],\n",
              "       [-0.4810908 ],\n",
              "       [-0.47745985],\n",
              "       [-1.15749987],\n",
              "       [-0.5578515 ],\n",
              "       [-0.63547901],\n",
              "       [-1.26232962],\n",
              "       [-1.56464614],\n",
              "       [-2.03532443],\n",
              "       [-2.3538796 ],\n",
              "       [-2.04198353],\n",
              "       [-1.52795614],\n",
              "       [-2.13348176],\n",
              "       [-0.40479097],\n",
              "       [-1.79208943],\n",
              "       [-1.91882788],\n",
              "       [-1.30258082],\n",
              "       [-3.51909311],\n",
              "       [-2.4075461 ],\n",
              "       [-0.73054324],\n",
              "       [-1.17132839],\n",
              "       [-0.54903584],\n",
              "       [-0.69265684],\n",
              "       [-1.54859057],\n",
              "       [-0.87231155],\n",
              "       [-2.58870465],\n",
              "       [-1.26784789],\n",
              "       [-2.07490927],\n",
              "       [-2.58508204],\n",
              "       [ 0.2594602 ],\n",
              "       [-0.83738603],\n",
              "       [-2.18933614],\n",
              "       [-2.20661701],\n",
              "       [-1.7522632 ],\n",
              "       [-2.75604024],\n",
              "       [-2.29378408],\n",
              "       [-2.76060799]])"
            ]
          },
          "metadata": {},
          "execution_count": 17
        }
      ]
    },
    {
      "cell_type": "code",
      "source": [
        "# The amount of variance that each PCA explains is \n",
        "var = pca.explained_variance_ratio_\n",
        "var"
      ],
      "metadata": {
        "colab": {
          "base_uri": "https://localhost:8080/"
        },
        "id": "yYZPyVQClpPk",
        "outputId": "d67f8ad7-5b56-46d2-eae3-044b43680f04"
      },
      "execution_count": 23,
      "outputs": [
        {
          "output_type": "execute_result",
          "data": {
            "text/plain": [
              "array([0.39542486, 0.17836259, 0.10329102, 0.06627984, 0.06267875,\n",
              "       0.0480556 , 0.03955707, 0.02500244, 0.02103871, 0.01873615,\n",
              "       0.01613203, 0.01205691, 0.00925458])"
            ]
          },
          "metadata": {},
          "execution_count": 23
        }
      ]
    },
    {
      "cell_type": "code",
      "source": [
        "# Cumulative variance \n",
        "var1 = np.cumsum(np.round(var,decimals = 4)*100)\n",
        "var1"
      ],
      "metadata": {
        "colab": {
          "base_uri": "https://localhost:8080/"
        },
        "id": "lB4NaMLMlo_9",
        "outputId": "c30efb00-f748-4356-91a0-ee34d7f700c8"
      },
      "execution_count": 24,
      "outputs": [
        {
          "output_type": "execute_result",
          "data": {
            "text/plain": [
              "array([39.54, 57.38, 67.71, 74.34, 80.61, 85.42, 89.38, 91.88, 93.98,\n",
              "       95.85, 97.46, 98.67, 99.6 ])"
            ]
          },
          "metadata": {},
          "execution_count": 24
        }
      ]
    },
    {
      "cell_type": "code",
      "source": [
        "pca.components_"
      ],
      "metadata": {
        "colab": {
          "base_uri": "https://localhost:8080/"
        },
        "id": "Di4rAsWNl2CN",
        "outputId": "fd134588-545f-4daf-f27b-bc7b7bafe586"
      },
      "execution_count": 25,
      "outputs": [
        {
          "output_type": "execute_result",
          "data": {
            "text/plain": [
              "array([[ 0.39366953, -0.13632501,  0.22267638, -0.00225793,  0.22429849,\n",
              "        -0.12463016, -0.35926404, -0.39071171,  0.2670012 , -0.2790625 ,\n",
              "         0.08931829, -0.27682265, -0.35052618, -0.26951525],\n",
              "       [-0.00569041, -0.48416087, -0.22359095, -0.31585588,  0.01161574,\n",
              "        -0.30055143, -0.06711983,  0.00131345, -0.0269887 , -0.04122256,\n",
              "        -0.52978274,  0.27790735,  0.16277625, -0.36605886],\n",
              "       [ 0.00121795, -0.20740081,  0.08879606,  0.62610236,  0.6119896 ,\n",
              "         0.13098458,  0.14650775,  0.15096275,  0.16997551,  0.14987959,\n",
              "        -0.1372663 ,  0.08532854,  0.16620436, -0.12668685],\n",
              "       [ 0.12246373, -0.08191848,  0.46988824, -0.24984122,  0.07199322,\n",
              "        -0.16321412,  0.19098521,  0.14461667, -0.32801272,  0.46275771,\n",
              "         0.07211248, -0.43466618,  0.15672341, -0.2557949 ],\n",
              "       [ 0.15758395, -0.25089415, -0.18860015, -0.0935236 ,  0.0465675 ,\n",
              "         0.77833048, -0.14466563, -0.11200553, -0.43257916,  0.0915882 ,\n",
              "        -0.0462696 , -0.02986657, -0.14419358, -0.08440794],\n",
              "       [ 0.20033864, -0.13517139, -0.59841948, -0.10799983,  0.08811224,\n",
              "        -0.14483831,  0.14809748,  0.06247252,  0.25868639,  0.46627764,\n",
              "         0.42525454, -0.01565089, -0.21770365, -0.0665655 ],\n",
              "       [-0.05938234, -0.09269887,  0.3743698 , -0.16708856, -0.26872469,\n",
              "         0.32957951, -0.03789829, -0.06773223,  0.61111195,  0.42292282,\n",
              "        -0.18613617,  0.19204101, -0.0785098 ,  0.0542037 ],\n",
              "       [-0.07179553, -0.42154435, -0.08757556,  0.17208034, -0.41324857,\n",
              "         0.14881189,  0.36343884,  0.175405  ,  0.23075135, -0.3437392 ,\n",
              "         0.04069617, -0.48362564,  0.06865116, -0.11146671],\n",
              "       [-0.16236882, -0.45019071, -0.00602569,  0.26249446, -0.11863342,\n",
              "        -0.25253628, -0.40637354, -0.09091933, -0.15912282,  0.26578679,\n",
              "        -0.07526459, -0.21241681, -0.08426484,  0.54490539],\n",
              "       [-0.19899373,  0.31127983, -0.32592413, -0.12452347,  0.15716811,\n",
              "         0.12773363, -0.30772263, -0.14044   ,  0.24054263,  0.10869629,\n",
              "        -0.21704255, -0.50966073,  0.45570504, -0.04620802],\n",
              "       [ 0.01444169, -0.22154641,  0.06839251, -0.49452428,  0.47461722,\n",
              "         0.07119731,  0.29740957, -0.03219187,  0.12200984, -0.23292405,\n",
              "         0.01972448, -0.06140493,  0.06646166,  0.55130818],\n",
              "       [ 0.01575769, -0.26411262,  0.1192121 , -0.04502305, -0.06131271,\n",
              "         0.06116074, -0.30087591, -0.05001396,  0.04266558, -0.09334264,\n",
              "         0.59795428,  0.25774292,  0.61109218, -0.07268036],\n",
              "       [-0.49224318, -0.05610645,  0.06675544, -0.19201787,  0.20007784,\n",
              "         0.05829909, -0.35952714,  0.59834288,  0.06403952, -0.11013538,\n",
              "         0.15917751, -0.04923091, -0.32941979, -0.17322892]])"
            ]
          },
          "metadata": {},
          "execution_count": 25
        }
      ]
    },
    {
      "cell_type": "code",
      "source": [
        "# plot between PCA1 and PCA2 \n",
        "x = pca_values[:,1:2]\n",
        "y = pca_values[:,2:3]\n",
        "z = pca_values[:,3:4]\n",
        "plt.scatter(x,y,z)"
      ],
      "metadata": {
        "colab": {
          "base_uri": "https://localhost:8080/",
          "height": 317
        },
        "id": "DU0qV7hmiT3O",
        "outputId": "98127510-388b-4b55-8d22-296cb3f88d20"
      },
      "execution_count": 36,
      "outputs": [
        {
          "output_type": "stream",
          "name": "stderr",
          "text": [
            "/usr/local/lib/python3.7/dist-packages/matplotlib/collections.py:885: RuntimeWarning: invalid value encountered in sqrt\n",
            "  scale = np.sqrt(self._sizes) * dpi / 72.0 * self._factor\n"
          ]
        },
        {
          "output_type": "execute_result",
          "data": {
            "text/plain": [
              "<matplotlib.collections.PathCollection at 0x7f420e99d390>"
            ]
          },
          "metadata": {},
          "execution_count": 36
        },
        {
          "output_type": "display_data",
          "data": {
            "image/png": "[encoded data removed]",
            "text/plain": [
              "<Figure size 432x288 with 1 Axes>"
            ]
          },
          "metadata": {
            "needs_background": "light"
          }
        }
      ]
    },
    {
      "cell_type": "code",
      "source": [
        "finalDf = pd.concat([pd.DataFrame(pca_values[:,1:4],columns=['pc1','pc2','pc3']), data[['Type']]], axis = 1)"
      ],
      "metadata": {
        "id": "1-uHm98KiT5p"
      },
      "execution_count": 38,
      "outputs": []
    },
    {
      "cell_type": "code",
      "source": [
        "finalDf"
      ],
      "metadata": {
        "colab": {
          "base_uri": "https://localhost:8080/",
          "height": 423
        },
        "id": "ku_th2rTiT8g",
        "outputId": "ec131780-b45f-4eb9-fa23-c764e0828e91"
      },
      "execution_count": 39,
      "outputs": [
        {
          "output_type": "execute_result",
          "data": {
            "text/html": [
              "<div>\n",
              "<style scoped>\n",
              "    .dataframe tbody tr th:only-of-type {\n",
              "        vertical-align: middle;\n",
              "    }\n",
              "\n",
              "    .dataframe tbody tr th {\n",
              "        vertical-align: top;\n",
              "    }\n",
              "\n",
              "    .dataframe thead th {\n",
              "        text-align: right;\n",
              "    }\n",
              "</style>\n",
              "<table border=\"1\" class=\"dataframe\">\n",
              "  <thead>\n",
              "    <tr style=\"text-align: right;\">\n",
              "      <th></th>\n",
              "      <th>pc1</th>\n",
              "      <th>pc2</th>\n",
              "      <th>pc3</th>\n",
              "      <th>Type</th>\n",
              "    </tr>\n",
              "  </thead>\n",
              "  <tbody>\n",
              "    <tr>\n",
              "      <th>0</th>\n",
              "      <td>-1.453098</td>\n",
              "      <td>-0.164795</td>\n",
              "      <td>-0.013273</td>\n",
              "      <td>1</td>\n",
              "    </tr>\n",
              "    <tr>\n",
              "      <th>1</th>\n",
              "      <td>0.330019</td>\n",
              "      <td>-2.026707</td>\n",
              "      <td>-0.417144</td>\n",
              "      <td>1</td>\n",
              "    </tr>\n",
              "    <tr>\n",
              "      <th>2</th>\n",
              "      <td>-1.036936</td>\n",
              "      <td>0.983238</td>\n",
              "      <td>0.664232</td>\n",
              "      <td>1</td>\n",
              "    </tr>\n",
              "    <tr>\n",
              "      <th>3</th>\n",
              "      <td>-2.768210</td>\n",
              "      <td>-0.174968</td>\n",
              "      <td>0.565088</td>\n",
              "      <td>1</td>\n",
              "    </tr>\n",
              "    <tr>\n",
              "      <th>4</th>\n",
              "      <td>-0.867773</td>\n",
              "      <td>2.025829</td>\n",
              "      <td>-0.440906</td>\n",
              "      <td>1</td>\n",
              "    </tr>\n",
              "    <tr>\n",
              "      <th>...</th>\n",
              "      <td>...</td>\n",
              "      <td>...</td>\n",
              "      <td>...</td>\n",
              "      <td>...</td>\n",
              "    </tr>\n",
              "    <tr>\n",
              "      <th>173</th>\n",
              "      <td>-2.206617</td>\n",
              "      <td>-0.343668</td>\n",
              "      <td>0.751705</td>\n",
              "      <td>3</td>\n",
              "    </tr>\n",
              "    <tr>\n",
              "      <th>174</th>\n",
              "      <td>-1.752263</td>\n",
              "      <td>0.207480</td>\n",
              "      <td>0.399381</td>\n",
              "      <td>3</td>\n",
              "    </tr>\n",
              "    <tr>\n",
              "      <th>175</th>\n",
              "      <td>-2.756040</td>\n",
              "      <td>-0.940803</td>\n",
              "      <td>0.607758</td>\n",
              "      <td>3</td>\n",
              "    </tr>\n",
              "    <tr>\n",
              "      <th>176</th>\n",
              "      <td>-2.293784</td>\n",
              "      <td>-0.550474</td>\n",
              "      <td>-0.391570</td>\n",
              "      <td>3</td>\n",
              "    </tr>\n",
              "    <tr>\n",
              "      <th>177</th>\n",
              "      <td>-2.760608</td>\n",
              "      <td>1.013151</td>\n",
              "      <td>0.349630</td>\n",
              "      <td>3</td>\n",
              "    </tr>\n",
              "  </tbody>\n",
              "</table>\n",
              "<p>178 rows × 4 columns</p>\n",
              "</div>"
            ],
            "text/plain": [
              "          pc1       pc2       pc3  Type\n",
              "0   -1.453098 -0.164795 -0.013273     1\n",
              "1    0.330019 -2.026707 -0.417144     1\n",
              "2   -1.036936  0.983238  0.664232     1\n",
              "3   -2.768210 -0.174968  0.565088     1\n",
              "4   -0.867773  2.025829 -0.440906     1\n",
              "..        ...       ...       ...   ...\n",
              "173 -2.206617 -0.343668  0.751705     3\n",
              "174 -1.752263  0.207480  0.399381     3\n",
              "175 -2.756040 -0.940803  0.607758     3\n",
              "176 -2.293784 -0.550474 -0.391570     3\n",
              "177 -2.760608  1.013151  0.349630     3\n",
              "\n",
              "[178 rows x 4 columns]"
            ]
          },
          "metadata": {},
          "execution_count": 39
        }
      ]
    },
    {
      "cell_type": "code",
      "source": [
        "#hierarchical clustering using pcs"
      ],
      "metadata": {
        "id": "YgGCMP9ToAAE"
      },
      "execution_count": null,
      "outputs": []
    },
    {
      "cell_type": "code",
      "source": [
        "import scipy.cluster.hierarchy as sch\n",
        "from sklearn.cluster import AgglomerativeClustering"
      ],
      "metadata": {
        "id": "CABI824viT_W"
      },
      "execution_count": 40,
      "outputs": []
    },
    {
      "cell_type": "code",
      "source": [
        "# create dendrogram\n",
        "dendrogram = sch.dendrogram(sch.linkage(finalDf, method='average'))"
      ],
      "metadata": {
        "colab": {
          "base_uri": "https://localhost:8080/",
          "height": 265
        },
        "id": "LajqhEU9iUCk",
        "outputId": "26285e9d-873b-40cc-d8cf-2e7c912e1add"
      },
      "execution_count": 41,
      "outputs": [
        {
          "output_type": "display_data",
          "data": {
            "image/png": "[encoded data removed]",
            "text/plain": [
              "<Figure size 432x288 with 1 Axes>"
            ]
          },
          "metadata": {
            "needs_background": "light"
          }
        }
      ]
    },
    {
      "cell_type": "code",
      "source": [
        "# create clusters\n",
        "hc = AgglomerativeClustering(n_clusters=3, affinity = 'euclidean', linkage = 'average')"
      ],
      "metadata": {
        "id": "da7YLJxziUFc"
      },
      "execution_count": 42,
      "outputs": []
    },
    {
      "cell_type": "code",
      "source": [
        "# save clusters for chart\n",
        "y_hc = hc.fit_predict(finalDf)\n",
        "Clusters=pd.DataFrame(y_hc,columns=['Clusters'])"
      ],
      "metadata": {
        "id": "uRmcdWHfiUIO"
      },
      "execution_count": 44,
      "outputs": []
    },
    {
      "cell_type": "code",
      "source": [
        "finalDf['h_clusterid'] = Clusters"
      ],
      "metadata": {
        "id": "THxoJyI6iUK1"
      },
      "execution_count": 45,
      "outputs": []
    },
    {
      "cell_type": "code",
      "source": [
        "finalDf.sort_values(\"h_clusterid\")"
      ],
      "metadata": {
        "colab": {
          "base_uri": "https://localhost:8080/",
          "height": 423
        },
        "id": "h44wF9BqiUNk",
        "outputId": "6c007114-d809-4479-8d7e-4ece8435974c"
      },
      "execution_count": 46,
      "outputs": [
        {
          "output_type": "execute_result",
          "data": {
            "text/html": [
              "<div>\n",
              "<style scoped>\n",
              "    .dataframe tbody tr th:only-of-type {\n",
              "        vertical-align: middle;\n",
              "    }\n",
              "\n",
              "    .dataframe tbody tr th {\n",
              "        vertical-align: top;\n",
              "    }\n",
              "\n",
              "    .dataframe thead th {\n",
              "        text-align: right;\n",
              "    }\n",
              "</style>\n",
              "<table border=\"1\" class=\"dataframe\">\n",
              "  <thead>\n",
              "    <tr style=\"text-align: right;\">\n",
              "      <th></th>\n",
              "      <th>pc1</th>\n",
              "      <th>pc2</th>\n",
              "      <th>pc3</th>\n",
              "      <th>Type</th>\n",
              "      <th>h_clusterid</th>\n",
              "    </tr>\n",
              "  </thead>\n",
              "  <tbody>\n",
              "    <tr>\n",
              "      <th>0</th>\n",
              "      <td>-1.453098</td>\n",
              "      <td>-0.164795</td>\n",
              "      <td>-0.013273</td>\n",
              "      <td>1</td>\n",
              "      <td>0</td>\n",
              "    </tr>\n",
              "    <tr>\n",
              "      <th>112</th>\n",
              "      <td>0.770443</td>\n",
              "      <td>1.998052</td>\n",
              "      <td>-1.956085</td>\n",
              "      <td>2</td>\n",
              "      <td>0</td>\n",
              "    </tr>\n",
              "    <tr>\n",
              "      <th>113</th>\n",
              "      <td>2.271007</td>\n",
              "      <td>1.061179</td>\n",
              "      <td>-0.825112</td>\n",
              "      <td>2</td>\n",
              "      <td>0</td>\n",
              "    </tr>\n",
              "    <tr>\n",
              "      <th>114</th>\n",
              "      <td>1.941381</td>\n",
              "      <td>1.323480</td>\n",
              "      <td>-0.272790</td>\n",
              "      <td>2</td>\n",
              "      <td>0</td>\n",
              "    </tr>\n",
              "    <tr>\n",
              "      <th>115</th>\n",
              "      <td>3.868994</td>\n",
              "      <td>1.344602</td>\n",
              "      <td>-0.981891</td>\n",
              "      <td>2</td>\n",
              "      <td>0</td>\n",
              "    </tr>\n",
              "    <tr>\n",
              "      <th>...</th>\n",
              "      <td>...</td>\n",
              "      <td>...</td>\n",
              "      <td>...</td>\n",
              "      <td>...</td>\n",
              "      <td>...</td>\n",
              "    </tr>\n",
              "    <tr>\n",
              "      <th>177</th>\n",
              "      <td>-2.760608</td>\n",
              "      <td>1.013151</td>\n",
              "      <td>0.349630</td>\n",
              "      <td>3</td>\n",
              "      <td>0</td>\n",
              "    </tr>\n",
              "    <tr>\n",
              "      <th>59</th>\n",
              "      <td>3.077724</td>\n",
              "      <td>-4.585646</td>\n",
              "      <td>-0.959098</td>\n",
              "      <td>2</td>\n",
              "      <td>1</td>\n",
              "    </tr>\n",
              "    <tr>\n",
              "      <th>110</th>\n",
              "      <td>1.408193</td>\n",
              "      <td>0.141869</td>\n",
              "      <td>3.982159</td>\n",
              "      <td>2</td>\n",
              "      <td>2</td>\n",
              "    </tr>\n",
              "    <tr>\n",
              "      <th>123</th>\n",
              "      <td>0.619888</td>\n",
              "      <td>0.483469</td>\n",
              "      <td>3.339457</td>\n",
              "      <td>2</td>\n",
              "      <td>2</td>\n",
              "    </tr>\n",
              "    <tr>\n",
              "      <th>124</th>\n",
              "      <td>1.439109</td>\n",
              "      <td>1.482769</td>\n",
              "      <td>3.811801</td>\n",
              "      <td>2</td>\n",
              "      <td>2</td>\n",
              "    </tr>\n",
              "  </tbody>\n",
              "</table>\n",
              "<p>178 rows × 5 columns</p>\n",
              "</div>"
            ],
            "text/plain": [
              "          pc1       pc2       pc3  Type  h_clusterid\n",
              "0   -1.453098 -0.164795 -0.013273     1            0\n",
              "112  0.770443  1.998052 -1.956085     2            0\n",
              "113  2.271007  1.061179 -0.825112     2            0\n",
              "114  1.941381  1.323480 -0.272790     2            0\n",
              "115  3.868994  1.344602 -0.981891     2            0\n",
              "..        ...       ...       ...   ...          ...\n",
              "177 -2.760608  1.013151  0.349630     3            0\n",
              "59   3.077724 -4.585646 -0.959098     2            1\n",
              "110  1.408193  0.141869  3.982159     2            2\n",
              "123  0.619888  0.483469  3.339457     2            2\n",
              "124  1.439109  1.482769  3.811801     2            2\n",
              "\n",
              "[178 rows x 5 columns]"
            ]
          },
          "metadata": {},
          "execution_count": 46
        }
      ]
    },
    {
      "cell_type": "code",
      "source": [
        "final_df = finalDf.drop(['Type'],\n",
        "                       axis = 1)"
      ],
      "metadata": {
        "id": "Ege54JceiUQU"
      },
      "execution_count": 48,
      "outputs": []
    },
    {
      "cell_type": "code",
      "source": [
        "final_df"
      ],
      "metadata": {
        "colab": {
          "base_uri": "https://localhost:8080/",
          "height": 423
        },
        "id": "sX6amQ2riUTJ",
        "outputId": "17a5096f-a7fc-4982-a3b5-a30ad2110c66"
      },
      "execution_count": 49,
      "outputs": [
        {
          "output_type": "execute_result",
          "data": {
            "text/html": [
              "<div>\n",
              "<style scoped>\n",
              "    .dataframe tbody tr th:only-of-type {\n",
              "        vertical-align: middle;\n",
              "    }\n",
              "\n",
              "    .dataframe tbody tr th {\n",
              "        vertical-align: top;\n",
              "    }\n",
              "\n",
              "    .dataframe thead th {\n",
              "        text-align: right;\n",
              "    }\n",
              "</style>\n",
              "<table border=\"1\" class=\"dataframe\">\n",
              "  <thead>\n",
              "    <tr style=\"text-align: right;\">\n",
              "      <th></th>\n",
              "      <th>pc1</th>\n",
              "      <th>pc2</th>\n",
              "      <th>pc3</th>\n",
              "      <th>h_clusterid</th>\n",
              "    </tr>\n",
              "  </thead>\n",
              "  <tbody>\n",
              "    <tr>\n",
              "      <th>0</th>\n",
              "      <td>-1.453098</td>\n",
              "      <td>-0.164795</td>\n",
              "      <td>-0.013273</td>\n",
              "      <td>0</td>\n",
              "    </tr>\n",
              "    <tr>\n",
              "      <th>1</th>\n",
              "      <td>0.330019</td>\n",
              "      <td>-2.026707</td>\n",
              "      <td>-0.417144</td>\n",
              "      <td>0</td>\n",
              "    </tr>\n",
              "    <tr>\n",
              "      <th>2</th>\n",
              "      <td>-1.036936</td>\n",
              "      <td>0.983238</td>\n",
              "      <td>0.664232</td>\n",
              "      <td>0</td>\n",
              "    </tr>\n",
              "    <tr>\n",
              "      <th>3</th>\n",
              "      <td>-2.768210</td>\n",
              "      <td>-0.174968</td>\n",
              "      <td>0.565088</td>\n",
              "      <td>0</td>\n",
              "    </tr>\n",
              "    <tr>\n",
              "      <th>4</th>\n",
              "      <td>-0.867773</td>\n",
              "      <td>2.025829</td>\n",
              "      <td>-0.440906</td>\n",
              "      <td>0</td>\n",
              "    </tr>\n",
              "    <tr>\n",
              "      <th>...</th>\n",
              "      <td>...</td>\n",
              "      <td>...</td>\n",
              "      <td>...</td>\n",
              "      <td>...</td>\n",
              "    </tr>\n",
              "    <tr>\n",
              "      <th>173</th>\n",
              "      <td>-2.206617</td>\n",
              "      <td>-0.343668</td>\n",
              "      <td>0.751705</td>\n",
              "      <td>0</td>\n",
              "    </tr>\n",
              "    <tr>\n",
              "      <th>174</th>\n",
              "      <td>-1.752263</td>\n",
              "      <td>0.207480</td>\n",
              "      <td>0.399381</td>\n",
              "      <td>0</td>\n",
              "    </tr>\n",
              "    <tr>\n",
              "      <th>175</th>\n",
              "      <td>-2.756040</td>\n",
              "      <td>-0.940803</td>\n",
              "      <td>0.607758</td>\n",
              "      <td>0</td>\n",
              "    </tr>\n",
              "    <tr>\n",
              "      <th>176</th>\n",
              "      <td>-2.293784</td>\n",
              "      <td>-0.550474</td>\n",
              "      <td>-0.391570</td>\n",
              "      <td>0</td>\n",
              "    </tr>\n",
              "    <tr>\n",
              "      <th>177</th>\n",
              "      <td>-2.760608</td>\n",
              "      <td>1.013151</td>\n",
              "      <td>0.349630</td>\n",
              "      <td>0</td>\n",
              "    </tr>\n",
              "  </tbody>\n",
              "</table>\n",
              "<p>178 rows × 4 columns</p>\n",
              "</div>"
            ],
            "text/plain": [
              "          pc1       pc2       pc3  h_clusterid\n",
              "0   -1.453098 -0.164795 -0.013273            0\n",
              "1    0.330019 -2.026707 -0.417144            0\n",
              "2   -1.036936  0.983238  0.664232            0\n",
              "3   -2.768210 -0.174968  0.565088            0\n",
              "4   -0.867773  2.025829 -0.440906            0\n",
              "..        ...       ...       ...          ...\n",
              "173 -2.206617 -0.343668  0.751705            0\n",
              "174 -1.752263  0.207480  0.399381            0\n",
              "175 -2.756040 -0.940803  0.607758            0\n",
              "176 -2.293784 -0.550474 -0.391570            0\n",
              "177 -2.760608  1.013151  0.349630            0\n",
              "\n",
              "[178 rows x 4 columns]"
            ]
          },
          "metadata": {},
          "execution_count": 49
        }
      ]
    },
    {
      "cell_type": "code",
      "source": [
        "#k means clustering"
      ],
      "metadata": {
        "id": "NQIDbmqiiUZo"
      },
      "execution_count": null,
      "outputs": []
    },
    {
      "cell_type": "code",
      "source": [
        "from sklearn.cluster import KMeans"
      ],
      "metadata": {
        "id": "xBISSMlzpw4k"
      },
      "execution_count": 52,
      "outputs": []
    },
    {
      "cell_type": "code",
      "source": [
        "wcss = []\n",
        "for i in range(1, 11):\n",
        "    kmeans = KMeans(n_clusters=i,random_state=0)\n",
        "    kmeans.fit(finalDf)\n",
        "    wcss.append(kmeans.inertia_)\n",
        "    \n",
        "plt.plot(range(1, 11), wcss)\n",
        "plt.title('Elbow Method')\n",
        "plt.xlabel('Number of clusters')\n",
        "plt.ylabel('WCSS')\n",
        "plt.show()"
      ],
      "metadata": {
        "colab": {
          "base_uri": "https://localhost:8080/",
          "height": 295
        },
        "id": "IBUchnamp1BN",
        "outputId": "96677795-ff08-492d-8f55-6b1f8513f38d"
      },
      "execution_count": 53,
      "outputs": [
        {
          "output_type": "display_data",
          "data": {
            "image/png": "[encoded data removed]",
            "text/plain": [
              "<Figure size 432x288 with 1 Axes>"
            ]
          },
          "metadata": {
            "needs_background": "light"
          }
        }
      ]
    },
    {
      "cell_type": "code",
      "source": [
        "#Build Cluster algorithm\n",
        "from sklearn.cluster import KMeans\n",
        "clusters_new = KMeans(9, random_state=42)\n",
        "clusters_new.fit(finalDf)"
      ],
      "metadata": {
        "colab": {
          "base_uri": "https://localhost:8080/"
        },
        "id": "v0hvAYsCp1Ez",
        "outputId": "085f8be9-3adc-4f98-c828-060843502b3f"
      },
      "execution_count": 55,
      "outputs": [
        {
          "output_type": "execute_result",
          "data": {
            "text/plain": [
              "KMeans(n_clusters=9, random_state=42)"
            ]
          },
          "metadata": {},
          "execution_count": 55
        }
      ]
    },
    {
      "cell_type": "code",
      "source": [
        "clusters_new.labels_"
      ],
      "metadata": {
        "colab": {
          "base_uri": "https://localhost:8080/"
        },
        "id": "ZCMyv1Mgp1VJ",
        "outputId": "e703b217-3ea6-4137-ccf5-8d5ad3b4283d"
      },
      "execution_count": 56,
      "outputs": [
        {
          "output_type": "execute_result",
          "data": {
            "text/plain": [
              "array([1, 4, 1, 1, 2, 1, 1, 8, 1, 1, 1, 4, 1, 1, 1, 8, 8, 8, 8, 1, 1, 1,\n",
              "       4, 4, 6, 2, 1, 4, 8, 1, 8, 1, 4, 8, 8, 1, 8, 4, 4, 1, 1, 1, 1, 1,\n",
              "       1, 1, 1, 1, 1, 1, 1, 1, 1, 8, 1, 1, 1, 8, 1, 0, 4, 4, 4, 6, 6, 6,\n",
              "       0, 0, 4, 0, 4, 2, 6, 2, 6, 0, 0, 6, 4, 6, 0, 6, 6, 5, 6, 6, 6, 6,\n",
              "       6, 6, 6, 6, 6, 6, 6, 2, 2, 0, 6, 6, 0, 0, 6, 0, 0, 6, 0, 6, 0, 6,\n",
              "       3, 6, 2, 6, 6, 6, 0, 6, 0, 0, 6, 2, 2, 3, 3, 6, 6, 2, 6, 6, 5, 5,\n",
              "       5, 5, 5, 5, 5, 2, 5, 2, 5, 5, 2, 5, 5, 5, 5, 7, 7, 7, 7, 7, 7, 7,\n",
              "       5, 7, 7, 2, 7, 7, 5, 5, 5, 5, 5, 5, 7, 5, 7, 7, 5, 5, 7, 7, 7, 7,\n",
              "       7, 7], dtype=int32)"
            ]
          },
          "metadata": {},
          "execution_count": 56
        }
      ]
    },
    {
      "cell_type": "code",
      "source": [
        "#Assign clusters to the data set\n",
        "finalDf['clusterid_new'] = clusters_new.labels_"
      ],
      "metadata": {
        "id": "Shp1-BjMp1fM"
      },
      "execution_count": 57,
      "outputs": []
    },
    {
      "cell_type": "code",
      "source": [
        "finalDf"
      ],
      "metadata": {
        "colab": {
          "base_uri": "https://localhost:8080/",
          "height": 423
        },
        "id": "VpDX6u1wp1kP",
        "outputId": "8795d70a-2452-4a72-8887-9b4b9bba48ed"
      },
      "execution_count": 58,
      "outputs": [
        {
          "output_type": "execute_result",
          "data": {
            "text/html": [
              "<div>\n",
              "<style scoped>\n",
              "    .dataframe tbody tr th:only-of-type {\n",
              "        vertical-align: middle;\n",
              "    }\n",
              "\n",
              "    .dataframe tbody tr th {\n",
              "        vertical-align: top;\n",
              "    }\n",
              "\n",
              "    .dataframe thead th {\n",
              "        text-align: right;\n",
              "    }\n",
              "</style>\n",
              "<table border=\"1\" class=\"dataframe\">\n",
              "  <thead>\n",
              "    <tr style=\"text-align: right;\">\n",
              "      <th></th>\n",
              "      <th>pc1</th>\n",
              "      <th>pc2</th>\n",
              "      <th>pc3</th>\n",
              "      <th>Type</th>\n",
              "      <th>h_clusterid</th>\n",
              "      <th>clusterid_new</th>\n",
              "    </tr>\n",
              "  </thead>\n",
              "  <tbody>\n",
              "    <tr>\n",
              "      <th>0</th>\n",
              "      <td>-1.453098</td>\n",
              "      <td>-0.164795</td>\n",
              "      <td>-0.013273</td>\n",
              "      <td>1</td>\n",
              "      <td>0</td>\n",
              "      <td>1</td>\n",
              "    </tr>\n",
              "    <tr>\n",
              "      <th>1</th>\n",
              "      <td>0.330019</td>\n",
              "      <td>-2.026707</td>\n",
              "      <td>-0.417144</td>\n",
              "      <td>1</td>\n",
              "      <td>0</td>\n",
              "      <td>4</td>\n",
              "    </tr>\n",
              "    <tr>\n",
              "      <th>2</th>\n",
              "      <td>-1.036936</td>\n",
              "      <td>0.983238</td>\n",
              "      <td>0.664232</td>\n",
              "      <td>1</td>\n",
              "      <td>0</td>\n",
              "      <td>1</td>\n",
              "    </tr>\n",
              "    <tr>\n",
              "      <th>3</th>\n",
              "      <td>-2.768210</td>\n",
              "      <td>-0.174968</td>\n",
              "      <td>0.565088</td>\n",
              "      <td>1</td>\n",
              "      <td>0</td>\n",
              "      <td>1</td>\n",
              "    </tr>\n",
              "    <tr>\n",
              "      <th>4</th>\n",
              "      <td>-0.867773</td>\n",
              "      <td>2.025829</td>\n",
              "      <td>-0.440906</td>\n",
              "      <td>1</td>\n",
              "      <td>0</td>\n",
              "      <td>2</td>\n",
              "    </tr>\n",
              "    <tr>\n",
              "      <th>...</th>\n",
              "      <td>...</td>\n",
              "      <td>...</td>\n",
              "      <td>...</td>\n",
              "      <td>...</td>\n",
              "      <td>...</td>\n",
              "      <td>...</td>\n",
              "    </tr>\n",
              "    <tr>\n",
              "      <th>173</th>\n",
              "      <td>-2.206617</td>\n",
              "      <td>-0.343668</td>\n",
              "      <td>0.751705</td>\n",
              "      <td>3</td>\n",
              "      <td>0</td>\n",
              "      <td>7</td>\n",
              "    </tr>\n",
              "    <tr>\n",
              "      <th>174</th>\n",
              "      <td>-1.752263</td>\n",
              "      <td>0.207480</td>\n",
              "      <td>0.399381</td>\n",
              "      <td>3</td>\n",
              "      <td>0</td>\n",
              "      <td>7</td>\n",
              "    </tr>\n",
              "    <tr>\n",
              "      <th>175</th>\n",
              "      <td>-2.756040</td>\n",
              "      <td>-0.940803</td>\n",
              "      <td>0.607758</td>\n",
              "      <td>3</td>\n",
              "      <td>0</td>\n",
              "      <td>7</td>\n",
              "    </tr>\n",
              "    <tr>\n",
              "      <th>176</th>\n",
              "      <td>-2.293784</td>\n",
              "      <td>-0.550474</td>\n",
              "      <td>-0.391570</td>\n",
              "      <td>3</td>\n",
              "      <td>0</td>\n",
              "      <td>7</td>\n",
              "    </tr>\n",
              "    <tr>\n",
              "      <th>177</th>\n",
              "      <td>-2.760608</td>\n",
              "      <td>1.013151</td>\n",
              "      <td>0.349630</td>\n",
              "      <td>3</td>\n",
              "      <td>0</td>\n",
              "      <td>7</td>\n",
              "    </tr>\n",
              "  </tbody>\n",
              "</table>\n",
              "<p>178 rows × 6 columns</p>\n",
              "</div>"
            ],
            "text/plain": [
              "          pc1       pc2       pc3  Type  h_clusterid  clusterid_new\n",
              "0   -1.453098 -0.164795 -0.013273     1            0              1\n",
              "1    0.330019 -2.026707 -0.417144     1            0              4\n",
              "2   -1.036936  0.983238  0.664232     1            0              1\n",
              "3   -2.768210 -0.174968  0.565088     1            0              1\n",
              "4   -0.867773  2.025829 -0.440906     1            0              2\n",
              "..        ...       ...       ...   ...          ...            ...\n",
              "173 -2.206617 -0.343668  0.751705     3            0              7\n",
              "174 -1.752263  0.207480  0.399381     3            0              7\n",
              "175 -2.756040 -0.940803  0.607758     3            0              7\n",
              "176 -2.293784 -0.550474 -0.391570     3            0              7\n",
              "177 -2.760608  1.013151  0.349630     3            0              7\n",
              "\n",
              "[178 rows x 6 columns]"
            ]
          },
          "metadata": {},
          "execution_count": 58
        }
      ]
    },
    {
      "cell_type": "code",
      "source": [
        "final_df1 = finalDf.drop(['Type'],\n",
        "                       axis = 1)"
      ],
      "metadata": {
        "id": "mSMo7gUAq1Sj"
      },
      "execution_count": 59,
      "outputs": []
    },
    {
      "cell_type": "code",
      "source": [
        "final_df1"
      ],
      "metadata": {
        "colab": {
          "base_uri": "https://localhost:8080/",
          "height": 423
        },
        "id": "kYkf9myjq2Do",
        "outputId": "43fc8c38-2bc8-4af0-97dc-f90c87e88bd1"
      },
      "execution_count": 60,
      "outputs": [
        {
          "output_type": "execute_result",
          "data": {
            "text/html": [
              "<div>\n",
              "<style scoped>\n",
              "    .dataframe tbody tr th:only-of-type {\n",
              "        vertical-align: middle;\n",
              "    }\n",
              "\n",
              "    .dataframe tbody tr th {\n",
              "        vertical-align: top;\n",
              "    }\n",
              "\n",
              "    .dataframe thead th {\n",
              "        text-align: right;\n",
              "    }\n",
              "</style>\n",
              "<table border=\"1\" class=\"dataframe\">\n",
              "  <thead>\n",
              "    <tr style=\"text-align: right;\">\n",
              "      <th></th>\n",
              "      <th>pc1</th>\n",
              "      <th>pc2</th>\n",
              "      <th>pc3</th>\n",
              "      <th>h_clusterid</th>\n",
              "      <th>clusterid_new</th>\n",
              "    </tr>\n",
              "  </thead>\n",
              "  <tbody>\n",
              "    <tr>\n",
              "      <th>0</th>\n",
              "      <td>-1.453098</td>\n",
              "      <td>-0.164795</td>\n",
              "      <td>-0.013273</td>\n",
              "      <td>0</td>\n",
              "      <td>1</td>\n",
              "    </tr>\n",
              "    <tr>\n",
              "      <th>1</th>\n",
              "      <td>0.330019</td>\n",
              "      <td>-2.026707</td>\n",
              "      <td>-0.417144</td>\n",
              "      <td>0</td>\n",
              "      <td>4</td>\n",
              "    </tr>\n",
              "    <tr>\n",
              "      <th>2</th>\n",
              "      <td>-1.036936</td>\n",
              "      <td>0.983238</td>\n",
              "      <td>0.664232</td>\n",
              "      <td>0</td>\n",
              "      <td>1</td>\n",
              "    </tr>\n",
              "    <tr>\n",
              "      <th>3</th>\n",
              "      <td>-2.768210</td>\n",
              "      <td>-0.174968</td>\n",
              "      <td>0.565088</td>\n",
              "      <td>0</td>\n",
              "      <td>1</td>\n",
              "    </tr>\n",
              "    <tr>\n",
              "      <th>4</th>\n",
              "      <td>-0.867773</td>\n",
              "      <td>2.025829</td>\n",
              "      <td>-0.440906</td>\n",
              "      <td>0</td>\n",
              "      <td>2</td>\n",
              "    </tr>\n",
              "    <tr>\n",
              "      <th>...</th>\n",
              "      <td>...</td>\n",
              "      <td>...</td>\n",
              "      <td>...</td>\n",
              "      <td>...</td>\n",
              "      <td>...</td>\n",
              "    </tr>\n",
              "    <tr>\n",
              "      <th>173</th>\n",
              "      <td>-2.206617</td>\n",
              "      <td>-0.343668</td>\n",
              "      <td>0.751705</td>\n",
              "      <td>0</td>\n",
              "      <td>7</td>\n",
              "    </tr>\n",
              "    <tr>\n",
              "      <th>174</th>\n",
              "      <td>-1.752263</td>\n",
              "      <td>0.207480</td>\n",
              "      <td>0.399381</td>\n",
              "      <td>0</td>\n",
              "      <td>7</td>\n",
              "    </tr>\n",
              "    <tr>\n",
              "      <th>175</th>\n",
              "      <td>-2.756040</td>\n",
              "      <td>-0.940803</td>\n",
              "      <td>0.607758</td>\n",
              "      <td>0</td>\n",
              "      <td>7</td>\n",
              "    </tr>\n",
              "    <tr>\n",
              "      <th>176</th>\n",
              "      <td>-2.293784</td>\n",
              "      <td>-0.550474</td>\n",
              "      <td>-0.391570</td>\n",
              "      <td>0</td>\n",
              "      <td>7</td>\n",
              "    </tr>\n",
              "    <tr>\n",
              "      <th>177</th>\n",
              "      <td>-2.760608</td>\n",
              "      <td>1.013151</td>\n",
              "      <td>0.349630</td>\n",
              "      <td>0</td>\n",
              "      <td>7</td>\n",
              "    </tr>\n",
              "  </tbody>\n",
              "</table>\n",
              "<p>178 rows × 5 columns</p>\n",
              "</div>"
            ],
            "text/plain": [
              "          pc1       pc2       pc3  h_clusterid  clusterid_new\n",
              "0   -1.453098 -0.164795 -0.013273            0              1\n",
              "1    0.330019 -2.026707 -0.417144            0              4\n",
              "2   -1.036936  0.983238  0.664232            0              1\n",
              "3   -2.768210 -0.174968  0.565088            0              1\n",
              "4   -0.867773  2.025829 -0.440906            0              2\n",
              "..        ...       ...       ...          ...            ...\n",
              "173 -2.206617 -0.343668  0.751705            0              7\n",
              "174 -1.752263  0.207480  0.399381            0              7\n",
              "175 -2.756040 -0.940803  0.607758            0              7\n",
              "176 -2.293784 -0.550474 -0.391570            0              7\n",
              "177 -2.760608  1.013151  0.349630            0              7\n",
              "\n",
              "[178 rows x 5 columns]"
            ]
          },
          "metadata": {},
          "execution_count": 60
        }
      ]
    },
    {
      "cell_type": "code",
      "source": [
        ""
      ],
      "metadata": {
        "id": "x2-cJJFEq2HS"
      },
      "execution_count": null,
      "outputs": []
    },
    {
      "cell_type": "code",
      "source": [
        ""
      ],
      "metadata": {
        "id": "Geh5lf3Sq2Jo"
      },
      "execution_count": null,
      "outputs": []
    }
  ]
}