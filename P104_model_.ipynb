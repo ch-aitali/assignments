{
  "cells": [
    {
      "cell_type": "markdown",
      "metadata": {
        "id": "view-in-github",
        "colab_type": "text"
      },
      "source": [
        "<a href=\"https://colab.research.google.com/github/ch-aitali/assignments/blob/main/P104_model_.ipynb\" target=\"_parent\"><img src=\"https://colab.research.google.com/assets/colab-badge.svg\" alt=\"Open In Colab\"/></a>"
      ]
    },
    {
      "cell_type": "markdown",
      "id": "add78d4a",
      "metadata": {
        "id": "add78d4a"
      },
      "source": [
        " ## 1. Importing necessary libraries"
      ]
    },
    {
      "cell_type": "code",
      "execution_count": 1,
      "id": "3ac2222e",
      "metadata": {
        "colab": {
          "base_uri": "https://localhost:8080/"
        },
        "id": "3ac2222e",
        "outputId": "5250aca2-60f8-4b09-d13e-8e5a4b16333e"
      },
      "outputs": [
        {
          "output_type": "stream",
          "name": "stderr",
          "text": [
            "/usr/local/lib/python3.7/dist-packages/statsmodels/tools/_testing.py:19: FutureWarning: pandas.util.testing is deprecated. Use the functions in the public API at pandas.testing instead.\n",
            "  import pandas.util.testing as tm\n"
          ]
        }
      ],
      "source": [
        "import pandas as pd\n",
        "import matplotlib.pyplot as plt\n",
        "import numpy as np\n",
        "from pandas.plotting import autocorrelation_plot\n",
        "import statsmodels.api as sm\n",
        "import seaborn as sns"
      ]
    },
    {
      "cell_type": "markdown",
      "id": "e2632490",
      "metadata": {
        "id": "e2632490"
      },
      "source": [
        "## 2. Importing the Data"
      ]
    },
    {
      "cell_type": "code",
      "execution_count": 2,
      "id": "6b4533a1",
      "metadata": {
        "colab": {
          "base_uri": "https://localhost:8080/",
          "height": 423
        },
        "id": "6b4533a1",
        "outputId": "7edcc21a-d395-4fbd-c39a-19940845429e"
      },
      "outputs": [
        {
          "output_type": "execute_result",
          "data": {
            "text/plain": [
              "    Year Inflation Rate (%) Annual Change   t    t2         log t\n",
              "0   2020              6.62%         2.90%   1     1  -1.179142011\n",
              "1   2019              3.72%        -0.22%   2     4   -1.42945706\n",
              "2   2018              3.95%         0.62%   3     9  -1.403402904\n",
              "3   2017              3.33%        -1.62%   4    16  -1.477555766\n",
              "4   2016              4.95%         0.04%   5    25  -1.305394801\n",
              "..   ...                ...           ...  ..   ...           ...\n",
              "56  1964             13.36%        10.41%  57  3249  -0.874193542\n",
              "57  1963              2.95%        -0.69%  58  3364  -1.530177984\n",
              "58  1962              3.63%         1.94%  59  3481  -1.440093375\n",
              "59  1961              1.70%        -0.08%  60  3600  -1.769551079\n",
              "60  1960              1.78%        -0.08%  61  3721  -1.749579998\n",
              "\n",
              "[61 rows x 6 columns]"
            ],
            "text/html": [
              "\n",
              "  <div id=\"df-d728724d-5c87-4d44-b95c-83d72a6fdd51\">\n",
              "    <div class=\"colab-df-container\">\n",
              "      <div>\n",
              "<style scoped>\n",
              "    .dataframe tbody tr th:only-of-type {\n",
              "        vertical-align: middle;\n",
              "    }\n",
              "\n",
              "    .dataframe tbody tr th {\n",
              "        vertical-align: top;\n",
              "    }\n",
              "\n",
              "    .dataframe thead th {\n",
              "        text-align: right;\n",
              "    }\n",
              "</style>\n",
              "<table border=\"1\" class=\"dataframe\">\n",
              "  <thead>\n",
              "    <tr style=\"text-align: right;\">\n",
              "      <th></th>\n",
              "      <th>Year</th>\n",
              "      <th>Inflation Rate (%)</th>\n",
              "      <th>Annual Change</th>\n",
              "      <th>t</th>\n",
              "      <th>t2</th>\n",
              "      <th>log t</th>\n",
              "    </tr>\n",
              "  </thead>\n",
              "  <tbody>\n",
              "    <tr>\n",
              "      <th>0</th>\n",
              "      <td>2020</td>\n",
              "      <td>6.62%</td>\n",
              "      <td>2.90%</td>\n",
              "      <td>1</td>\n",
              "      <td>1</td>\n",
              "      <td>-1.179142011</td>\n",
              "    </tr>\n",
              "    <tr>\n",
              "      <th>1</th>\n",
              "      <td>2019</td>\n",
              "      <td>3.72%</td>\n",
              "      <td>-0.22%</td>\n",
              "      <td>2</td>\n",
              "      <td>4</td>\n",
              "      <td>-1.42945706</td>\n",
              "    </tr>\n",
              "    <tr>\n",
              "      <th>2</th>\n",
              "      <td>2018</td>\n",
              "      <td>3.95%</td>\n",
              "      <td>0.62%</td>\n",
              "      <td>3</td>\n",
              "      <td>9</td>\n",
              "      <td>-1.403402904</td>\n",
              "    </tr>\n",
              "    <tr>\n",
              "      <th>3</th>\n",
              "      <td>2017</td>\n",
              "      <td>3.33%</td>\n",
              "      <td>-1.62%</td>\n",
              "      <td>4</td>\n",
              "      <td>16</td>\n",
              "      <td>-1.477555766</td>\n",
              "    </tr>\n",
              "    <tr>\n",
              "      <th>4</th>\n",
              "      <td>2016</td>\n",
              "      <td>4.95%</td>\n",
              "      <td>0.04%</td>\n",
              "      <td>5</td>\n",
              "      <td>25</td>\n",
              "      <td>-1.305394801</td>\n",
              "    </tr>\n",
              "    <tr>\n",
              "      <th>...</th>\n",
              "      <td>...</td>\n",
              "      <td>...</td>\n",
              "      <td>...</td>\n",
              "      <td>...</td>\n",
              "      <td>...</td>\n",
              "      <td>...</td>\n",
              "    </tr>\n",
              "    <tr>\n",
              "      <th>56</th>\n",
              "      <td>1964</td>\n",
              "      <td>13.36%</td>\n",
              "      <td>10.41%</td>\n",
              "      <td>57</td>\n",
              "      <td>3249</td>\n",
              "      <td>-0.874193542</td>\n",
              "    </tr>\n",
              "    <tr>\n",
              "      <th>57</th>\n",
              "      <td>1963</td>\n",
              "      <td>2.95%</td>\n",
              "      <td>-0.69%</td>\n",
              "      <td>58</td>\n",
              "      <td>3364</td>\n",
              "      <td>-1.530177984</td>\n",
              "    </tr>\n",
              "    <tr>\n",
              "      <th>58</th>\n",
              "      <td>1962</td>\n",
              "      <td>3.63%</td>\n",
              "      <td>1.94%</td>\n",
              "      <td>59</td>\n",
              "      <td>3481</td>\n",
              "      <td>-1.440093375</td>\n",
              "    </tr>\n",
              "    <tr>\n",
              "      <th>59</th>\n",
              "      <td>1961</td>\n",
              "      <td>1.70%</td>\n",
              "      <td>-0.08%</td>\n",
              "      <td>60</td>\n",
              "      <td>3600</td>\n",
              "      <td>-1.769551079</td>\n",
              "    </tr>\n",
              "    <tr>\n",
              "      <th>60</th>\n",
              "      <td>1960</td>\n",
              "      <td>1.78%</td>\n",
              "      <td>-0.08%</td>\n",
              "      <td>61</td>\n",
              "      <td>3721</td>\n",
              "      <td>-1.749579998</td>\n",
              "    </tr>\n",
              "  </tbody>\n",
              "</table>\n",
              "<p>61 rows × 6 columns</p>\n",
              "</div>\n",
              "      <button class=\"colab-df-convert\" onclick=\"convertToInteractive('df-d728724d-5c87-4d44-b95c-83d72a6fdd51')\"\n",
              "              title=\"Convert this dataframe to an interactive table.\"\n",
              "              style=\"display:none;\">\n",
              "        \n",
              "  <svg xmlns=\"http://www.w3.org/2000/svg\" height=\"24px\"viewBox=\"0 0 24 24\"\n",
              "       width=\"24px\">\n",
              "    <path d=\"M0 0h24v24H0V0z\" fill=\"none\"/>\n",
              "    <path d=\"M18.56 5.44l.94 2.06.94-2.06 2.06-.94-2.06-.94-.94-2.06-.94 2.06-2.06.94zm-11 1L8.5 8.5l.94-2.06 2.06-.94-2.06-.94L8.5 2.5l-.94 2.06-2.06.94zm10 10l.94 2.06.94-2.06 2.06-.94-2.06-.94-.94-2.06-.94 2.06-2.06.94z\"/><path d=\"M17.41 7.96l-1.37-1.37c-.4-.4-.92-.59-1.43-.59-.52 0-1.04.2-1.43.59L10.3 9.45l-7.72 7.72c-.78.78-.78 2.05 0 2.83L4 21.41c.39.39.9.59 1.41.59.51 0 1.02-.2 1.41-.59l7.78-7.78 2.81-2.81c.8-.78.8-2.07 0-2.86zM5.41 20L4 18.59l7.72-7.72 1.47 1.35L5.41 20z\"/>\n",
              "  </svg>\n",
              "      </button>\n",
              "      \n",
              "  <style>\n",
              "    .colab-df-container {\n",
              "      display:flex;\n",
              "      flex-wrap:wrap;\n",
              "      gap: 12px;\n",
              "    }\n",
              "\n",
              "    .colab-df-convert {\n",
              "      background-color: #E8F0FE;\n",
              "      border: none;\n",
              "      border-radius: 50%;\n",
              "      cursor: pointer;\n",
              "      display: none;\n",
              "      fill: #1967D2;\n",
              "      height: 32px;\n",
              "      padding: 0 0 0 0;\n",
              "      width: 32px;\n",
              "    }\n",
              "\n",
              "    .colab-df-convert:hover {\n",
              "      background-color: #E2EBFA;\n",
              "      box-shadow: 0px 1px 2px rgba(60, 64, 67, 0.3), 0px 1px 3px 1px rgba(60, 64, 67, 0.15);\n",
              "      fill: #174EA6;\n",
              "    }\n",
              "\n",
              "    [theme=dark] .colab-df-convert {\n",
              "      background-color: #3B4455;\n",
              "      fill: #D2E3FC;\n",
              "    }\n",
              "\n",
              "    [theme=dark] .colab-df-convert:hover {\n",
              "      background-color: #434B5C;\n",
              "      box-shadow: 0px 1px 3px 1px rgba(0, 0, 0, 0.15);\n",
              "      filter: drop-shadow(0px 1px 2px rgba(0, 0, 0, 0.3));\n",
              "      fill: #FFFFFF;\n",
              "    }\n",
              "  </style>\n",
              "\n",
              "      <script>\n",
              "        const buttonEl =\n",
              "          document.querySelector('#df-d728724d-5c87-4d44-b95c-83d72a6fdd51 button.colab-df-convert');\n",
              "        buttonEl.style.display =\n",
              "          google.colab.kernel.accessAllowed ? 'block' : 'none';\n",
              "\n",
              "        async function convertToInteractive(key) {\n",
              "          const element = document.querySelector('#df-d728724d-5c87-4d44-b95c-83d72a6fdd51');\n",
              "          const dataTable =\n",
              "            await google.colab.kernel.invokeFunction('convertToInteractive',\n",
              "                                                     [key], {});\n",
              "          if (!dataTable) return;\n",
              "\n",
              "          const docLinkHtml = 'Like what you see? Visit the ' +\n",
              "            '<a target=\"_blank\" href=https://colab.research.google.com/notebooks/data_table.ipynb>data table notebook</a>'\n",
              "            + ' to learn more about interactive tables.';\n",
              "          element.innerHTML = '';\n",
              "          dataTable['output_type'] = 'display_data';\n",
              "          await google.colab.output.renderOutput(dataTable, element);\n",
              "          const docLink = document.createElement('div');\n",
              "          docLink.innerHTML = docLinkHtml;\n",
              "          element.appendChild(docLink);\n",
              "        }\n",
              "      </script>\n",
              "    </div>\n",
              "  </div>\n",
              "  "
            ]
          },
          "metadata": {},
          "execution_count": 2
        }
      ],
      "source": [
        "inf_rate = pd.read_csv('/content/INDIA INFLATION RATE.csv')\n",
        "inf_rate"
      ]
    },
    {
      "cell_type": "markdown",
      "id": "2f184b73",
      "metadata": {
        "id": "2f184b73"
      },
      "source": [
        "## 3. Data Understanding"
      ]
    },
    {
      "cell_type": "code",
      "execution_count": 3,
      "id": "c3b6aae9",
      "metadata": {
        "colab": {
          "base_uri": "https://localhost:8080/"
        },
        "id": "c3b6aae9",
        "outputId": "e31c2f82-8da4-4285-c261-952e2fc4a709"
      },
      "outputs": [
        {
          "output_type": "execute_result",
          "data": {
            "text/plain": [
              "(61, 6)"
            ]
          },
          "metadata": {},
          "execution_count": 3
        }
      ],
      "source": [
        "inf_rate.shape"
      ]
    },
    {
      "cell_type": "code",
      "execution_count": 4,
      "id": "39cb83af",
      "metadata": {
        "colab": {
          "base_uri": "https://localhost:8080/"
        },
        "id": "39cb83af",
        "outputId": "8c1a030b-6ca9-4a01-94dd-ebf12d0184db"
      },
      "outputs": [
        {
          "output_type": "execute_result",
          "data": {
            "text/plain": [
              "Year                   int64\n",
              "Inflation Rate (%)    object\n",
              "Annual Change         object\n",
              "t                      int64\n",
              "t2                     int64\n",
              "log t                 object\n",
              "dtype: object"
            ]
          },
          "metadata": {},
          "execution_count": 4
        }
      ],
      "source": [
        "inf_rate.dtypes"
      ]
    },
    {
      "cell_type": "code",
      "execution_count": 5,
      "id": "6c08d459",
      "metadata": {
        "colab": {
          "base_uri": "https://localhost:8080/"
        },
        "id": "6c08d459",
        "outputId": "8088f2d9-f511-4668-d5b8-e0c1298a0ec4"
      },
      "outputs": [
        {
          "output_type": "stream",
          "name": "stdout",
          "text": [
            "<class 'pandas.core.frame.DataFrame'>\n",
            "RangeIndex: 61 entries, 0 to 60\n",
            "Data columns (total 6 columns):\n",
            " #   Column              Non-Null Count  Dtype \n",
            "---  ------              --------------  ----- \n",
            " 0   Year                61 non-null     int64 \n",
            " 1   Inflation Rate (%)  61 non-null     object\n",
            " 2   Annual Change       61 non-null     object\n",
            " 3   t                   61 non-null     int64 \n",
            " 4   t2                  61 non-null     int64 \n",
            " 5   log t               61 non-null     object\n",
            "dtypes: int64(3), object(3)\n",
            "memory usage: 3.0+ KB\n"
          ]
        }
      ],
      "source": [
        "inf_rate.info()"
      ]
    },
    {
      "cell_type": "code",
      "execution_count": 6,
      "id": "22ff3d84",
      "metadata": {
        "colab": {
          "base_uri": "https://localhost:8080/",
          "height": 394
        },
        "id": "22ff3d84",
        "outputId": "9579cd92-ad0b-4a23-cf19-fd178b63f304"
      },
      "outputs": [
        {
          "output_type": "execute_result",
          "data": {
            "text/plain": [
              "               Year Inflation Rate (%) Annual Change          t          t2  \\\n",
              "count     61.000000                 61            61  61.000000    61.00000   \n",
              "unique          NaN                 61            59        NaN         NaN   \n",
              "top             NaN              6.62%        -0.08%        NaN         NaN   \n",
              "freq            NaN                  1             2        NaN         NaN   \n",
              "mean    1990.000000                NaN           NaN  31.000000  1271.00000   \n",
              "std       17.752934                NaN           NaN  17.752934  1135.60511   \n",
              "min     1960.000000                NaN           NaN   1.000000     1.00000   \n",
              "25%     1975.000000                NaN           NaN  16.000000   256.00000   \n",
              "50%     1990.000000                NaN           NaN  31.000000   961.00000   \n",
              "75%     2005.000000                NaN           NaN  46.000000  2116.00000   \n",
              "max     2020.000000                NaN           NaN  61.000000  3721.00000   \n",
              "\n",
              "        log t  \n",
              "count      61  \n",
              "unique     60  \n",
              "top     #NUM!  \n",
              "freq        2  \n",
              "mean      NaN  \n",
              "std       NaN  \n",
              "min       NaN  \n",
              "25%       NaN  \n",
              "50%       NaN  \n",
              "75%       NaN  \n",
              "max       NaN  "
            ],
            "text/html": [
              "\n",
              "  <div id=\"df-70b6eff6-b668-47a5-869a-ecaa9411bce6\">\n",
              "    <div class=\"colab-df-container\">\n",
              "      <div>\n",
              "<style scoped>\n",
              "    .dataframe tbody tr th:only-of-type {\n",
              "        vertical-align: middle;\n",
              "    }\n",
              "\n",
              "    .dataframe tbody tr th {\n",
              "        vertical-align: top;\n",
              "    }\n",
              "\n",
              "    .dataframe thead th {\n",
              "        text-align: right;\n",
              "    }\n",
              "</style>\n",
              "<table border=\"1\" class=\"dataframe\">\n",
              "  <thead>\n",
              "    <tr style=\"text-align: right;\">\n",
              "      <th></th>\n",
              "      <th>Year</th>\n",
              "      <th>Inflation Rate (%)</th>\n",
              "      <th>Annual Change</th>\n",
              "      <th>t</th>\n",
              "      <th>t2</th>\n",
              "      <th>log t</th>\n",
              "    </tr>\n",
              "  </thead>\n",
              "  <tbody>\n",
              "    <tr>\n",
              "      <th>count</th>\n",
              "      <td>61.000000</td>\n",
              "      <td>61</td>\n",
              "      <td>61</td>\n",
              "      <td>61.000000</td>\n",
              "      <td>61.00000</td>\n",
              "      <td>61</td>\n",
              "    </tr>\n",
              "    <tr>\n",
              "      <th>unique</th>\n",
              "      <td>NaN</td>\n",
              "      <td>61</td>\n",
              "      <td>59</td>\n",
              "      <td>NaN</td>\n",
              "      <td>NaN</td>\n",
              "      <td>60</td>\n",
              "    </tr>\n",
              "    <tr>\n",
              "      <th>top</th>\n",
              "      <td>NaN</td>\n",
              "      <td>6.62%</td>\n",
              "      <td>-0.08%</td>\n",
              "      <td>NaN</td>\n",
              "      <td>NaN</td>\n",
              "      <td>#NUM!</td>\n",
              "    </tr>\n",
              "    <tr>\n",
              "      <th>freq</th>\n",
              "      <td>NaN</td>\n",
              "      <td>1</td>\n",
              "      <td>2</td>\n",
              "      <td>NaN</td>\n",
              "      <td>NaN</td>\n",
              "      <td>2</td>\n",
              "    </tr>\n",
              "    <tr>\n",
              "      <th>mean</th>\n",
              "      <td>1990.000000</td>\n",
              "      <td>NaN</td>\n",
              "      <td>NaN</td>\n",
              "      <td>31.000000</td>\n",
              "      <td>1271.00000</td>\n",
              "      <td>NaN</td>\n",
              "    </tr>\n",
              "    <tr>\n",
              "      <th>std</th>\n",
              "      <td>17.752934</td>\n",
              "      <td>NaN</td>\n",
              "      <td>NaN</td>\n",
              "      <td>17.752934</td>\n",
              "      <td>1135.60511</td>\n",
              "      <td>NaN</td>\n",
              "    </tr>\n",
              "    <tr>\n",
              "      <th>min</th>\n",
              "      <td>1960.000000</td>\n",
              "      <td>NaN</td>\n",
              "      <td>NaN</td>\n",
              "      <td>1.000000</td>\n",
              "      <td>1.00000</td>\n",
              "      <td>NaN</td>\n",
              "    </tr>\n",
              "    <tr>\n",
              "      <th>25%</th>\n",
              "      <td>1975.000000</td>\n",
              "      <td>NaN</td>\n",
              "      <td>NaN</td>\n",
              "      <td>16.000000</td>\n",
              "      <td>256.00000</td>\n",
              "      <td>NaN</td>\n",
              "    </tr>\n",
              "    <tr>\n",
              "      <th>50%</th>\n",
              "      <td>1990.000000</td>\n",
              "      <td>NaN</td>\n",
              "      <td>NaN</td>\n",
              "      <td>31.000000</td>\n",
              "      <td>961.00000</td>\n",
              "      <td>NaN</td>\n",
              "    </tr>\n",
              "    <tr>\n",
              "      <th>75%</th>\n",
              "      <td>2005.000000</td>\n",
              "      <td>NaN</td>\n",
              "      <td>NaN</td>\n",
              "      <td>46.000000</td>\n",
              "      <td>2116.00000</td>\n",
              "      <td>NaN</td>\n",
              "    </tr>\n",
              "    <tr>\n",
              "      <th>max</th>\n",
              "      <td>2020.000000</td>\n",
              "      <td>NaN</td>\n",
              "      <td>NaN</td>\n",
              "      <td>61.000000</td>\n",
              "      <td>3721.00000</td>\n",
              "      <td>NaN</td>\n",
              "    </tr>\n",
              "  </tbody>\n",
              "</table>\n",
              "</div>\n",
              "      <button class=\"colab-df-convert\" onclick=\"convertToInteractive('df-70b6eff6-b668-47a5-869a-ecaa9411bce6')\"\n",
              "              title=\"Convert this dataframe to an interactive table.\"\n",
              "              style=\"display:none;\">\n",
              "        \n",
              "  <svg xmlns=\"http://www.w3.org/2000/svg\" height=\"24px\"viewBox=\"0 0 24 24\"\n",
              "       width=\"24px\">\n",
              "    <path d=\"M0 0h24v24H0V0z\" fill=\"none\"/>\n",
              "    <path d=\"M18.56 5.44l.94 2.06.94-2.06 2.06-.94-2.06-.94-.94-2.06-.94 2.06-2.06.94zm-11 1L8.5 8.5l.94-2.06 2.06-.94-2.06-.94L8.5 2.5l-.94 2.06-2.06.94zm10 10l.94 2.06.94-2.06 2.06-.94-2.06-.94-.94-2.06-.94 2.06-2.06.94z\"/><path d=\"M17.41 7.96l-1.37-1.37c-.4-.4-.92-.59-1.43-.59-.52 0-1.04.2-1.43.59L10.3 9.45l-7.72 7.72c-.78.78-.78 2.05 0 2.83L4 21.41c.39.39.9.59 1.41.59.51 0 1.02-.2 1.41-.59l7.78-7.78 2.81-2.81c.8-.78.8-2.07 0-2.86zM5.41 20L4 18.59l7.72-7.72 1.47 1.35L5.41 20z\"/>\n",
              "  </svg>\n",
              "      </button>\n",
              "      \n",
              "  <style>\n",
              "    .colab-df-container {\n",
              "      display:flex;\n",
              "      flex-wrap:wrap;\n",
              "      gap: 12px;\n",
              "    }\n",
              "\n",
              "    .colab-df-convert {\n",
              "      background-color: #E8F0FE;\n",
              "      border: none;\n",
              "      border-radius: 50%;\n",
              "      cursor: pointer;\n",
              "      display: none;\n",
              "      fill: #1967D2;\n",
              "      height: 32px;\n",
              "      padding: 0 0 0 0;\n",
              "      width: 32px;\n",
              "    }\n",
              "\n",
              "    .colab-df-convert:hover {\n",
              "      background-color: #E2EBFA;\n",
              "      box-shadow: 0px 1px 2px rgba(60, 64, 67, 0.3), 0px 1px 3px 1px rgba(60, 64, 67, 0.15);\n",
              "      fill: #174EA6;\n",
              "    }\n",
              "\n",
              "    [theme=dark] .colab-df-convert {\n",
              "      background-color: #3B4455;\n",
              "      fill: #D2E3FC;\n",
              "    }\n",
              "\n",
              "    [theme=dark] .colab-df-convert:hover {\n",
              "      background-color: #434B5C;\n",
              "      box-shadow: 0px 1px 3px 1px rgba(0, 0, 0, 0.15);\n",
              "      filter: drop-shadow(0px 1px 2px rgba(0, 0, 0, 0.3));\n",
              "      fill: #FFFFFF;\n",
              "    }\n",
              "  </style>\n",
              "\n",
              "      <script>\n",
              "        const buttonEl =\n",
              "          document.querySelector('#df-70b6eff6-b668-47a5-869a-ecaa9411bce6 button.colab-df-convert');\n",
              "        buttonEl.style.display =\n",
              "          google.colab.kernel.accessAllowed ? 'block' : 'none';\n",
              "\n",
              "        async function convertToInteractive(key) {\n",
              "          const element = document.querySelector('#df-70b6eff6-b668-47a5-869a-ecaa9411bce6');\n",
              "          const dataTable =\n",
              "            await google.colab.kernel.invokeFunction('convertToInteractive',\n",
              "                                                     [key], {});\n",
              "          if (!dataTable) return;\n",
              "\n",
              "          const docLinkHtml = 'Like what you see? Visit the ' +\n",
              "            '<a target=\"_blank\" href=https://colab.research.google.com/notebooks/data_table.ipynb>data table notebook</a>'\n",
              "            + ' to learn more about interactive tables.';\n",
              "          element.innerHTML = '';\n",
              "          dataTable['output_type'] = 'display_data';\n",
              "          await google.colab.output.renderOutput(dataTable, element);\n",
              "          const docLink = document.createElement('div');\n",
              "          docLink.innerHTML = docLinkHtml;\n",
              "          element.appendChild(docLink);\n",
              "        }\n",
              "      </script>\n",
              "    </div>\n",
              "  </div>\n",
              "  "
            ]
          },
          "metadata": {},
          "execution_count": 6
        }
      ],
      "source": [
        "inf_rate.describe(include='all')"
      ]
    },
    {
      "cell_type": "markdown",
      "id": "394c76e8",
      "metadata": {
        "id": "394c76e8"
      },
      "source": [
        "## 4. Data Cleaning"
      ]
    },
    {
      "cell_type": "code",
      "execution_count": 7,
      "id": "69b0e529",
      "metadata": {
        "id": "69b0e529"
      },
      "outputs": [],
      "source": [
        "inf_rate.rename(columns={'Inflation Rate (%)':'Inflation_Rate(%)','Annual Change':'Annual_Change(%)'},inplace=True)"
      ]
    },
    {
      "cell_type": "code",
      "execution_count": 8,
      "id": "ef8b57e2",
      "metadata": {
        "id": "ef8b57e2"
      },
      "outputs": [],
      "source": [
        "inf_rate['Inflation_Rate(%)'].replace(\"%\", ' ', regex=True, inplace=True)\n",
        "inf_rate['Annual_Change(%)'].replace(\"%\", ' ', regex=True, inplace=True)"
      ]
    },
    {
      "cell_type": "code",
      "execution_count": 9,
      "id": "ea8a92bf",
      "metadata": {
        "colab": {
          "base_uri": "https://localhost:8080/",
          "height": 423
        },
        "id": "ea8a92bf",
        "outputId": "15388436-a503-44f4-df91-92e4a7865ef4"
      },
      "outputs": [
        {
          "output_type": "execute_result",
          "data": {
            "text/plain": [
              "    Year Inflation_Rate(%) Annual_Change(%)   t    t2         log t\n",
              "0   2020             6.62             2.90    1     1  -1.179142011\n",
              "1   2019             3.72            -0.22    2     4   -1.42945706\n",
              "2   2018             3.95             0.62    3     9  -1.403402904\n",
              "3   2017             3.33            -1.62    4    16  -1.477555766\n",
              "4   2016             4.95             0.04    5    25  -1.305394801\n",
              "..   ...               ...              ...  ..   ...           ...\n",
              "56  1964            13.36            10.41   57  3249  -0.874193542\n",
              "57  1963             2.95            -0.69   58  3364  -1.530177984\n",
              "58  1962             3.63             1.94   59  3481  -1.440093375\n",
              "59  1961             1.70            -0.08   60  3600  -1.769551079\n",
              "60  1960             1.78            -0.08   61  3721  -1.749579998\n",
              "\n",
              "[61 rows x 6 columns]"
            ],
            "text/html": [
              "\n",
              "  <div id=\"df-873817e8-6eda-481e-a2dd-9ec2c26c8ed8\">\n",
              "    <div class=\"colab-df-container\">\n",
              "      <div>\n",
              "<style scoped>\n",
              "    .dataframe tbody tr th:only-of-type {\n",
              "        vertical-align: middle;\n",
              "    }\n",
              "\n",
              "    .dataframe tbody tr th {\n",
              "        vertical-align: top;\n",
              "    }\n",
              "\n",
              "    .dataframe thead th {\n",
              "        text-align: right;\n",
              "    }\n",
              "</style>\n",
              "<table border=\"1\" class=\"dataframe\">\n",
              "  <thead>\n",
              "    <tr style=\"text-align: right;\">\n",
              "      <th></th>\n",
              "      <th>Year</th>\n",
              "      <th>Inflation_Rate(%)</th>\n",
              "      <th>Annual_Change(%)</th>\n",
              "      <th>t</th>\n",
              "      <th>t2</th>\n",
              "      <th>log t</th>\n",
              "    </tr>\n",
              "  </thead>\n",
              "  <tbody>\n",
              "    <tr>\n",
              "      <th>0</th>\n",
              "      <td>2020</td>\n",
              "      <td>6.62</td>\n",
              "      <td>2.90</td>\n",
              "      <td>1</td>\n",
              "      <td>1</td>\n",
              "      <td>-1.179142011</td>\n",
              "    </tr>\n",
              "    <tr>\n",
              "      <th>1</th>\n",
              "      <td>2019</td>\n",
              "      <td>3.72</td>\n",
              "      <td>-0.22</td>\n",
              "      <td>2</td>\n",
              "      <td>4</td>\n",
              "      <td>-1.42945706</td>\n",
              "    </tr>\n",
              "    <tr>\n",
              "      <th>2</th>\n",
              "      <td>2018</td>\n",
              "      <td>3.95</td>\n",
              "      <td>0.62</td>\n",
              "      <td>3</td>\n",
              "      <td>9</td>\n",
              "      <td>-1.403402904</td>\n",
              "    </tr>\n",
              "    <tr>\n",
              "      <th>3</th>\n",
              "      <td>2017</td>\n",
              "      <td>3.33</td>\n",
              "      <td>-1.62</td>\n",
              "      <td>4</td>\n",
              "      <td>16</td>\n",
              "      <td>-1.477555766</td>\n",
              "    </tr>\n",
              "    <tr>\n",
              "      <th>4</th>\n",
              "      <td>2016</td>\n",
              "      <td>4.95</td>\n",
              "      <td>0.04</td>\n",
              "      <td>5</td>\n",
              "      <td>25</td>\n",
              "      <td>-1.305394801</td>\n",
              "    </tr>\n",
              "    <tr>\n",
              "      <th>...</th>\n",
              "      <td>...</td>\n",
              "      <td>...</td>\n",
              "      <td>...</td>\n",
              "      <td>...</td>\n",
              "      <td>...</td>\n",
              "      <td>...</td>\n",
              "    </tr>\n",
              "    <tr>\n",
              "      <th>56</th>\n",
              "      <td>1964</td>\n",
              "      <td>13.36</td>\n",
              "      <td>10.41</td>\n",
              "      <td>57</td>\n",
              "      <td>3249</td>\n",
              "      <td>-0.874193542</td>\n",
              "    </tr>\n",
              "    <tr>\n",
              "      <th>57</th>\n",
              "      <td>1963</td>\n",
              "      <td>2.95</td>\n",
              "      <td>-0.69</td>\n",
              "      <td>58</td>\n",
              "      <td>3364</td>\n",
              "      <td>-1.530177984</td>\n",
              "    </tr>\n",
              "    <tr>\n",
              "      <th>58</th>\n",
              "      <td>1962</td>\n",
              "      <td>3.63</td>\n",
              "      <td>1.94</td>\n",
              "      <td>59</td>\n",
              "      <td>3481</td>\n",
              "      <td>-1.440093375</td>\n",
              "    </tr>\n",
              "    <tr>\n",
              "      <th>59</th>\n",
              "      <td>1961</td>\n",
              "      <td>1.70</td>\n",
              "      <td>-0.08</td>\n",
              "      <td>60</td>\n",
              "      <td>3600</td>\n",
              "      <td>-1.769551079</td>\n",
              "    </tr>\n",
              "    <tr>\n",
              "      <th>60</th>\n",
              "      <td>1960</td>\n",
              "      <td>1.78</td>\n",
              "      <td>-0.08</td>\n",
              "      <td>61</td>\n",
              "      <td>3721</td>\n",
              "      <td>-1.749579998</td>\n",
              "    </tr>\n",
              "  </tbody>\n",
              "</table>\n",
              "<p>61 rows × 6 columns</p>\n",
              "</div>\n",
              "      <button class=\"colab-df-convert\" onclick=\"convertToInteractive('df-873817e8-6eda-481e-a2dd-9ec2c26c8ed8')\"\n",
              "              title=\"Convert this dataframe to an interactive table.\"\n",
              "              style=\"display:none;\">\n",
              "        \n",
              "  <svg xmlns=\"http://www.w3.org/2000/svg\" height=\"24px\"viewBox=\"0 0 24 24\"\n",
              "       width=\"24px\">\n",
              "    <path d=\"M0 0h24v24H0V0z\" fill=\"none\"/>\n",
              "    <path d=\"M18.56 5.44l.94 2.06.94-2.06 2.06-.94-2.06-.94-.94-2.06-.94 2.06-2.06.94zm-11 1L8.5 8.5l.94-2.06 2.06-.94-2.06-.94L8.5 2.5l-.94 2.06-2.06.94zm10 10l.94 2.06.94-2.06 2.06-.94-2.06-.94-.94-2.06-.94 2.06-2.06.94z\"/><path d=\"M17.41 7.96l-1.37-1.37c-.4-.4-.92-.59-1.43-.59-.52 0-1.04.2-1.43.59L10.3 9.45l-7.72 7.72c-.78.78-.78 2.05 0 2.83L4 21.41c.39.39.9.59 1.41.59.51 0 1.02-.2 1.41-.59l7.78-7.78 2.81-2.81c.8-.78.8-2.07 0-2.86zM5.41 20L4 18.59l7.72-7.72 1.47 1.35L5.41 20z\"/>\n",
              "  </svg>\n",
              "      </button>\n",
              "      \n",
              "  <style>\n",
              "    .colab-df-container {\n",
              "      display:flex;\n",
              "      flex-wrap:wrap;\n",
              "      gap: 12px;\n",
              "    }\n",
              "\n",
              "    .colab-df-convert {\n",
              "      background-color: #E8F0FE;\n",
              "      border: none;\n",
              "      border-radius: 50%;\n",
              "      cursor: pointer;\n",
              "      display: none;\n",
              "      fill: #1967D2;\n",
              "      height: 32px;\n",
              "      padding: 0 0 0 0;\n",
              "      width: 32px;\n",
              "    }\n",
              "\n",
              "    .colab-df-convert:hover {\n",
              "      background-color: #E2EBFA;\n",
              "      box-shadow: 0px 1px 2px rgba(60, 64, 67, 0.3), 0px 1px 3px 1px rgba(60, 64, 67, 0.15);\n",
              "      fill: #174EA6;\n",
              "    }\n",
              "\n",
              "    [theme=dark] .colab-df-convert {\n",
              "      background-color: #3B4455;\n",
              "      fill: #D2E3FC;\n",
              "    }\n",
              "\n",
              "    [theme=dark] .colab-df-convert:hover {\n",
              "      background-color: #434B5C;\n",
              "      box-shadow: 0px 1px 3px 1px rgba(0, 0, 0, 0.15);\n",
              "      filter: drop-shadow(0px 1px 2px rgba(0, 0, 0, 0.3));\n",
              "      fill: #FFFFFF;\n",
              "    }\n",
              "  </style>\n",
              "\n",
              "      <script>\n",
              "        const buttonEl =\n",
              "          document.querySelector('#df-873817e8-6eda-481e-a2dd-9ec2c26c8ed8 button.colab-df-convert');\n",
              "        buttonEl.style.display =\n",
              "          google.colab.kernel.accessAllowed ? 'block' : 'none';\n",
              "\n",
              "        async function convertToInteractive(key) {\n",
              "          const element = document.querySelector('#df-873817e8-6eda-481e-a2dd-9ec2c26c8ed8');\n",
              "          const dataTable =\n",
              "            await google.colab.kernel.invokeFunction('convertToInteractive',\n",
              "                                                     [key], {});\n",
              "          if (!dataTable) return;\n",
              "\n",
              "          const docLinkHtml = 'Like what you see? Visit the ' +\n",
              "            '<a target=\"_blank\" href=https://colab.research.google.com/notebooks/data_table.ipynb>data table notebook</a>'\n",
              "            + ' to learn more about interactive tables.';\n",
              "          element.innerHTML = '';\n",
              "          dataTable['output_type'] = 'display_data';\n",
              "          await google.colab.output.renderOutput(dataTable, element);\n",
              "          const docLink = document.createElement('div');\n",
              "          docLink.innerHTML = docLinkHtml;\n",
              "          element.appendChild(docLink);\n",
              "        }\n",
              "      </script>\n",
              "    </div>\n",
              "  </div>\n",
              "  "
            ]
          },
          "metadata": {},
          "execution_count": 9
        }
      ],
      "source": [
        "inf_rate"
      ]
    },
    {
      "cell_type": "code",
      "execution_count": 11,
      "id": "ed462b63",
      "metadata": {
        "id": "ed462b63"
      },
      "outputs": [],
      "source": [
        "inf_rate['Inflation_Rate(%)']=inf_rate['Inflation_Rate(%)'].astype(float)\n",
        "inf_rate['Annual_Change(%)']=inf_rate['Annual_Change(%)'].astype(float)\n"
      ]
    },
    {
      "cell_type": "code",
      "execution_count": 12,
      "id": "bc901461",
      "metadata": {
        "colab": {
          "base_uri": "https://localhost:8080/"
        },
        "id": "bc901461",
        "outputId": "3a69f45f-c84a-4bf8-92b9-c8155fbb1ba0"
      },
      "outputs": [
        {
          "output_type": "execute_result",
          "data": {
            "text/plain": [
              "Year                   int64\n",
              "Inflation_Rate(%)    float64\n",
              "Annual_Change(%)     float64\n",
              "t                      int64\n",
              "t2                     int64\n",
              "log t                 object\n",
              "dtype: object"
            ]
          },
          "metadata": {},
          "execution_count": 12
        }
      ],
      "source": [
        "inf_rate.dtypes"
      ]
    },
    {
      "cell_type": "markdown",
      "id": "d5de359f",
      "metadata": {
        "id": "d5de359f"
      },
      "source": [
        "## 5. Data Visualization"
      ]
    },
    {
      "cell_type": "code",
      "execution_count": 13,
      "id": "468e2aba",
      "metadata": {
        "scrolled": true,
        "colab": {
          "base_uri": "https://localhost:8080/",
          "height": 298
        },
        "id": "468e2aba",
        "outputId": "8ad18f21-4a4a-433c-b4e5-e5bed53878a5"
      },
      "outputs": [
        {
          "output_type": "execute_result",
          "data": {
            "text/plain": [
              "<matplotlib.axes._subplots.AxesSubplot at 0x7f20a91b8890>"
            ]
          },
          "metadata": {},
          "execution_count": 13
        },
        {
          "output_type": "display_data",
          "data": {
            "text/plain": [
              "<Figure size 432x288 with 1 Axes>"
            ],
            "image/png": "[encoded data removed]"
          },
          "metadata": {
            "needs_background": "light"
          }
        }
      ],
      "source": [
        "sns.lineplot(data=inf_rate, x=\"Year\", y=\"Inflation_Rate(%)\")"
      ]
    },
    {
      "cell_type": "code",
      "execution_count": 14,
      "id": "3d9759fd",
      "metadata": {
        "scrolled": true,
        "colab": {
          "base_uri": "https://localhost:8080/",
          "height": 623
        },
        "id": "3d9759fd",
        "outputId": "f7a57173-c3dd-4d9c-d481-a3450ca915ac"
      },
      "outputs": [
        {
          "output_type": "display_data",
          "data": {
            "text/plain": [
              "<Figure size 1296x720 with 1 Axes>"
            ],
            "image/png": "[encoded data removed]"
          },
          "metadata": {
            "needs_background": "light"
          }
        }
      ],
      "source": [
        "plt.figure(figsize=(18,10))\n",
        "x = inf_rate['Year']\n",
        "x_pos = np.arange(len(x))\n",
        "y = inf_rate['Annual_Change(%)']\n",
        "\n",
        "plt.bar(x_pos, y, align='center', alpha=0.5)\n",
        "plt.xticks(x_pos, x, rotation = 90)\n",
        "plt.ylabel('Annual change in Inflation Rate')\n",
        "plt.title('Annual Change of Inflation Rate (in %)')\n",
        "plt.show()"
      ]
    },
    {
      "cell_type": "code",
      "execution_count": 15,
      "id": "3dd3a640",
      "metadata": {
        "colab": {
          "base_uri": "https://localhost:8080/"
        },
        "id": "3dd3a640",
        "outputId": "f9366bb6-e8ee-4d4d-8fd3-9134c005b43e"
      },
      "outputs": [
        {
          "output_type": "execute_result",
          "data": {
            "text/plain": [
              "Int64Index([2020, 2019, 2018, 2017, 2016, 2015, 2014, 2013, 2012, 2011, 2010,\n",
              "            2009, 2008, 2007, 2006, 2005, 2004, 2003, 2002, 2001, 2000, 1999,\n",
              "            1998, 1997, 1996, 1995, 1994, 1993, 1992, 1991, 1990, 1989, 1988,\n",
              "            1987, 1986, 1985, 1984, 1983, 1982, 1981, 1980, 1979, 1978, 1977,\n",
              "            1976, 1975, 1974, 1973, 1972, 1971, 1970, 1969, 1968, 1967, 1966,\n",
              "            1965, 1964, 1963, 1962, 1961, 1960],\n",
              "           dtype='int64', name='Year')"
            ]
          },
          "metadata": {},
          "execution_count": 15
        }
      ],
      "source": [
        "#Setting the year as index\n",
        "inf_rate = inf_rate.set_index('Year')\n",
        "inf_rate.index"
      ]
    },
    {
      "cell_type": "code",
      "execution_count": 16,
      "id": "493788ed",
      "metadata": {
        "colab": {
          "base_uri": "https://localhost:8080/",
          "height": 355
        },
        "id": "493788ed",
        "outputId": "d0b573ef-ac50-4a7c-eaf8-0da75aef6beb"
      },
      "outputs": [
        {
          "output_type": "display_data",
          "data": {
            "text/plain": [
              "<Figure size 432x288 with 2 Axes>"
            ],
            "image/png": "[encoded data removed]"
          },
          "metadata": {
            "needs_background": "light"
          }
        }
      ],
      "source": [
        "inf_rate.corr()\n",
        "sns.heatmap(inf_rate.corr(),annot=True)\n",
        "plt.show()"
      ]
    },
    {
      "cell_type": "code",
      "execution_count": 17,
      "id": "58c7707a",
      "metadata": {
        "scrolled": true,
        "colab": {
          "base_uri": "https://localhost:8080/",
          "height": 743
        },
        "id": "58c7707a",
        "outputId": "93426fb5-69f9-40c3-b27c-b1d9b1474c51"
      },
      "outputs": [
        {
          "output_type": "execute_result",
          "data": {
            "text/plain": [
              "<seaborn.axisgrid.PairGrid at 0x7f20a8ac9710>"
            ]
          },
          "metadata": {},
          "execution_count": 17
        },
        {
          "output_type": "display_data",
          "data": {
            "text/plain": [
              "<Figure size 720x720 with 20 Axes>"
            ],
            "image/png": "[encoded data removed]"
          },
          "metadata": {
            "needs_background": "light"
          }
        }
      ],
      "source": [
        "sns.pairplot(inf_rate)\n"
      ]
    },
    {
      "cell_type": "code",
      "execution_count": 18,
      "id": "fedd04de",
      "metadata": {
        "colab": {
          "base_uri": "https://localhost:8080/",
          "height": 742
        },
        "id": "fedd04de",
        "outputId": "261cc4b6-ffc9-4a9d-fdab-43c96de5b449"
      },
      "outputs": [
        {
          "output_type": "execute_result",
          "data": {
            "text/plain": [
              "<seaborn.axisgrid.PairGrid at 0x7f20a5c84050>"
            ]
          },
          "metadata": {},
          "execution_count": 18
        },
        {
          "output_type": "display_data",
          "data": {
            "text/plain": [
              "<Figure size 720x720 with 20 Axes>"
            ],
            "image/png": "[encoded data removed]"
          },
          "metadata": {
            "needs_background": "light"
          }
        }
      ],
      "source": [
        "g = sns.PairGrid(inf_rate)\n",
        "g.map_upper(sns.histplot)\n",
        "g.map_lower(sns.kdeplot, fill=True)\n",
        "g.map_diag(sns.histplot, kde=True)\n"
      ]
    },
    {
      "cell_type": "code",
      "execution_count": 19,
      "id": "a7a32426",
      "metadata": {
        "scrolled": true,
        "colab": {
          "base_uri": "https://localhost:8080/",
          "height": 738
        },
        "id": "a7a32426",
        "outputId": "bd979619-8a89-45ee-cbc4-f10dbacd6c03"
      },
      "outputs": [
        {
          "output_type": "execute_result",
          "data": {
            "text/plain": [
              "<seaborn.axisgrid.FacetGrid at 0x7f20a326b8d0>"
            ]
          },
          "metadata": {},
          "execution_count": 19
        },
        {
          "output_type": "display_data",
          "data": {
            "text/plain": [
              "<Figure size 360x360 with 1 Axes>"
            ],
            "image/png": "[encoded data removed]"
          },
          "metadata": {
            "needs_background": "light"
          }
        },
        {
          "output_type": "display_data",
          "data": {
            "text/plain": [
              "<Figure size 360x360 with 1 Axes>"
            ],
            "image/png": "[encoded data removed]"
          },
          "metadata": {
            "needs_background": "light"
          }
        }
      ],
      "source": [
        "sns.displot(inf_rate, x=\"Inflation_Rate(%)\")\n",
        "sns.displot(inf_rate, x=\"Annual_Change(%)\")"
      ]
    },
    {
      "cell_type": "code",
      "execution_count": 20,
      "id": "bdae1918",
      "metadata": {
        "colab": {
          "base_uri": "https://localhost:8080/",
          "height": 738
        },
        "id": "bdae1918",
        "outputId": "ad44d6a9-89eb-46c5-d8f1-4a32af9fac82"
      },
      "outputs": [
        {
          "output_type": "execute_result",
          "data": {
            "text/plain": [
              "<seaborn.axisgrid.FacetGrid at 0x7f20a324d390>"
            ]
          },
          "metadata": {},
          "execution_count": 20
        },
        {
          "output_type": "display_data",
          "data": {
            "text/plain": [
              "<Figure size 360x360 with 1 Axes>"
            ],
            "image/png": "[encoded data removed]"
          },
          "metadata": {
            "needs_background": "light"
          }
        },
        {
          "output_type": "display_data",
          "data": {
            "text/plain": [
              "<Figure size 360x360 with 1 Axes>"
            ],
            "image/png": "[encoded data removed]"
          },
          "metadata": {
            "needs_background": "light"
          }
        }
      ],
      "source": [
        "#Kernel density estimation\n",
        "sns.displot(inf_rate, x=\"Inflation_Rate(%)\", kind=\"kde\")\n",
        "sns.displot(inf_rate, x=\"Annual_Change(%)\", kind=\"kde\")"
      ]
    },
    {
      "cell_type": "code",
      "execution_count": 21,
      "id": "cbf43f17",
      "metadata": {
        "colab": {
          "base_uri": "https://localhost:8080/",
          "height": 386
        },
        "id": "cbf43f17",
        "outputId": "f458ef65-4e60-411c-d10b-fc65c94a0297"
      },
      "outputs": [
        {
          "output_type": "stream",
          "name": "stderr",
          "text": [
            "/usr/local/lib/python3.7/dist-packages/seaborn/distributions.py:2619: FutureWarning: `distplot` is a deprecated function and will be removed in a future version. Please adapt your code to use either `displot` (a figure-level function with similar flexibility) or `histplot` (an axes-level function for histograms).\n",
            "  warnings.warn(msg, FutureWarning)\n",
            "/usr/local/lib/python3.7/dist-packages/seaborn/distributions.py:2619: FutureWarning: `distplot` is a deprecated function and will be removed in a future version. Please adapt your code to use either `displot` (a figure-level function with similar flexibility) or `histplot` (an axes-level function for histograms).\n",
            "  warnings.warn(msg, FutureWarning)\n"
          ]
        },
        {
          "output_type": "execute_result",
          "data": {
            "text/plain": [
              "<matplotlib.axes._subplots.AxesSubplot at 0x7f20a3185c90>"
            ]
          },
          "metadata": {},
          "execution_count": 21
        },
        {
          "output_type": "display_data",
          "data": {
            "text/plain": [
              "<Figure size 432x288 with 1 Axes>"
            ],
            "image/png": "[encoded data removed]"
          },
          "metadata": {
            "needs_background": "light"
          }
        }
      ],
      "source": [
        "sns.distplot(inf_rate[\"Inflation_Rate(%)\"])\n",
        "sns.distplot(inf_rate[\"Annual_Change(%)\"])"
      ]
    },
    {
      "cell_type": "code",
      "execution_count": 22,
      "id": "10b05441",
      "metadata": {
        "colab": {
          "base_uri": "https://localhost:8080/",
          "height": 894
        },
        "id": "10b05441",
        "outputId": "861f42d6-8ad0-488d-982f-4851d8f738e2"
      },
      "outputs": [
        {
          "output_type": "execute_result",
          "data": {
            "text/plain": [
              "<matplotlib.axes._subplots.AxesSubplot at 0x7f20a2f76950>"
            ]
          },
          "metadata": {},
          "execution_count": 22
        },
        {
          "output_type": "display_data",
          "data": {
            "text/plain": [
              "<Figure size 720x1080 with 1 Axes>"
            ],
            "image/png": "[encoded data removed]"
          },
          "metadata": {
            "needs_background": "light"
          }
        }
      ],
      "source": [
        "inf_rate.plot(figsize = (10,15))"
      ]
    },
    {
      "cell_type": "code",
      "execution_count": 27,
      "id": "454150cb",
      "metadata": {
        "colab": {
          "base_uri": "https://localhost:8080/",
          "height": 410
        },
        "id": "454150cb",
        "outputId": "f741f091-8024-49a7-8a2f-0d9131167164"
      },
      "outputs": [
        {
          "output_type": "execute_result",
          "data": {
            "text/plain": [
              "<matplotlib.axes._subplots.AxesSubplot at 0x7f20a0f302d0>"
            ]
          },
          "metadata": {},
          "execution_count": 27
        },
        {
          "output_type": "display_data",
          "data": {
            "text/plain": [
              "<Figure size 720x432 with 1 Axes>"
            ],
            "image/png": "[encoded data removed]"
          },
          "metadata": {
            "needs_background": "light"
          }
        }
      ],
      "source": [
        "autocorrelation_plot(inf_rate['Annual_Change(%)'])"
      ]
    },
    {
      "cell_type": "code",
      "source": [
        "autocorrelation_plot(inf_rate['Inflation_Rate(%)'])"
      ],
      "metadata": {
        "id": "4oD8GEwH1IOd",
        "outputId": "2f698d72-cb65-407d-d808-173e9ba26467",
        "colab": {
          "base_uri": "https://localhost:8080/",
          "height": 410
        }
      },
      "id": "4oD8GEwH1IOd",
      "execution_count": 29,
      "outputs": [
        {
          "output_type": "execute_result",
          "data": {
            "text/plain": [
              "<matplotlib.axes._subplots.AxesSubplot at 0x7f20a0d34f10>"
            ]
          },
          "metadata": {},
          "execution_count": 29
        },
        {
          "output_type": "display_data",
          "data": {
            "text/plain": [
              "<Figure size 720x432 with 1 Axes>"
            ],
            "image/png": "[encoded data removed]"
          },
          "metadata": {
            "needs_background": "light"
          }
        }
      ]
    },
    {
      "cell_type": "markdown",
      "id": "9abca699",
      "metadata": {
        "id": "9abca699"
      },
      "source": [
        "* Autocorrelation, also known as serial correlation, refers to the degree of correlation of the same variables between two successive time intervals.\n",
        "* The value of autocorrelation ranges from -1 to 1. A value between -1 and 0 represents negative autocorrelation. A value between 0 and 1 represents positive autocorrelation.\n",
        "* Autocorrelation gives information about the trend of a set of historical data, so it can be useful in the technical analysis for the equity market."
      ]
    },
    {
      "cell_type": "markdown",
      "id": "11eb88bf",
      "metadata": {
        "id": "11eb88bf"
      },
      "source": [
        "###### Autocorrelation and Partial Autocorrelation Plot: (ACF&PACF)\n",
        "These are important plots for time series. They graphically summarize the strength of the relationships of observations in time series.\n",
        "###### Autocorrelation Plot:\n",
        "In Autocorrelation, we calculate the correlation for time-series observations with previous time steps, called lags. Because the correlation of the time series observations is calculated with values of the same series at previous times, hence are called a serial correlation or an autocorrelation.\n",
        "\n",
        "The horizontal axis of an autocorrelation plot shows the size of the lag between the elements of the time series. In simple terms, The ‘kth’ lag is the time period that happened “k” time points before the time I. You can optionally set in how many lags you want to observe.\n",
        "\n",
        "The Autocorrelation Plot is used in a forecasting model for time series called Moving Averages\n",
        "\n",
        "###### PartialAutocorrelation Plot:\n",
        "A partial autocorrelation is a summary of the relationship between an observation in a time series with observations at prior time steps with the relationships of intervening observations removed. Meaning… The effects of the lags in between are removed and we can see the direct impact a previous observation has on the value to be predicted at a time(t).\n",
        "\n",
        "PACF can be computed by regression.\n",
        "\n",
        "Regression is a statistical method to determine the strength and character of the relationship between one dependant value and other variables that are independent.\n",
        "\n",
        "The PACF plot is used in the AutoRegressive Model for forecasting\n"
      ]
    },
    {
      "cell_type": "code",
      "execution_count": 24,
      "id": "d7fe1cf0",
      "metadata": {
        "colab": {
          "base_uri": "https://localhost:8080/",
          "height": 763
        },
        "id": "d7fe1cf0",
        "outputId": "50571644-3bcb-4907-bc87-cfe15b13432e"
      },
      "outputs": [
        {
          "output_type": "display_data",
          "data": {
            "text/plain": [
              "<Figure size 720x432 with 1 Axes>"
            ],
            "image/png": "[encoded data removed]"
          },
          "metadata": {
            "needs_background": "light"
          }
        },
        {
          "output_type": "display_data",
          "data": {
            "text/plain": [
              "<Figure size 720x432 with 1 Axes>"
            ],
            "image/png": "[encoded data removed]"
          },
          "metadata": {
            "needs_background": "light"
          }
        }
      ],
      "source": [
        "plt.rc(\"figure\", figsize=(10,6))\n",
        "sm.graphics.tsa.plot_acf(inf_rate['Inflation_Rate(%)']);\n",
        "plt.rc(\"figure\", figsize=(10,6))\n",
        "sm.graphics.tsa.plot_pacf(inf_rate['Inflation_Rate(%)']);"
      ]
    },
    {
      "cell_type": "code",
      "execution_count": 25,
      "id": "c36cf41f",
      "metadata": {
        "colab": {
          "base_uri": "https://localhost:8080/",
          "height": 763
        },
        "id": "c36cf41f",
        "outputId": "e56976f9-c8c5-4215-876d-666d5e566983"
      },
      "outputs": [
        {
          "output_type": "display_data",
          "data": {
            "text/plain": [
              "<Figure size 720x432 with 1 Axes>"
            ],
            "image/png": "[encoded data removed]"
          },
          "metadata": {
            "needs_background": "light"
          }
        },
        {
          "output_type": "display_data",
          "data": {
            "text/plain": [
              "<Figure size 720x432 with 1 Axes>"
            ],
            "image/png": "[encoded data removed]"
          },
          "metadata": {
            "needs_background": "light"
          }
        }
      ],
      "source": [
        "plt.rc(\"figure\", figsize=(10,6))\n",
        "sm.graphics.tsa.plot_acf(inf_rate['Annual_Change(%)']);\n",
        "plt.rc(\"figure\", figsize=(10,6))\n",
        "sm.graphics.tsa.plot_pacf(inf_rate['Annual_Change(%)']);"
      ]
    },
    {
      "cell_type": "code",
      "execution_count": 30,
      "id": "13c55d3e",
      "metadata": {
        "colab": {
          "base_uri": "https://localhost:8080/",
          "height": 738
        },
        "id": "13c55d3e",
        "outputId": "fa547985-4692-4d9f-c5e1-595ee2768354"
      },
      "outputs": [
        {
          "output_type": "execute_result",
          "data": {
            "text/plain": [
              "<seaborn.axisgrid.FacetGrid at 0x7f20a0d05f10>"
            ]
          },
          "metadata": {},
          "execution_count": 30
        },
        {
          "output_type": "display_data",
          "data": {
            "text/plain": [
              "<Figure size 360x360 with 1 Axes>"
            ],
            "image/png": "[encoded data removed]"
          },
          "metadata": {
            "needs_background": "light"
          }
        },
        {
          "output_type": "display_data",
          "data": {
            "text/plain": [
              "<Figure size 360x360 with 1 Axes>"
            ],
            "image/png": "[encoded data removed]"
          },
          "metadata": {
            "needs_background": "light"
          }
        }
      ],
      "source": [
        "#Empirical cumulative distributions\n",
        "sns.displot(inf_rate, x=\"Inflation_Rate(%)\", kind=\"ecdf\")\n",
        "sns.displot(inf_rate, x=\"Annual_Change(%)\", kind=\"ecdf\")"
      ]
    },
    {
      "cell_type": "code",
      "execution_count": null,
      "id": "d4790080",
      "metadata": {
        "id": "d4790080"
      },
      "outputs": [],
      "source": [
        "SPLITTING DATA"
      ]
    },
    {
      "cell_type": "code",
      "source": [
        "inf_rate"
      ],
      "metadata": {
        "colab": {
          "base_uri": "https://localhost:8080/",
          "height": 455
        },
        "id": "Vsehym6E9xq5",
        "outputId": "aa089301-c8b3-459d-ff16-07551b3bae1d"
      },
      "id": "Vsehym6E9xq5",
      "execution_count": 31,
      "outputs": [
        {
          "output_type": "execute_result",
          "data": {
            "text/plain": [
              "      Inflation_Rate(%)  Annual_Change(%)   t    t2         log t\n",
              "Year                                                             \n",
              "2020               6.62              2.90   1     1  -1.179142011\n",
              "2019               3.72             -0.22   2     4   -1.42945706\n",
              "2018               3.95              0.62   3     9  -1.403402904\n",
              "2017               3.33             -1.62   4    16  -1.477555766\n",
              "2016               4.95              0.04   5    25  -1.305394801\n",
              "...                 ...               ...  ..   ...           ...\n",
              "1964              13.36             10.41  57  3249  -0.874193542\n",
              "1963               2.95             -0.69  58  3364  -1.530177984\n",
              "1962               3.63              1.94  59  3481  -1.440093375\n",
              "1961               1.70             -0.08  60  3600  -1.769551079\n",
              "1960               1.78             -0.08  61  3721  -1.749579998\n",
              "\n",
              "[61 rows x 5 columns]"
            ],
            "text/html": [
              "\n",
              "  <div id=\"df-bfdf1623-14e4-4cc1-8556-165ba7b6d7ec\">\n",
              "    <div class=\"colab-df-container\">\n",
              "      <div>\n",
              "<style scoped>\n",
              "    .dataframe tbody tr th:only-of-type {\n",
              "        vertical-align: middle;\n",
              "    }\n",
              "\n",
              "    .dataframe tbody tr th {\n",
              "        vertical-align: top;\n",
              "    }\n",
              "\n",
              "    .dataframe thead th {\n",
              "        text-align: right;\n",
              "    }\n",
              "</style>\n",
              "<table border=\"1\" class=\"dataframe\">\n",
              "  <thead>\n",
              "    <tr style=\"text-align: right;\">\n",
              "      <th></th>\n",
              "      <th>Inflation_Rate(%)</th>\n",
              "      <th>Annual_Change(%)</th>\n",
              "      <th>t</th>\n",
              "      <th>t2</th>\n",
              "      <th>log t</th>\n",
              "    </tr>\n",
              "    <tr>\n",
              "      <th>Year</th>\n",
              "      <th></th>\n",
              "      <th></th>\n",
              "      <th></th>\n",
              "      <th></th>\n",
              "      <th></th>\n",
              "    </tr>\n",
              "  </thead>\n",
              "  <tbody>\n",
              "    <tr>\n",
              "      <th>2020</th>\n",
              "      <td>6.62</td>\n",
              "      <td>2.90</td>\n",
              "      <td>1</td>\n",
              "      <td>1</td>\n",
              "      <td>-1.179142011</td>\n",
              "    </tr>\n",
              "    <tr>\n",
              "      <th>2019</th>\n",
              "      <td>3.72</td>\n",
              "      <td>-0.22</td>\n",
              "      <td>2</td>\n",
              "      <td>4</td>\n",
              "      <td>-1.42945706</td>\n",
              "    </tr>\n",
              "    <tr>\n",
              "      <th>2018</th>\n",
              "      <td>3.95</td>\n",
              "      <td>0.62</td>\n",
              "      <td>3</td>\n",
              "      <td>9</td>\n",
              "      <td>-1.403402904</td>\n",
              "    </tr>\n",
              "    <tr>\n",
              "      <th>2017</th>\n",
              "      <td>3.33</td>\n",
              "      <td>-1.62</td>\n",
              "      <td>4</td>\n",
              "      <td>16</td>\n",
              "      <td>-1.477555766</td>\n",
              "    </tr>\n",
              "    <tr>\n",
              "      <th>2016</th>\n",
              "      <td>4.95</td>\n",
              "      <td>0.04</td>\n",
              "      <td>5</td>\n",
              "      <td>25</td>\n",
              "      <td>-1.305394801</td>\n",
              "    </tr>\n",
              "    <tr>\n",
              "      <th>...</th>\n",
              "      <td>...</td>\n",
              "      <td>...</td>\n",
              "      <td>...</td>\n",
              "      <td>...</td>\n",
              "      <td>...</td>\n",
              "    </tr>\n",
              "    <tr>\n",
              "      <th>1964</th>\n",
              "      <td>13.36</td>\n",
              "      <td>10.41</td>\n",
              "      <td>57</td>\n",
              "      <td>3249</td>\n",
              "      <td>-0.874193542</td>\n",
              "    </tr>\n",
              "    <tr>\n",
              "      <th>1963</th>\n",
              "      <td>2.95</td>\n",
              "      <td>-0.69</td>\n",
              "      <td>58</td>\n",
              "      <td>3364</td>\n",
              "      <td>-1.530177984</td>\n",
              "    </tr>\n",
              "    <tr>\n",
              "      <th>1962</th>\n",
              "      <td>3.63</td>\n",
              "      <td>1.94</td>\n",
              "      <td>59</td>\n",
              "      <td>3481</td>\n",
              "      <td>-1.440093375</td>\n",
              "    </tr>\n",
              "    <tr>\n",
              "      <th>1961</th>\n",
              "      <td>1.70</td>\n",
              "      <td>-0.08</td>\n",
              "      <td>60</td>\n",
              "      <td>3600</td>\n",
              "      <td>-1.769551079</td>\n",
              "    </tr>\n",
              "    <tr>\n",
              "      <th>1960</th>\n",
              "      <td>1.78</td>\n",
              "      <td>-0.08</td>\n",
              "      <td>61</td>\n",
              "      <td>3721</td>\n",
              "      <td>-1.749579998</td>\n",
              "    </tr>\n",
              "  </tbody>\n",
              "</table>\n",
              "<p>61 rows × 5 columns</p>\n",
              "</div>\n",
              "      <button class=\"colab-df-convert\" onclick=\"convertToInteractive('df-bfdf1623-14e4-4cc1-8556-165ba7b6d7ec')\"\n",
              "              title=\"Convert this dataframe to an interactive table.\"\n",
              "              style=\"display:none;\">\n",
              "        \n",
              "  <svg xmlns=\"http://www.w3.org/2000/svg\" height=\"24px\"viewBox=\"0 0 24 24\"\n",
              "       width=\"24px\">\n",
              "    <path d=\"M0 0h24v24H0V0z\" fill=\"none\"/>\n",
              "    <path d=\"M18.56 5.44l.94 2.06.94-2.06 2.06-.94-2.06-.94-.94-2.06-.94 2.06-2.06.94zm-11 1L8.5 8.5l.94-2.06 2.06-.94-2.06-.94L8.5 2.5l-.94 2.06-2.06.94zm10 10l.94 2.06.94-2.06 2.06-.94-2.06-.94-.94-2.06-.94 2.06-2.06.94z\"/><path d=\"M17.41 7.96l-1.37-1.37c-.4-.4-.92-.59-1.43-.59-.52 0-1.04.2-1.43.59L10.3 9.45l-7.72 7.72c-.78.78-.78 2.05 0 2.83L4 21.41c.39.39.9.59 1.41.59.51 0 1.02-.2 1.41-.59l7.78-7.78 2.81-2.81c.8-.78.8-2.07 0-2.86zM5.41 20L4 18.59l7.72-7.72 1.47 1.35L5.41 20z\"/>\n",
              "  </svg>\n",
              "      </button>\n",
              "      \n",
              "  <style>\n",
              "    .colab-df-container {\n",
              "      display:flex;\n",
              "      flex-wrap:wrap;\n",
              "      gap: 12px;\n",
              "    }\n",
              "\n",
              "    .colab-df-convert {\n",
              "      background-color: #E8F0FE;\n",
              "      border: none;\n",
              "      border-radius: 50%;\n",
              "      cursor: pointer;\n",
              "      display: none;\n",
              "      fill: #1967D2;\n",
              "      height: 32px;\n",
              "      padding: 0 0 0 0;\n",
              "      width: 32px;\n",
              "    }\n",
              "\n",
              "    .colab-df-convert:hover {\n",
              "      background-color: #E2EBFA;\n",
              "      box-shadow: 0px 1px 2px rgba(60, 64, 67, 0.3), 0px 1px 3px 1px rgba(60, 64, 67, 0.15);\n",
              "      fill: #174EA6;\n",
              "    }\n",
              "\n",
              "    [theme=dark] .colab-df-convert {\n",
              "      background-color: #3B4455;\n",
              "      fill: #D2E3FC;\n",
              "    }\n",
              "\n",
              "    [theme=dark] .colab-df-convert:hover {\n",
              "      background-color: #434B5C;\n",
              "      box-shadow: 0px 1px 3px 1px rgba(0, 0, 0, 0.15);\n",
              "      filter: drop-shadow(0px 1px 2px rgba(0, 0, 0, 0.3));\n",
              "      fill: #FFFFFF;\n",
              "    }\n",
              "  </style>\n",
              "\n",
              "      <script>\n",
              "        const buttonEl =\n",
              "          document.querySelector('#df-bfdf1623-14e4-4cc1-8556-165ba7b6d7ec button.colab-df-convert');\n",
              "        buttonEl.style.display =\n",
              "          google.colab.kernel.accessAllowed ? 'block' : 'none';\n",
              "\n",
              "        async function convertToInteractive(key) {\n",
              "          const element = document.querySelector('#df-bfdf1623-14e4-4cc1-8556-165ba7b6d7ec');\n",
              "          const dataTable =\n",
              "            await google.colab.kernel.invokeFunction('convertToInteractive',\n",
              "                                                     [key], {});\n",
              "          if (!dataTable) return;\n",
              "\n",
              "          const docLinkHtml = 'Like what you see? Visit the ' +\n",
              "            '<a target=\"_blank\" href=https://colab.research.google.com/notebooks/data_table.ipynb>data table notebook</a>'\n",
              "            + ' to learn more about interactive tables.';\n",
              "          element.innerHTML = '';\n",
              "          dataTable['output_type'] = 'display_data';\n",
              "          await google.colab.output.renderOutput(dataTable, element);\n",
              "          const docLink = document.createElement('div');\n",
              "          docLink.innerHTML = docLinkHtml;\n",
              "          element.appendChild(docLink);\n",
              "        }\n",
              "      </script>\n",
              "    </div>\n",
              "  </div>\n",
              "  "
            ]
          },
          "metadata": {},
          "execution_count": 31
        }
      ]
    },
    {
      "cell_type": "code",
      "source": [
        "Train= inf_rate.head(51)\n",
        "Test= inf_rate.tail(10)\n",
        "Train\n"
      ],
      "metadata": {
        "colab": {
          "base_uri": "https://localhost:8080/",
          "height": 1000
        },
        "id": "TZDK-opx9xvs",
        "outputId": "7c14061e-0026-48ac-9cfb-261a42d0cb9d"
      },
      "id": "TZDK-opx9xvs",
      "execution_count": 32,
      "outputs": [
        {
          "output_type": "execute_result",
          "data": {
            "text/plain": [
              "      Inflation_Rate(%)  Annual_Change(%)   t    t2         log t\n",
              "Year                                                             \n",
              "2020               6.62              2.90   1     1  -1.179142011\n",
              "2019               3.72             -0.22   2     4   -1.42945706\n",
              "2018               3.95              0.62   3     9  -1.403402904\n",
              "2017               3.33             -1.62   4    16  -1.477555766\n",
              "2016               4.95              0.04   5    25  -1.305394801\n",
              "2015               4.91             -1.74   6    36  -1.308918508\n",
              "2014               6.65             -4.41   7    49  -1.177178355\n",
              "2013              11.06              1.75   8    64  -0.956244873\n",
              "2012               9.31              0.45   9    81  -1.031050319\n",
              "2011               8.86             -3.13  10   100  -1.052566278\n",
              "2010              11.99              1.11  11   121  -0.921180817\n",
              "2009              10.88              2.53  12   144  -0.963371105\n",
              "2008               8.35              1.98  13   169  -1.078313525\n",
              "2007               6.37              0.58  14   196  -1.195860568\n",
              "2006               5.80              1.55  15   225  -1.236572006\n",
              "2005               4.25              0.48  16   256   -1.37161107\n",
              "2004               3.77             -0.04  17   289   -1.42365865\n",
              "2003               3.81             -0.49  18   324  -1.419075024\n",
              "2002               4.30              0.52  19   361  -1.366531544\n",
              "2001               3.78             -0.23  20   400    -1.4225082\n",
              "2000               4.01             -0.66  21   441  -1.396855627\n",
              "1999               4.67             -8.56  22   484  -1.330683119\n",
              "1998              13.23              6.07  23   529  -0.878440156\n",
              "1997               7.16             -1.81  24   576  -1.145086978\n",
              "1996               8.98             -1.25  25   625  -1.046723663\n",
              "1995              10.22             -0.02  26   676  -0.990549104\n",
              "1994              10.25              3.92  27   729  -0.989276135\n",
              "1993               6.33             -5.46  28   784   -1.19859629\n",
              "1992              11.79             -2.08  29   841  -0.928486195\n",
              "1991              13.87              4.90  30   900  -0.857923539\n",
              "1990               8.97              1.90  31   961  -1.047207557\n",
              "1989               7.07             -2.31  32  1024  -1.150580586\n",
              "1988               9.38              0.58  33  1089  -1.027797162\n",
              "1987               8.80              0.07  34  1156  -1.055517328\n",
              "1986               8.73              3.17  35  1225  -1.058985756\n",
              "1985               5.56             -2.76  36  1296  -1.254925208\n",
              "1984               8.32             -3.55  37  1369  -1.079876674\n",
              "1983              11.87              3.98  38  1444  -0.925549281\n",
              "1982               7.89             -5.22  39  1521  -1.102922997\n",
              "1981              13.11              1.77  40  1600  -0.882397308\n",
              "1980              11.35              5.07  41  1681  -0.945004138\n",
              "1979               6.28              3.75  42  1764  -1.202040356\n",
              "1978               2.52             -5.78  43  1849  -1.598599459\n",
              "1977               8.31             15.94  44  1936  -1.080398976\n",
              "1976              -7.63            -13.38  45  2025         #NUM!\n",
              "1975               5.75            -22.85  46  2116  -1.240332155\n",
              "1974              28.60             11.66  47  2209  -0.543633967\n",
              "1973              16.94             10.50  48  2304  -0.771086594\n",
              "1972               6.44              3.36  49  2401  -1.191114133\n",
              "1971               3.08             -2.01  50  2500  -1.511449283\n",
              "1970               5.09              5.68  51  2601  -1.293282218"
            ],
            "text/html": [
              "\n",
              "  <div id=\"df-7632de4c-2d1a-4955-9e43-0a11bfd8c8ff\">\n",
              "    <div class=\"colab-df-container\">\n",
              "      <div>\n",
              "<style scoped>\n",
              "    .dataframe tbody tr th:only-of-type {\n",
              "        vertical-align: middle;\n",
              "    }\n",
              "\n",
              "    .dataframe tbody tr th {\n",
              "        vertical-align: top;\n",
              "    }\n",
              "\n",
              "    .dataframe thead th {\n",
              "        text-align: right;\n",
              "    }\n",
              "</style>\n",
              "<table border=\"1\" class=\"dataframe\">\n",
              "  <thead>\n",
              "    <tr style=\"text-align: right;\">\n",
              "      <th></th>\n",
              "      <th>Inflation_Rate(%)</th>\n",
              "      <th>Annual_Change(%)</th>\n",
              "      <th>t</th>\n",
              "      <th>t2</th>\n",
              "      <th>log t</th>\n",
              "    </tr>\n",
              "    <tr>\n",
              "      <th>Year</th>\n",
              "      <th></th>\n",
              "      <th></th>\n",
              "      <th></th>\n",
              "      <th></th>\n",
              "      <th></th>\n",
              "    </tr>\n",
              "  </thead>\n",
              "  <tbody>\n",
              "    <tr>\n",
              "      <th>2020</th>\n",
              "      <td>6.62</td>\n",
              "      <td>2.90</td>\n",
              "      <td>1</td>\n",
              "      <td>1</td>\n",
              "      <td>-1.179142011</td>\n",
              "    </tr>\n",
              "    <tr>\n",
              "      <th>2019</th>\n",
              "      <td>3.72</td>\n",
              "      <td>-0.22</td>\n",
              "      <td>2</td>\n",
              "      <td>4</td>\n",
              "      <td>-1.42945706</td>\n",
              "    </tr>\n",
              "    <tr>\n",
              "      <th>2018</th>\n",
              "      <td>3.95</td>\n",
              "      <td>0.62</td>\n",
              "      <td>3</td>\n",
              "      <td>9</td>\n",
              "      <td>-1.403402904</td>\n",
              "    </tr>\n",
              "    <tr>\n",
              "      <th>2017</th>\n",
              "      <td>3.33</td>\n",
              "      <td>-1.62</td>\n",
              "      <td>4</td>\n",
              "      <td>16</td>\n",
              "      <td>-1.477555766</td>\n",
              "    </tr>\n",
              "    <tr>\n",
              "      <th>2016</th>\n",
              "      <td>4.95</td>\n",
              "      <td>0.04</td>\n",
              "      <td>5</td>\n",
              "      <td>25</td>\n",
              "      <td>-1.305394801</td>\n",
              "    </tr>\n",
              "    <tr>\n",
              "      <th>2015</th>\n",
              "      <td>4.91</td>\n",
              "      <td>-1.74</td>\n",
              "      <td>6</td>\n",
              "      <td>36</td>\n",
              "      <td>-1.308918508</td>\n",
              "    </tr>\n",
              "    <tr>\n",
              "      <th>2014</th>\n",
              "      <td>6.65</td>\n",
              "      <td>-4.41</td>\n",
              "      <td>7</td>\n",
              "      <td>49</td>\n",
              "      <td>-1.177178355</td>\n",
              "    </tr>\n",
              "    <tr>\n",
              "      <th>2013</th>\n",
              "      <td>11.06</td>\n",
              "      <td>1.75</td>\n",
              "      <td>8</td>\n",
              "      <td>64</td>\n",
              "      <td>-0.956244873</td>\n",
              "    </tr>\n",
              "    <tr>\n",
              "      <th>2012</th>\n",
              "      <td>9.31</td>\n",
              "      <td>0.45</td>\n",
              "      <td>9</td>\n",
              "      <td>81</td>\n",
              "      <td>-1.031050319</td>\n",
              "    </tr>\n",
              "    <tr>\n",
              "      <th>2011</th>\n",
              "      <td>8.86</td>\n",
              "      <td>-3.13</td>\n",
              "      <td>10</td>\n",
              "      <td>100</td>\n",
              "      <td>-1.052566278</td>\n",
              "    </tr>\n",
              "    <tr>\n",
              "      <th>2010</th>\n",
              "      <td>11.99</td>\n",
              "      <td>1.11</td>\n",
              "      <td>11</td>\n",
              "      <td>121</td>\n",
              "      <td>-0.921180817</td>\n",
              "    </tr>\n",
              "    <tr>\n",
              "      <th>2009</th>\n",
              "      <td>10.88</td>\n",
              "      <td>2.53</td>\n",
              "      <td>12</td>\n",
              "      <td>144</td>\n",
              "      <td>-0.963371105</td>\n",
              "    </tr>\n",
              "    <tr>\n",
              "      <th>2008</th>\n",
              "      <td>8.35</td>\n",
              "      <td>1.98</td>\n",
              "      <td>13</td>\n",
              "      <td>169</td>\n",
              "      <td>-1.078313525</td>\n",
              "    </tr>\n",
              "    <tr>\n",
              "      <th>2007</th>\n",
              "      <td>6.37</td>\n",
              "      <td>0.58</td>\n",
              "      <td>14</td>\n",
              "      <td>196</td>\n",
              "      <td>-1.195860568</td>\n",
              "    </tr>\n",
              "    <tr>\n",
              "      <th>2006</th>\n",
              "      <td>5.80</td>\n",
              "      <td>1.55</td>\n",
              "      <td>15</td>\n",
              "      <td>225</td>\n",
              "      <td>-1.236572006</td>\n",
              "    </tr>\n",
              "    <tr>\n",
              "      <th>2005</th>\n",
              "      <td>4.25</td>\n",
              "      <td>0.48</td>\n",
              "      <td>16</td>\n",
              "      <td>256</td>\n",
              "      <td>-1.37161107</td>\n",
              "    </tr>\n",
              "    <tr>\n",
              "      <th>2004</th>\n",
              "      <td>3.77</td>\n",
              "      <td>-0.04</td>\n",
              "      <td>17</td>\n",
              "      <td>289</td>\n",
              "      <td>-1.42365865</td>\n",
              "    </tr>\n",
              "    <tr>\n",
              "      <th>2003</th>\n",
              "      <td>3.81</td>\n",
              "      <td>-0.49</td>\n",
              "      <td>18</td>\n",
              "      <td>324</td>\n",
              "      <td>-1.419075024</td>\n",
              "    </tr>\n",
              "    <tr>\n",
              "      <th>2002</th>\n",
              "      <td>4.30</td>\n",
              "      <td>0.52</td>\n",
              "      <td>19</td>\n",
              "      <td>361</td>\n",
              "      <td>-1.366531544</td>\n",
              "    </tr>\n",
              "    <tr>\n",
              "      <th>2001</th>\n",
              "      <td>3.78</td>\n",
              "      <td>-0.23</td>\n",
              "      <td>20</td>\n",
              "      <td>400</td>\n",
              "      <td>-1.4225082</td>\n",
              "    </tr>\n",
              "    <tr>\n",
              "      <th>2000</th>\n",
              "      <td>4.01</td>\n",
              "      <td>-0.66</td>\n",
              "      <td>21</td>\n",
              "      <td>441</td>\n",
              "      <td>-1.396855627</td>\n",
              "    </tr>\n",
              "    <tr>\n",
              "      <th>1999</th>\n",
              "      <td>4.67</td>\n",
              "      <td>-8.56</td>\n",
              "      <td>22</td>\n",
              "      <td>484</td>\n",
              "      <td>-1.330683119</td>\n",
              "    </tr>\n",
              "    <tr>\n",
              "      <th>1998</th>\n",
              "      <td>13.23</td>\n",
              "      <td>6.07</td>\n",
              "      <td>23</td>\n",
              "      <td>529</td>\n",
              "      <td>-0.878440156</td>\n",
              "    </tr>\n",
              "    <tr>\n",
              "      <th>1997</th>\n",
              "      <td>7.16</td>\n",
              "      <td>-1.81</td>\n",
              "      <td>24</td>\n",
              "      <td>576</td>\n",
              "      <td>-1.145086978</td>\n",
              "    </tr>\n",
              "    <tr>\n",
              "      <th>1996</th>\n",
              "      <td>8.98</td>\n",
              "      <td>-1.25</td>\n",
              "      <td>25</td>\n",
              "      <td>625</td>\n",
              "      <td>-1.046723663</td>\n",
              "    </tr>\n",
              "    <tr>\n",
              "      <th>1995</th>\n",
              "      <td>10.22</td>\n",
              "      <td>-0.02</td>\n",
              "      <td>26</td>\n",
              "      <td>676</td>\n",
              "      <td>-0.990549104</td>\n",
              "    </tr>\n",
              "    <tr>\n",
              "      <th>1994</th>\n",
              "      <td>10.25</td>\n",
              "      <td>3.92</td>\n",
              "      <td>27</td>\n",
              "      <td>729</td>\n",
              "      <td>-0.989276135</td>\n",
              "    </tr>\n",
              "    <tr>\n",
              "      <th>1993</th>\n",
              "      <td>6.33</td>\n",
              "      <td>-5.46</td>\n",
              "      <td>28</td>\n",
              "      <td>784</td>\n",
              "      <td>-1.19859629</td>\n",
              "    </tr>\n",
              "    <tr>\n",
              "      <th>1992</th>\n",
              "      <td>11.79</td>\n",
              "      <td>-2.08</td>\n",
              "      <td>29</td>\n",
              "      <td>841</td>\n",
              "      <td>-0.928486195</td>\n",
              "    </tr>\n",
              "    <tr>\n",
              "      <th>1991</th>\n",
              "      <td>13.87</td>\n",
              "      <td>4.90</td>\n",
              "      <td>30</td>\n",
              "      <td>900</td>\n",
              "      <td>-0.857923539</td>\n",
              "    </tr>\n",
              "    <tr>\n",
              "      <th>1990</th>\n",
              "      <td>8.97</td>\n",
              "      <td>1.90</td>\n",
              "      <td>31</td>\n",
              "      <td>961</td>\n",
              "      <td>-1.047207557</td>\n",
              "    </tr>\n",
              "    <tr>\n",
              "      <th>1989</th>\n",
              "      <td>7.07</td>\n",
              "      <td>-2.31</td>\n",
              "      <td>32</td>\n",
              "      <td>1024</td>\n",
              "      <td>-1.150580586</td>\n",
              "    </tr>\n",
              "    <tr>\n",
              "      <th>1988</th>\n",
              "      <td>9.38</td>\n",
              "      <td>0.58</td>\n",
              "      <td>33</td>\n",
              "      <td>1089</td>\n",
              "      <td>-1.027797162</td>\n",
              "    </tr>\n",
              "    <tr>\n",
              "      <th>1987</th>\n",
              "      <td>8.80</td>\n",
              "      <td>0.07</td>\n",
              "      <td>34</td>\n",
              "      <td>1156</td>\n",
              "      <td>-1.055517328</td>\n",
              "    </tr>\n",
              "    <tr>\n",
              "      <th>1986</th>\n",
              "      <td>8.73</td>\n",
              "      <td>3.17</td>\n",
              "      <td>35</td>\n",
              "      <td>1225</td>\n",
              "      <td>-1.058985756</td>\n",
              "    </tr>\n",
              "    <tr>\n",
              "      <th>1985</th>\n",
              "      <td>5.56</td>\n",
              "      <td>-2.76</td>\n",
              "      <td>36</td>\n",
              "      <td>1296</td>\n",
              "      <td>-1.254925208</td>\n",
              "    </tr>\n",
              "    <tr>\n",
              "      <th>1984</th>\n",
              "      <td>8.32</td>\n",
              "      <td>-3.55</td>\n",
              "      <td>37</td>\n",
              "      <td>1369</td>\n",
              "      <td>-1.079876674</td>\n",
              "    </tr>\n",
              "    <tr>\n",
              "      <th>1983</th>\n",
              "      <td>11.87</td>\n",
              "      <td>3.98</td>\n",
              "      <td>38</td>\n",
              "      <td>1444</td>\n",
              "      <td>-0.925549281</td>\n",
              "    </tr>\n",
              "    <tr>\n",
              "      <th>1982</th>\n",
              "      <td>7.89</td>\n",
              "      <td>-5.22</td>\n",
              "      <td>39</td>\n",
              "      <td>1521</td>\n",
              "      <td>-1.102922997</td>\n",
              "    </tr>\n",
              "    <tr>\n",
              "      <th>1981</th>\n",
              "      <td>13.11</td>\n",
              "      <td>1.77</td>\n",
              "      <td>40</td>\n",
              "      <td>1600</td>\n",
              "      <td>-0.882397308</td>\n",
              "    </tr>\n",
              "    <tr>\n",
              "      <th>1980</th>\n",
              "      <td>11.35</td>\n",
              "      <td>5.07</td>\n",
              "      <td>41</td>\n",
              "      <td>1681</td>\n",
              "      <td>-0.945004138</td>\n",
              "    </tr>\n",
              "    <tr>\n",
              "      <th>1979</th>\n",
              "      <td>6.28</td>\n",
              "      <td>3.75</td>\n",
              "      <td>42</td>\n",
              "      <td>1764</td>\n",
              "      <td>-1.202040356</td>\n",
              "    </tr>\n",
              "    <tr>\n",
              "      <th>1978</th>\n",
              "      <td>2.52</td>\n",
              "      <td>-5.78</td>\n",
              "      <td>43</td>\n",
              "      <td>1849</td>\n",
              "      <td>-1.598599459</td>\n",
              "    </tr>\n",
              "    <tr>\n",
              "      <th>1977</th>\n",
              "      <td>8.31</td>\n",
              "      <td>15.94</td>\n",
              "      <td>44</td>\n",
              "      <td>1936</td>\n",
              "      <td>-1.080398976</td>\n",
              "    </tr>\n",
              "    <tr>\n",
              "      <th>1976</th>\n",
              "      <td>-7.63</td>\n",
              "      <td>-13.38</td>\n",
              "      <td>45</td>\n",
              "      <td>2025</td>\n",
              "      <td>#NUM!</td>\n",
              "    </tr>\n",
              "    <tr>\n",
              "      <th>1975</th>\n",
              "      <td>5.75</td>\n",
              "      <td>-22.85</td>\n",
              "      <td>46</td>\n",
              "      <td>2116</td>\n",
              "      <td>-1.240332155</td>\n",
              "    </tr>\n",
              "    <tr>\n",
              "      <th>1974</th>\n",
              "      <td>28.60</td>\n",
              "      <td>11.66</td>\n",
              "      <td>47</td>\n",
              "      <td>2209</td>\n",
              "      <td>-0.543633967</td>\n",
              "    </tr>\n",
              "    <tr>\n",
              "      <th>1973</th>\n",
              "      <td>16.94</td>\n",
              "      <td>10.50</td>\n",
              "      <td>48</td>\n",
              "      <td>2304</td>\n",
              "      <td>-0.771086594</td>\n",
              "    </tr>\n",
              "    <tr>\n",
              "      <th>1972</th>\n",
              "      <td>6.44</td>\n",
              "      <td>3.36</td>\n",
              "      <td>49</td>\n",
              "      <td>2401</td>\n",
              "      <td>-1.191114133</td>\n",
              "    </tr>\n",
              "    <tr>\n",
              "      <th>1971</th>\n",
              "      <td>3.08</td>\n",
              "      <td>-2.01</td>\n",
              "      <td>50</td>\n",
              "      <td>2500</td>\n",
              "      <td>-1.511449283</td>\n",
              "    </tr>\n",
              "    <tr>\n",
              "      <th>1970</th>\n",
              "      <td>5.09</td>\n",
              "      <td>5.68</td>\n",
              "      <td>51</td>\n",
              "      <td>2601</td>\n",
              "      <td>-1.293282218</td>\n",
              "    </tr>\n",
              "  </tbody>\n",
              "</table>\n",
              "</div>\n",
              "      <button class=\"colab-df-convert\" onclick=\"convertToInteractive('df-7632de4c-2d1a-4955-9e43-0a11bfd8c8ff')\"\n",
              "              title=\"Convert this dataframe to an interactive table.\"\n",
              "              style=\"display:none;\">\n",
              "        \n",
              "  <svg xmlns=\"http://www.w3.org/2000/svg\" height=\"24px\"viewBox=\"0 0 24 24\"\n",
              "       width=\"24px\">\n",
              "    <path d=\"M0 0h24v24H0V0z\" fill=\"none\"/>\n",
              "    <path d=\"M18.56 5.44l.94 2.06.94-2.06 2.06-.94-2.06-.94-.94-2.06-.94 2.06-2.06.94zm-11 1L8.5 8.5l.94-2.06 2.06-.94-2.06-.94L8.5 2.5l-.94 2.06-2.06.94zm10 10l.94 2.06.94-2.06 2.06-.94-2.06-.94-.94-2.06-.94 2.06-2.06.94z\"/><path d=\"M17.41 7.96l-1.37-1.37c-.4-.4-.92-.59-1.43-.59-.52 0-1.04.2-1.43.59L10.3 9.45l-7.72 7.72c-.78.78-.78 2.05 0 2.83L4 21.41c.39.39.9.59 1.41.59.51 0 1.02-.2 1.41-.59l7.78-7.78 2.81-2.81c.8-.78.8-2.07 0-2.86zM5.41 20L4 18.59l7.72-7.72 1.47 1.35L5.41 20z\"/>\n",
              "  </svg>\n",
              "      </button>\n",
              "      \n",
              "  <style>\n",
              "    .colab-df-container {\n",
              "      display:flex;\n",
              "      flex-wrap:wrap;\n",
              "      gap: 12px;\n",
              "    }\n",
              "\n",
              "    .colab-df-convert {\n",
              "      background-color: #E8F0FE;\n",
              "      border: none;\n",
              "      border-radius: 50%;\n",
              "      cursor: pointer;\n",
              "      display: none;\n",
              "      fill: #1967D2;\n",
              "      height: 32px;\n",
              "      padding: 0 0 0 0;\n",
              "      width: 32px;\n",
              "    }\n",
              "\n",
              "    .colab-df-convert:hover {\n",
              "      background-color: #E2EBFA;\n",
              "      box-shadow: 0px 1px 2px rgba(60, 64, 67, 0.3), 0px 1px 3px 1px rgba(60, 64, 67, 0.15);\n",
              "      fill: #174EA6;\n",
              "    }\n",
              "\n",
              "    [theme=dark] .colab-df-convert {\n",
              "      background-color: #3B4455;\n",
              "      fill: #D2E3FC;\n",
              "    }\n",
              "\n",
              "    [theme=dark] .colab-df-convert:hover {\n",
              "      background-color: #434B5C;\n",
              "      box-shadow: 0px 1px 3px 1px rgba(0, 0, 0, 0.15);\n",
              "      filter: drop-shadow(0px 1px 2px rgba(0, 0, 0, 0.3));\n",
              "      fill: #FFFFFF;\n",
              "    }\n",
              "  </style>\n",
              "\n",
              "      <script>\n",
              "        const buttonEl =\n",
              "          document.querySelector('#df-7632de4c-2d1a-4955-9e43-0a11bfd8c8ff button.colab-df-convert');\n",
              "        buttonEl.style.display =\n",
              "          google.colab.kernel.accessAllowed ? 'block' : 'none';\n",
              "\n",
              "        async function convertToInteractive(key) {\n",
              "          const element = document.querySelector('#df-7632de4c-2d1a-4955-9e43-0a11bfd8c8ff');\n",
              "          const dataTable =\n",
              "            await google.colab.kernel.invokeFunction('convertToInteractive',\n",
              "                                                     [key], {});\n",
              "          if (!dataTable) return;\n",
              "\n",
              "          const docLinkHtml = 'Like what you see? Visit the ' +\n",
              "            '<a target=\"_blank\" href=https://colab.research.google.com/notebooks/data_table.ipynb>data table notebook</a>'\n",
              "            + ' to learn more about interactive tables.';\n",
              "          element.innerHTML = '';\n",
              "          dataTable['output_type'] = 'display_data';\n",
              "          await google.colab.output.renderOutput(dataTable, element);\n",
              "          const docLink = document.createElement('div');\n",
              "          docLink.innerHTML = docLinkHtml;\n",
              "          element.appendChild(docLink);\n",
              "        }\n",
              "      </script>\n",
              "    </div>\n",
              "  </div>\n",
              "  "
            ]
          },
          "metadata": {},
          "execution_count": 32
        }
      ]
    },
    {
      "cell_type": "code",
      "source": [
        "Test"
      ],
      "metadata": {
        "colab": {
          "base_uri": "https://localhost:8080/",
          "height": 394
        },
        "id": "nNTLl5Ri9xzz",
        "outputId": "2cac020f-7bee-438a-d63f-ae6e8477095c"
      },
      "id": "nNTLl5Ri9xzz",
      "execution_count": 33,
      "outputs": [
        {
          "output_type": "execute_result",
          "data": {
            "text/plain": [
              "      Inflation_Rate(%)  Annual_Change(%)   t    t2         log t\n",
              "Year                                                             \n",
              "1969              -0.58             -3.82  52  2704         #NUM!\n",
              "1968               3.24             -9.82  53  2809   -1.48945499\n",
              "1967              13.06              2.26  54  2916  -0.884056823\n",
              "1966              10.80              1.33  55  3025  -0.966576245\n",
              "1965               9.47             -3.88  56  3136  -1.023650021\n",
              "1964              13.36             10.41  57  3249  -0.874193542\n",
              "1963               2.95             -0.69  58  3364  -1.530177984\n",
              "1962               3.63              1.94  59  3481  -1.440093375\n",
              "1961               1.70             -0.08  60  3600  -1.769551079\n",
              "1960               1.78             -0.08  61  3721  -1.749579998"
            ],
            "text/html": [
              "\n",
              "  <div id=\"df-ae705dd6-798d-474a-bdb1-d5d3ccdc378a\">\n",
              "    <div class=\"colab-df-container\">\n",
              "      <div>\n",
              "<style scoped>\n",
              "    .dataframe tbody tr th:only-of-type {\n",
              "        vertical-align: middle;\n",
              "    }\n",
              "\n",
              "    .dataframe tbody tr th {\n",
              "        vertical-align: top;\n",
              "    }\n",
              "\n",
              "    .dataframe thead th {\n",
              "        text-align: right;\n",
              "    }\n",
              "</style>\n",
              "<table border=\"1\" class=\"dataframe\">\n",
              "  <thead>\n",
              "    <tr style=\"text-align: right;\">\n",
              "      <th></th>\n",
              "      <th>Inflation_Rate(%)</th>\n",
              "      <th>Annual_Change(%)</th>\n",
              "      <th>t</th>\n",
              "      <th>t2</th>\n",
              "      <th>log t</th>\n",
              "    </tr>\n",
              "    <tr>\n",
              "      <th>Year</th>\n",
              "      <th></th>\n",
              "      <th></th>\n",
              "      <th></th>\n",
              "      <th></th>\n",
              "      <th></th>\n",
              "    </tr>\n",
              "  </thead>\n",
              "  <tbody>\n",
              "    <tr>\n",
              "      <th>1969</th>\n",
              "      <td>-0.58</td>\n",
              "      <td>-3.82</td>\n",
              "      <td>52</td>\n",
              "      <td>2704</td>\n",
              "      <td>#NUM!</td>\n",
              "    </tr>\n",
              "    <tr>\n",
              "      <th>1968</th>\n",
              "      <td>3.24</td>\n",
              "      <td>-9.82</td>\n",
              "      <td>53</td>\n",
              "      <td>2809</td>\n",
              "      <td>-1.48945499</td>\n",
              "    </tr>\n",
              "    <tr>\n",
              "      <th>1967</th>\n",
              "      <td>13.06</td>\n",
              "      <td>2.26</td>\n",
              "      <td>54</td>\n",
              "      <td>2916</td>\n",
              "      <td>-0.884056823</td>\n",
              "    </tr>\n",
              "    <tr>\n",
              "      <th>1966</th>\n",
              "      <td>10.80</td>\n",
              "      <td>1.33</td>\n",
              "      <td>55</td>\n",
              "      <td>3025</td>\n",
              "      <td>-0.966576245</td>\n",
              "    </tr>\n",
              "    <tr>\n",
              "      <th>1965</th>\n",
              "      <td>9.47</td>\n",
              "      <td>-3.88</td>\n",
              "      <td>56</td>\n",
              "      <td>3136</td>\n",
              "      <td>-1.023650021</td>\n",
              "    </tr>\n",
              "    <tr>\n",
              "      <th>1964</th>\n",
              "      <td>13.36</td>\n",
              "      <td>10.41</td>\n",
              "      <td>57</td>\n",
              "      <td>3249</td>\n",
              "      <td>-0.874193542</td>\n",
              "    </tr>\n",
              "    <tr>\n",
              "      <th>1963</th>\n",
              "      <td>2.95</td>\n",
              "      <td>-0.69</td>\n",
              "      <td>58</td>\n",
              "      <td>3364</td>\n",
              "      <td>-1.530177984</td>\n",
              "    </tr>\n",
              "    <tr>\n",
              "      <th>1962</th>\n",
              "      <td>3.63</td>\n",
              "      <td>1.94</td>\n",
              "      <td>59</td>\n",
              "      <td>3481</td>\n",
              "      <td>-1.440093375</td>\n",
              "    </tr>\n",
              "    <tr>\n",
              "      <th>1961</th>\n",
              "      <td>1.70</td>\n",
              "      <td>-0.08</td>\n",
              "      <td>60</td>\n",
              "      <td>3600</td>\n",
              "      <td>-1.769551079</td>\n",
              "    </tr>\n",
              "    <tr>\n",
              "      <th>1960</th>\n",
              "      <td>1.78</td>\n",
              "      <td>-0.08</td>\n",
              "      <td>61</td>\n",
              "      <td>3721</td>\n",
              "      <td>-1.749579998</td>\n",
              "    </tr>\n",
              "  </tbody>\n",
              "</table>\n",
              "</div>\n",
              "      <button class=\"colab-df-convert\" onclick=\"convertToInteractive('df-ae705dd6-798d-474a-bdb1-d5d3ccdc378a')\"\n",
              "              title=\"Convert this dataframe to an interactive table.\"\n",
              "              style=\"display:none;\">\n",
              "        \n",
              "  <svg xmlns=\"http://www.w3.org/2000/svg\" height=\"24px\"viewBox=\"0 0 24 24\"\n",
              "       width=\"24px\">\n",
              "    <path d=\"M0 0h24v24H0V0z\" fill=\"none\"/>\n",
              "    <path d=\"M18.56 5.44l.94 2.06.94-2.06 2.06-.94-2.06-.94-.94-2.06-.94 2.06-2.06.94zm-11 1L8.5 8.5l.94-2.06 2.06-.94-2.06-.94L8.5 2.5l-.94 2.06-2.06.94zm10 10l.94 2.06.94-2.06 2.06-.94-2.06-.94-.94-2.06-.94 2.06-2.06.94z\"/><path d=\"M17.41 7.96l-1.37-1.37c-.4-.4-.92-.59-1.43-.59-.52 0-1.04.2-1.43.59L10.3 9.45l-7.72 7.72c-.78.78-.78 2.05 0 2.83L4 21.41c.39.39.9.59 1.41.59.51 0 1.02-.2 1.41-.59l7.78-7.78 2.81-2.81c.8-.78.8-2.07 0-2.86zM5.41 20L4 18.59l7.72-7.72 1.47 1.35L5.41 20z\"/>\n",
              "  </svg>\n",
              "      </button>\n",
              "      \n",
              "  <style>\n",
              "    .colab-df-container {\n",
              "      display:flex;\n",
              "      flex-wrap:wrap;\n",
              "      gap: 12px;\n",
              "    }\n",
              "\n",
              "    .colab-df-convert {\n",
              "      background-color: #E8F0FE;\n",
              "      border: none;\n",
              "      border-radius: 50%;\n",
              "      cursor: pointer;\n",
              "      display: none;\n",
              "      fill: #1967D2;\n",
              "      height: 32px;\n",
              "      padding: 0 0 0 0;\n",
              "      width: 32px;\n",
              "    }\n",
              "\n",
              "    .colab-df-convert:hover {\n",
              "      background-color: #E2EBFA;\n",
              "      box-shadow: 0px 1px 2px rgba(60, 64, 67, 0.3), 0px 1px 3px 1px rgba(60, 64, 67, 0.15);\n",
              "      fill: #174EA6;\n",
              "    }\n",
              "\n",
              "    [theme=dark] .colab-df-convert {\n",
              "      background-color: #3B4455;\n",
              "      fill: #D2E3FC;\n",
              "    }\n",
              "\n",
              "    [theme=dark] .colab-df-convert:hover {\n",
              "      background-color: #434B5C;\n",
              "      box-shadow: 0px 1px 3px 1px rgba(0, 0, 0, 0.15);\n",
              "      filter: drop-shadow(0px 1px 2px rgba(0, 0, 0, 0.3));\n",
              "      fill: #FFFFFF;\n",
              "    }\n",
              "  </style>\n",
              "\n",
              "      <script>\n",
              "        const buttonEl =\n",
              "          document.querySelector('#df-ae705dd6-798d-474a-bdb1-d5d3ccdc378a button.colab-df-convert');\n",
              "        buttonEl.style.display =\n",
              "          google.colab.kernel.accessAllowed ? 'block' : 'none';\n",
              "\n",
              "        async function convertToInteractive(key) {\n",
              "          const element = document.querySelector('#df-ae705dd6-798d-474a-bdb1-d5d3ccdc378a');\n",
              "          const dataTable =\n",
              "            await google.colab.kernel.invokeFunction('convertToInteractive',\n",
              "                                                     [key], {});\n",
              "          if (!dataTable) return;\n",
              "\n",
              "          const docLinkHtml = 'Like what you see? Visit the ' +\n",
              "            '<a target=\"_blank\" href=https://colab.research.google.com/notebooks/data_table.ipynb>data table notebook</a>'\n",
              "            + ' to learn more about interactive tables.';\n",
              "          element.innerHTML = '';\n",
              "          dataTable['output_type'] = 'display_data';\n",
              "          await google.colab.output.renderOutput(dataTable, element);\n",
              "          const docLink = document.createElement('div');\n",
              "          docLink.innerHTML = docLinkHtml;\n",
              "          element.appendChild(docLink);\n",
              "        }\n",
              "      </script>\n",
              "    </div>\n",
              "  </div>\n",
              "  "
            ]
          },
          "metadata": {},
          "execution_count": 33
        }
      ]
    },
    {
      "cell_type": "code",
      "source": [
        ""
      ],
      "metadata": {
        "id": "SIXKwZG99x80"
      },
      "id": "SIXKwZG99x80",
      "execution_count": null,
      "outputs": []
    },
    {
      "cell_type": "code",
      "source": [
        ""
      ],
      "metadata": {
        "id": "au0aOxfY9x-v"
      },
      "id": "au0aOxfY9x-v",
      "execution_count": null,
      "outputs": []
    },
    {
      "cell_type": "code",
      "source": [
        ""
      ],
      "metadata": {
        "id": "9QtNvepg9yA3"
      },
      "id": "9QtNvepg9yA3",
      "execution_count": null,
      "outputs": []
    },
    {
      "cell_type": "code",
      "source": [
        ""
      ],
      "metadata": {
        "id": "OQX-zYE99yDO"
      },
      "id": "OQX-zYE99yDO",
      "execution_count": null,
      "outputs": []
    },
    {
      "cell_type": "code",
      "source": [
        ""
      ],
      "metadata": {
        "id": "kiRGkOZA9yGA"
      },
      "id": "kiRGkOZA9yGA",
      "execution_count": null,
      "outputs": []
    },
    {
      "cell_type": "code",
      "source": [
        ""
      ],
      "metadata": {
        "id": "qEJ6Ifo-9yIs"
      },
      "id": "qEJ6Ifo-9yIs",
      "execution_count": null,
      "outputs": []
    },
    {
      "cell_type": "code",
      "source": [
        ""
      ],
      "metadata": {
        "id": "1MyBS0bP9yK7"
      },
      "id": "1MyBS0bP9yK7",
      "execution_count": null,
      "outputs": []
    },
    {
      "cell_type": "code",
      "source": [
        ""
      ],
      "metadata": {
        "id": "OOR22jpK9yOd"
      },
      "id": "OOR22jpK9yOd",
      "execution_count": null,
      "outputs": []
    }
  ],
  "metadata": {
    "kernelspec": {
      "display_name": "Python 3",
      "language": "python",
      "name": "python3"
    },
    "language_info": {
      "codemirror_mode": {
        "name": "ipython",
        "version": 3
      },
      "file_extension": ".py",
      "mimetype": "text/x-python",
      "name": "python",
      "nbconvert_exporter": "python",
      "pygments_lexer": "ipython3",
      "version": "3.8.8"
    },
    "colab": {
      "name": "P104 - model .ipynb",
      "provenance": [],
      "include_colab_link": true
    }
  },
  "nbformat": 4,
  "nbformat_minor": 5
}